{
  "cells": [
    {
      "cell_type": "markdown",
      "metadata": {
        "id": "view-in-github",
        "colab_type": "text"
      },
      "source": [
        "<a href=\"https://colab.research.google.com/github/NivedithaGunapati/G7_DS/blob/main/Mini%20Projects/Niveditha/house.ipynb\" target=\"_parent\"><img src=\"https://colab.research.google.com/assets/colab-badge.svg\" alt=\"Open In Colab\"/></a>"
      ]
    },
    {
      "cell_type": "code",
      "execution_count": null,
      "id": "e6e8b5a3",
      "metadata": {
        "id": "e6e8b5a3"
      },
      "outputs": [],
      "source": [
        "import pandas as pd\n",
        "import seaborn as sns\n",
        "import numpy as np\n",
        "import matplotlib.pyplot as plt"
      ]
    },
    {
      "cell_type": "code",
      "execution_count": null,
      "id": "664e7dbf",
      "metadata": {
        "id": "664e7dbf"
      },
      "outputs": [],
      "source": [
        "df=pd.read_csv(\"//home//student//Desktop//suretrust//House_Price.csv\",header=0)"
      ]
    },
    {
      "cell_type": "code",
      "execution_count": null,
      "id": "b87e439f",
      "metadata": {
        "id": "b87e439f",
        "outputId": "000a66bd-91a1-4742-a1e0-65f128d048fe"
      },
      "outputs": [
        {
          "data": {
            "text/html": [
              "<div>\n",
              "<style scoped>\n",
              "    .dataframe tbody tr th:only-of-type {\n",
              "        vertical-align: middle;\n",
              "    }\n",
              "\n",
              "    .dataframe tbody tr th {\n",
              "        vertical-align: top;\n",
              "    }\n",
              "\n",
              "    .dataframe thead th {\n",
              "        text-align: right;\n",
              "    }\n",
              "</style>\n",
              "<table border=\"1\" class=\"dataframe\">\n",
              "  <thead>\n",
              "    <tr style=\"text-align: right;\">\n",
              "      <th></th>\n",
              "      <th>price</th>\n",
              "      <th>crime_rate</th>\n",
              "      <th>resid_area</th>\n",
              "      <th>air_qual</th>\n",
              "      <th>room_num</th>\n",
              "      <th>age</th>\n",
              "      <th>dist1</th>\n",
              "      <th>dist2</th>\n",
              "      <th>dist3</th>\n",
              "      <th>dist4</th>\n",
              "      <th>teachers</th>\n",
              "      <th>poor_prop</th>\n",
              "      <th>airport</th>\n",
              "      <th>n_hos_beds</th>\n",
              "      <th>n_hot_rooms</th>\n",
              "      <th>waterbody</th>\n",
              "      <th>rainfall</th>\n",
              "      <th>bus_ter</th>\n",
              "      <th>parks</th>\n",
              "    </tr>\n",
              "  </thead>\n",
              "  <tbody>\n",
              "    <tr>\n",
              "      <th>0</th>\n",
              "      <td>24.0</td>\n",
              "      <td>0.00632</td>\n",
              "      <td>32.31</td>\n",
              "      <td>0.538</td>\n",
              "      <td>6.575</td>\n",
              "      <td>65.2</td>\n",
              "      <td>4.35</td>\n",
              "      <td>3.81</td>\n",
              "      <td>4.18</td>\n",
              "      <td>4.01</td>\n",
              "      <td>24.7</td>\n",
              "      <td>4.98</td>\n",
              "      <td>YES</td>\n",
              "      <td>5.480</td>\n",
              "      <td>11.1920</td>\n",
              "      <td>River</td>\n",
              "      <td>23</td>\n",
              "      <td>YES</td>\n",
              "      <td>0.049347</td>\n",
              "    </tr>\n",
              "    <tr>\n",
              "      <th>1</th>\n",
              "      <td>21.6</td>\n",
              "      <td>0.02731</td>\n",
              "      <td>37.07</td>\n",
              "      <td>0.469</td>\n",
              "      <td>6.421</td>\n",
              "      <td>78.9</td>\n",
              "      <td>4.99</td>\n",
              "      <td>4.70</td>\n",
              "      <td>5.12</td>\n",
              "      <td>5.06</td>\n",
              "      <td>22.2</td>\n",
              "      <td>9.14</td>\n",
              "      <td>NO</td>\n",
              "      <td>7.332</td>\n",
              "      <td>12.1728</td>\n",
              "      <td>Lake</td>\n",
              "      <td>42</td>\n",
              "      <td>YES</td>\n",
              "      <td>0.046146</td>\n",
              "    </tr>\n",
              "    <tr>\n",
              "      <th>2</th>\n",
              "      <td>34.7</td>\n",
              "      <td>0.02729</td>\n",
              "      <td>37.07</td>\n",
              "      <td>0.469</td>\n",
              "      <td>7.185</td>\n",
              "      <td>61.1</td>\n",
              "      <td>5.03</td>\n",
              "      <td>4.86</td>\n",
              "      <td>5.01</td>\n",
              "      <td>4.97</td>\n",
              "      <td>22.2</td>\n",
              "      <td>4.03</td>\n",
              "      <td>NO</td>\n",
              "      <td>7.394</td>\n",
              "      <td>101.1200</td>\n",
              "      <td>None</td>\n",
              "      <td>38</td>\n",
              "      <td>YES</td>\n",
              "      <td>0.045764</td>\n",
              "    </tr>\n",
              "    <tr>\n",
              "      <th>3</th>\n",
              "      <td>33.4</td>\n",
              "      <td>0.03237</td>\n",
              "      <td>32.18</td>\n",
              "      <td>0.458</td>\n",
              "      <td>6.998</td>\n",
              "      <td>45.8</td>\n",
              "      <td>6.21</td>\n",
              "      <td>5.93</td>\n",
              "      <td>6.16</td>\n",
              "      <td>5.96</td>\n",
              "      <td>21.3</td>\n",
              "      <td>2.94</td>\n",
              "      <td>YES</td>\n",
              "      <td>9.268</td>\n",
              "      <td>11.2672</td>\n",
              "      <td>Lake</td>\n",
              "      <td>45</td>\n",
              "      <td>YES</td>\n",
              "      <td>0.047151</td>\n",
              "    </tr>\n",
              "    <tr>\n",
              "      <th>4</th>\n",
              "      <td>36.2</td>\n",
              "      <td>0.06905</td>\n",
              "      <td>32.18</td>\n",
              "      <td>0.458</td>\n",
              "      <td>7.147</td>\n",
              "      <td>54.2</td>\n",
              "      <td>6.16</td>\n",
              "      <td>5.86</td>\n",
              "      <td>6.37</td>\n",
              "      <td>5.86</td>\n",
              "      <td>21.3</td>\n",
              "      <td>5.33</td>\n",
              "      <td>NO</td>\n",
              "      <td>8.824</td>\n",
              "      <td>11.2896</td>\n",
              "      <td>Lake</td>\n",
              "      <td>55</td>\n",
              "      <td>YES</td>\n",
              "      <td>0.039474</td>\n",
              "    </tr>\n",
              "    <tr>\n",
              "      <th>...</th>\n",
              "      <td>...</td>\n",
              "      <td>...</td>\n",
              "      <td>...</td>\n",
              "      <td>...</td>\n",
              "      <td>...</td>\n",
              "      <td>...</td>\n",
              "      <td>...</td>\n",
              "      <td>...</td>\n",
              "      <td>...</td>\n",
              "      <td>...</td>\n",
              "      <td>...</td>\n",
              "      <td>...</td>\n",
              "      <td>...</td>\n",
              "      <td>...</td>\n",
              "      <td>...</td>\n",
              "      <td>...</td>\n",
              "      <td>...</td>\n",
              "      <td>...</td>\n",
              "      <td>...</td>\n",
              "    </tr>\n",
              "    <tr>\n",
              "      <th>501</th>\n",
              "      <td>22.4</td>\n",
              "      <td>0.06263</td>\n",
              "      <td>41.93</td>\n",
              "      <td>0.573</td>\n",
              "      <td>6.593</td>\n",
              "      <td>69.1</td>\n",
              "      <td>2.64</td>\n",
              "      <td>2.45</td>\n",
              "      <td>2.76</td>\n",
              "      <td>2.06</td>\n",
              "      <td>19.0</td>\n",
              "      <td>9.67</td>\n",
              "      <td>NO</td>\n",
              "      <td>9.348</td>\n",
              "      <td>12.1792</td>\n",
              "      <td>Lake and River</td>\n",
              "      <td>27</td>\n",
              "      <td>YES</td>\n",
              "      <td>0.056006</td>\n",
              "    </tr>\n",
              "    <tr>\n",
              "      <th>502</th>\n",
              "      <td>20.6</td>\n",
              "      <td>0.04527</td>\n",
              "      <td>41.93</td>\n",
              "      <td>0.573</td>\n",
              "      <td>6.120</td>\n",
              "      <td>76.7</td>\n",
              "      <td>2.44</td>\n",
              "      <td>2.11</td>\n",
              "      <td>2.46</td>\n",
              "      <td>2.14</td>\n",
              "      <td>19.0</td>\n",
              "      <td>9.08</td>\n",
              "      <td>YES</td>\n",
              "      <td>6.612</td>\n",
              "      <td>13.1648</td>\n",
              "      <td>Lake and River</td>\n",
              "      <td>20</td>\n",
              "      <td>YES</td>\n",
              "      <td>0.059903</td>\n",
              "    </tr>\n",
              "    <tr>\n",
              "      <th>503</th>\n",
              "      <td>23.9</td>\n",
              "      <td>0.06076</td>\n",
              "      <td>41.93</td>\n",
              "      <td>0.573</td>\n",
              "      <td>6.976</td>\n",
              "      <td>91.0</td>\n",
              "      <td>2.34</td>\n",
              "      <td>2.06</td>\n",
              "      <td>2.29</td>\n",
              "      <td>1.98</td>\n",
              "      <td>19.0</td>\n",
              "      <td>5.64</td>\n",
              "      <td>NO</td>\n",
              "      <td>5.478</td>\n",
              "      <td>12.1912</td>\n",
              "      <td>None</td>\n",
              "      <td>31</td>\n",
              "      <td>YES</td>\n",
              "      <td>0.057572</td>\n",
              "    </tr>\n",
              "    <tr>\n",
              "      <th>504</th>\n",
              "      <td>22.0</td>\n",
              "      <td>0.10959</td>\n",
              "      <td>41.93</td>\n",
              "      <td>0.573</td>\n",
              "      <td>6.794</td>\n",
              "      <td>89.3</td>\n",
              "      <td>2.54</td>\n",
              "      <td>2.31</td>\n",
              "      <td>2.40</td>\n",
              "      <td>2.31</td>\n",
              "      <td>19.0</td>\n",
              "      <td>6.48</td>\n",
              "      <td>YES</td>\n",
              "      <td>7.940</td>\n",
              "      <td>15.1760</td>\n",
              "      <td>None</td>\n",
              "      <td>47</td>\n",
              "      <td>YES</td>\n",
              "      <td>0.060694</td>\n",
              "    </tr>\n",
              "    <tr>\n",
              "      <th>505</th>\n",
              "      <td>19.0</td>\n",
              "      <td>0.04741</td>\n",
              "      <td>41.93</td>\n",
              "      <td>0.573</td>\n",
              "      <td>6.030</td>\n",
              "      <td>80.8</td>\n",
              "      <td>2.72</td>\n",
              "      <td>2.24</td>\n",
              "      <td>2.64</td>\n",
              "      <td>2.42</td>\n",
              "      <td>19.0</td>\n",
              "      <td>7.88</td>\n",
              "      <td>YES</td>\n",
              "      <td>10.280</td>\n",
              "      <td>10.1520</td>\n",
              "      <td>None</td>\n",
              "      <td>45</td>\n",
              "      <td>YES</td>\n",
              "      <td>0.060336</td>\n",
              "    </tr>\n",
              "  </tbody>\n",
              "</table>\n",
              "<p>506 rows × 19 columns</p>\n",
              "</div>"
            ],
            "text/plain": [
              "     price  crime_rate  resid_area  air_qual  room_num   age  dist1  dist2  \\\n",
              "0     24.0     0.00632       32.31     0.538     6.575  65.2   4.35   3.81   \n",
              "1     21.6     0.02731       37.07     0.469     6.421  78.9   4.99   4.70   \n",
              "2     34.7     0.02729       37.07     0.469     7.185  61.1   5.03   4.86   \n",
              "3     33.4     0.03237       32.18     0.458     6.998  45.8   6.21   5.93   \n",
              "4     36.2     0.06905       32.18     0.458     7.147  54.2   6.16   5.86   \n",
              "..     ...         ...         ...       ...       ...   ...    ...    ...   \n",
              "501   22.4     0.06263       41.93     0.573     6.593  69.1   2.64   2.45   \n",
              "502   20.6     0.04527       41.93     0.573     6.120  76.7   2.44   2.11   \n",
              "503   23.9     0.06076       41.93     0.573     6.976  91.0   2.34   2.06   \n",
              "504   22.0     0.10959       41.93     0.573     6.794  89.3   2.54   2.31   \n",
              "505   19.0     0.04741       41.93     0.573     6.030  80.8   2.72   2.24   \n",
              "\n",
              "     dist3  dist4  teachers  poor_prop airport  n_hos_beds  n_hot_rooms  \\\n",
              "0     4.18   4.01      24.7       4.98     YES       5.480      11.1920   \n",
              "1     5.12   5.06      22.2       9.14      NO       7.332      12.1728   \n",
              "2     5.01   4.97      22.2       4.03      NO       7.394     101.1200   \n",
              "3     6.16   5.96      21.3       2.94     YES       9.268      11.2672   \n",
              "4     6.37   5.86      21.3       5.33      NO       8.824      11.2896   \n",
              "..     ...    ...       ...        ...     ...         ...          ...   \n",
              "501   2.76   2.06      19.0       9.67      NO       9.348      12.1792   \n",
              "502   2.46   2.14      19.0       9.08     YES       6.612      13.1648   \n",
              "503   2.29   1.98      19.0       5.64      NO       5.478      12.1912   \n",
              "504   2.40   2.31      19.0       6.48     YES       7.940      15.1760   \n",
              "505   2.64   2.42      19.0       7.88     YES      10.280      10.1520   \n",
              "\n",
              "          waterbody  rainfall bus_ter     parks  \n",
              "0             River        23     YES  0.049347  \n",
              "1              Lake        42     YES  0.046146  \n",
              "2              None        38     YES  0.045764  \n",
              "3              Lake        45     YES  0.047151  \n",
              "4              Lake        55     YES  0.039474  \n",
              "..              ...       ...     ...       ...  \n",
              "501  Lake and River        27     YES  0.056006  \n",
              "502  Lake and River        20     YES  0.059903  \n",
              "503            None        31     YES  0.057572  \n",
              "504            None        47     YES  0.060694  \n",
              "505            None        45     YES  0.060336  \n",
              "\n",
              "[506 rows x 19 columns]"
            ]
          },
          "execution_count": 3,
          "metadata": {},
          "output_type": "execute_result"
        }
      ],
      "source": [
        "df"
      ]
    },
    {
      "cell_type": "code",
      "execution_count": null,
      "id": "354e1e28",
      "metadata": {
        "id": "354e1e28",
        "outputId": "7eb5f426-998b-494e-8c37-402547877fcf"
      },
      "outputs": [
        {
          "data": {
            "text/html": [
              "<div>\n",
              "<style scoped>\n",
              "    .dataframe tbody tr th:only-of-type {\n",
              "        vertical-align: middle;\n",
              "    }\n",
              "\n",
              "    .dataframe tbody tr th {\n",
              "        vertical-align: top;\n",
              "    }\n",
              "\n",
              "    .dataframe thead th {\n",
              "        text-align: right;\n",
              "    }\n",
              "</style>\n",
              "<table border=\"1\" class=\"dataframe\">\n",
              "  <thead>\n",
              "    <tr style=\"text-align: right;\">\n",
              "      <th></th>\n",
              "      <th>price</th>\n",
              "      <th>crime_rate</th>\n",
              "      <th>resid_area</th>\n",
              "      <th>air_qual</th>\n",
              "      <th>room_num</th>\n",
              "      <th>age</th>\n",
              "      <th>dist1</th>\n",
              "      <th>dist2</th>\n",
              "      <th>dist3</th>\n",
              "      <th>dist4</th>\n",
              "      <th>teachers</th>\n",
              "      <th>poor_prop</th>\n",
              "      <th>n_hos_beds</th>\n",
              "      <th>n_hot_rooms</th>\n",
              "      <th>rainfall</th>\n",
              "      <th>parks</th>\n",
              "    </tr>\n",
              "  </thead>\n",
              "  <tbody>\n",
              "    <tr>\n",
              "      <th>count</th>\n",
              "      <td>506.000000</td>\n",
              "      <td>506.000000</td>\n",
              "      <td>506.000000</td>\n",
              "      <td>506.000000</td>\n",
              "      <td>506.000000</td>\n",
              "      <td>506.000000</td>\n",
              "      <td>506.000000</td>\n",
              "      <td>506.000000</td>\n",
              "      <td>506.000000</td>\n",
              "      <td>506.000000</td>\n",
              "      <td>506.000000</td>\n",
              "      <td>506.000000</td>\n",
              "      <td>498.000000</td>\n",
              "      <td>506.000000</td>\n",
              "      <td>506.000000</td>\n",
              "      <td>506.000000</td>\n",
              "    </tr>\n",
              "    <tr>\n",
              "      <th>mean</th>\n",
              "      <td>22.528854</td>\n",
              "      <td>3.613524</td>\n",
              "      <td>41.136779</td>\n",
              "      <td>0.554695</td>\n",
              "      <td>6.284634</td>\n",
              "      <td>68.574901</td>\n",
              "      <td>3.971996</td>\n",
              "      <td>3.628775</td>\n",
              "      <td>3.960672</td>\n",
              "      <td>3.618972</td>\n",
              "      <td>21.544466</td>\n",
              "      <td>12.653063</td>\n",
              "      <td>7.899767</td>\n",
              "      <td>13.041605</td>\n",
              "      <td>39.181818</td>\n",
              "      <td>0.054454</td>\n",
              "    </tr>\n",
              "    <tr>\n",
              "      <th>std</th>\n",
              "      <td>9.182176</td>\n",
              "      <td>8.601545</td>\n",
              "      <td>6.860353</td>\n",
              "      <td>0.115878</td>\n",
              "      <td>0.702617</td>\n",
              "      <td>28.148861</td>\n",
              "      <td>2.108532</td>\n",
              "      <td>2.108580</td>\n",
              "      <td>2.119797</td>\n",
              "      <td>2.099203</td>\n",
              "      <td>2.164946</td>\n",
              "      <td>7.141062</td>\n",
              "      <td>1.476683</td>\n",
              "      <td>5.238957</td>\n",
              "      <td>12.513697</td>\n",
              "      <td>0.010632</td>\n",
              "    </tr>\n",
              "    <tr>\n",
              "      <th>min</th>\n",
              "      <td>5.000000</td>\n",
              "      <td>0.006320</td>\n",
              "      <td>30.460000</td>\n",
              "      <td>0.385000</td>\n",
              "      <td>3.561000</td>\n",
              "      <td>2.900000</td>\n",
              "      <td>1.130000</td>\n",
              "      <td>0.920000</td>\n",
              "      <td>1.150000</td>\n",
              "      <td>0.730000</td>\n",
              "      <td>18.000000</td>\n",
              "      <td>1.730000</td>\n",
              "      <td>5.268000</td>\n",
              "      <td>10.057600</td>\n",
              "      <td>3.000000</td>\n",
              "      <td>0.033292</td>\n",
              "    </tr>\n",
              "    <tr>\n",
              "      <th>25%</th>\n",
              "      <td>17.025000</td>\n",
              "      <td>0.082045</td>\n",
              "      <td>35.190000</td>\n",
              "      <td>0.449000</td>\n",
              "      <td>5.885500</td>\n",
              "      <td>45.025000</td>\n",
              "      <td>2.270000</td>\n",
              "      <td>1.940000</td>\n",
              "      <td>2.232500</td>\n",
              "      <td>1.940000</td>\n",
              "      <td>19.800000</td>\n",
              "      <td>6.950000</td>\n",
              "      <td>6.634500</td>\n",
              "      <td>11.189800</td>\n",
              "      <td>28.000000</td>\n",
              "      <td>0.046464</td>\n",
              "    </tr>\n",
              "    <tr>\n",
              "      <th>50%</th>\n",
              "      <td>21.200000</td>\n",
              "      <td>0.256510</td>\n",
              "      <td>39.690000</td>\n",
              "      <td>0.538000</td>\n",
              "      <td>6.208500</td>\n",
              "      <td>77.500000</td>\n",
              "      <td>3.385000</td>\n",
              "      <td>3.010000</td>\n",
              "      <td>3.375000</td>\n",
              "      <td>3.070000</td>\n",
              "      <td>20.950000</td>\n",
              "      <td>11.360000</td>\n",
              "      <td>7.999000</td>\n",
              "      <td>12.720000</td>\n",
              "      <td>39.000000</td>\n",
              "      <td>0.053507</td>\n",
              "    </tr>\n",
              "    <tr>\n",
              "      <th>75%</th>\n",
              "      <td>25.000000</td>\n",
              "      <td>3.677083</td>\n",
              "      <td>48.100000</td>\n",
              "      <td>0.624000</td>\n",
              "      <td>6.623500</td>\n",
              "      <td>94.075000</td>\n",
              "      <td>5.367500</td>\n",
              "      <td>4.992500</td>\n",
              "      <td>5.407500</td>\n",
              "      <td>4.985000</td>\n",
              "      <td>22.600000</td>\n",
              "      <td>16.955000</td>\n",
              "      <td>9.088000</td>\n",
              "      <td>14.170800</td>\n",
              "      <td>50.000000</td>\n",
              "      <td>0.061397</td>\n",
              "    </tr>\n",
              "    <tr>\n",
              "      <th>max</th>\n",
              "      <td>50.000000</td>\n",
              "      <td>88.976200</td>\n",
              "      <td>57.740000</td>\n",
              "      <td>0.871000</td>\n",
              "      <td>8.780000</td>\n",
              "      <td>100.000000</td>\n",
              "      <td>12.320000</td>\n",
              "      <td>11.930000</td>\n",
              "      <td>12.320000</td>\n",
              "      <td>11.940000</td>\n",
              "      <td>27.400000</td>\n",
              "      <td>37.970000</td>\n",
              "      <td>10.876000</td>\n",
              "      <td>101.120000</td>\n",
              "      <td>60.000000</td>\n",
              "      <td>0.086711</td>\n",
              "    </tr>\n",
              "  </tbody>\n",
              "</table>\n",
              "</div>"
            ],
            "text/plain": [
              "            price  crime_rate  resid_area    air_qual    room_num         age  \\\n",
              "count  506.000000  506.000000  506.000000  506.000000  506.000000  506.000000   \n",
              "mean    22.528854    3.613524   41.136779    0.554695    6.284634   68.574901   \n",
              "std      9.182176    8.601545    6.860353    0.115878    0.702617   28.148861   \n",
              "min      5.000000    0.006320   30.460000    0.385000    3.561000    2.900000   \n",
              "25%     17.025000    0.082045   35.190000    0.449000    5.885500   45.025000   \n",
              "50%     21.200000    0.256510   39.690000    0.538000    6.208500   77.500000   \n",
              "75%     25.000000    3.677083   48.100000    0.624000    6.623500   94.075000   \n",
              "max     50.000000   88.976200   57.740000    0.871000    8.780000  100.000000   \n",
              "\n",
              "            dist1       dist2       dist3       dist4    teachers   poor_prop  \\\n",
              "count  506.000000  506.000000  506.000000  506.000000  506.000000  506.000000   \n",
              "mean     3.971996    3.628775    3.960672    3.618972   21.544466   12.653063   \n",
              "std      2.108532    2.108580    2.119797    2.099203    2.164946    7.141062   \n",
              "min      1.130000    0.920000    1.150000    0.730000   18.000000    1.730000   \n",
              "25%      2.270000    1.940000    2.232500    1.940000   19.800000    6.950000   \n",
              "50%      3.385000    3.010000    3.375000    3.070000   20.950000   11.360000   \n",
              "75%      5.367500    4.992500    5.407500    4.985000   22.600000   16.955000   \n",
              "max     12.320000   11.930000   12.320000   11.940000   27.400000   37.970000   \n",
              "\n",
              "       n_hos_beds  n_hot_rooms    rainfall       parks  \n",
              "count  498.000000   506.000000  506.000000  506.000000  \n",
              "mean     7.899767    13.041605   39.181818    0.054454  \n",
              "std      1.476683     5.238957   12.513697    0.010632  \n",
              "min      5.268000    10.057600    3.000000    0.033292  \n",
              "25%      6.634500    11.189800   28.000000    0.046464  \n",
              "50%      7.999000    12.720000   39.000000    0.053507  \n",
              "75%      9.088000    14.170800   50.000000    0.061397  \n",
              "max     10.876000   101.120000   60.000000    0.086711  "
            ]
          },
          "execution_count": 4,
          "metadata": {},
          "output_type": "execute_result"
        }
      ],
      "source": [
        "df.describe()# outliers are crime rate,rainfall,hot rooms"
      ]
    },
    {
      "cell_type": "code",
      "execution_count": null,
      "id": "cc924e50",
      "metadata": {
        "id": "cc924e50",
        "outputId": "fdfadaeb-a477-4356-fc05-ef770b6f0379"
      },
      "outputs": [
        {
          "data": {
            "text/plain": [
              "array(['YES', 'NO'], dtype=object)"
            ]
          },
          "execution_count": 5,
          "metadata": {},
          "output_type": "execute_result"
        }
      ],
      "source": [
        "df['airport'].unique()"
      ]
    },
    {
      "cell_type": "code",
      "execution_count": null,
      "id": "706df008",
      "metadata": {
        "id": "706df008",
        "outputId": "06a9cadb-efb5-45f9-8e49-21e7e8a4e8d8"
      },
      "outputs": [
        {
          "data": {
            "text/plain": [
              "array(['YES'], dtype=object)"
            ]
          },
          "execution_count": 6,
          "metadata": {},
          "output_type": "execute_result"
        }
      ],
      "source": [
        "df['bus_ter'].unique()"
      ]
    },
    {
      "cell_type": "code",
      "execution_count": null,
      "id": "76a8f2ae",
      "metadata": {
        "id": "76a8f2ae",
        "outputId": "1c2bed83-b2d1-4e9b-ccaf-4b57f241668f"
      },
      "outputs": [
        {
          "data": {
            "text/plain": [
              "array(['River', 'Lake', 'None', 'Lake and River'], dtype=object)"
            ]
          },
          "execution_count": 6,
          "metadata": {},
          "output_type": "execute_result"
        }
      ],
      "source": [
        "df['waterbody'].unique()"
      ]
    },
    {
      "cell_type": "code",
      "execution_count": null,
      "id": "5115985d",
      "metadata": {
        "id": "5115985d",
        "outputId": "04fd92d0-61b1-479f-92c1-8f7358dcf6d1"
      },
      "outputs": [
        {
          "data": {
            "text/plain": [
              "<seaborn.axisgrid.JointGrid at 0x7feee32d6c20>"
            ]
          },
          "execution_count": 7,
          "metadata": {},
          "output_type": "execute_result"
        },
        {
          "data": {
            "image/png": "[encoded data removed]",
            "text/plain": [
              "<Figure size 600x600 with 3 Axes>"
            ]
          },
          "metadata": {},
          "output_type": "display_data"
        }
      ],
      "source": [
        "sns.jointplot(x='n_hot_rooms',y='price',data=df)"
      ]
    },
    {
      "cell_type": "code",
      "execution_count": null,
      "id": "9b70a03f",
      "metadata": {
        "id": "9b70a03f"
      },
      "outputs": [],
      "source": []
    },
    {
      "cell_type": "code",
      "execution_count": null,
      "id": "7ed637dc",
      "metadata": {
        "id": "7ed637dc",
        "outputId": "f429c470-b75f-4f25-d259-f9e7a239810c"
      },
      "outputs": [
        {
          "data": {
            "text/plain": [
              "<seaborn.axisgrid.JointGrid at 0x7feee36695a0>"
            ]
          },
          "execution_count": 9,
          "metadata": {},
          "output_type": "execute_result"
        },
        {
          "data": {
            "image/png": "[encoded data removed]",
            "text/plain": [
              "<Figure size 600x600 with 3 Axes>"
            ]
          },
          "metadata": {},
          "output_type": "display_data"
        }
      ],
      "source": [
        "sns.jointplot(x='rainfall',y='price',data=df)"
      ]
    },
    {
      "cell_type": "code",
      "execution_count": null,
      "id": "58404aa7",
      "metadata": {
        "id": "58404aa7",
        "outputId": "39facf5a-a1a5-45a2-ce4c-ea5e74cd7a94"
      },
      "outputs": [
        {
          "data": {
            "text/plain": [
              "<seaborn.axisgrid.JointGrid at 0x7feee2030fa0>"
            ]
          },
          "execution_count": 10,
          "metadata": {},
          "output_type": "execute_result"
        },
        {
          "data": {
            "image/png": "[encoded data removed]",
            "text/plain": [
              "<Figure size 600x600 with 3 Axes>"
            ]
          },
          "metadata": {},
          "output_type": "display_data"
        }
      ],
      "source": [
        "sns.jointplot(x='crime_rate',y='price',data=df)"
      ]
    },
    {
      "cell_type": "code",
      "execution_count": null,
      "id": "5138e0c2",
      "metadata": {
        "id": "5138e0c2",
        "outputId": "6912d00f-50ff-4b48-81a8-a078a0213abe"
      },
      "outputs": [
        {
          "name": "stdout",
          "output_type": "stream",
          "text": [
            "<class 'pandas.core.frame.DataFrame'>\n",
            "RangeIndex: 506 entries, 0 to 505\n",
            "Data columns (total 19 columns):\n",
            " #   Column       Non-Null Count  Dtype  \n",
            "---  ------       --------------  -----  \n",
            " 0   price        506 non-null    float64\n",
            " 1   crime_rate   506 non-null    float64\n",
            " 2   resid_area   506 non-null    float64\n",
            " 3   air_qual     506 non-null    float64\n",
            " 4   room_num     506 non-null    float64\n",
            " 5   age          506 non-null    float64\n",
            " 6   dist1        506 non-null    float64\n",
            " 7   dist2        506 non-null    float64\n",
            " 8   dist3        506 non-null    float64\n",
            " 9   dist4        506 non-null    float64\n",
            " 10  teachers     506 non-null    float64\n",
            " 11  poor_prop    506 non-null    float64\n",
            " 12  airport      506 non-null    object \n",
            " 13  n_hos_beds   498 non-null    float64\n",
            " 14  n_hot_rooms  506 non-null    float64\n",
            " 15  waterbody    506 non-null    object \n",
            " 16  rainfall     506 non-null    int64  \n",
            " 17  bus_ter      506 non-null    object \n",
            " 18  parks        506 non-null    float64\n",
            "dtypes: float64(15), int64(1), object(3)\n",
            "memory usage: 75.2+ KB\n"
          ]
        }
      ],
      "source": [
        "df.info()"
      ]
    },
    {
      "cell_type": "code",
      "execution_count": null,
      "id": "cb54f83b",
      "metadata": {
        "id": "cb54f83b",
        "outputId": "3efeaa01-2233-491d-8697-fe3d2da6309b"
      },
      "outputs": [
        {
          "data": {
            "text/plain": [
              "<Axes: xlabel='airport', ylabel='count'>"
            ]
          },
          "execution_count": 12,
          "metadata": {},
          "output_type": "execute_result"
        },
        {
          "data": {
            "image/png": "[encoded data removed]",
            "text/plain": [
              "<Figure size 640x480 with 1 Axes>"
            ]
          },
          "metadata": {},
          "output_type": "display_data"
        }
      ],
      "source": [
        "sns.countplot(x='airport',data=df)"
      ]
    },
    {
      "cell_type": "code",
      "execution_count": null,
      "id": "54bc3c80",
      "metadata": {
        "id": "54bc3c80"
      },
      "outputs": [],
      "source": [
        "#missing values in n_hos_beds\n",
        "# outliers:crime_rate,rainfall,n_hot_room\n",
        "#bus_ter Del it!!"
      ]
    },
    {
      "cell_type": "code",
      "execution_count": null,
      "id": "db8febb1",
      "metadata": {
        "id": "db8febb1",
        "outputId": "63b7af84-2ced-46f9-b2a1-6563edacedd0"
      },
      "outputs": [
        {
          "name": "stdout",
          "output_type": "stream",
          "text": [
            "<class 'pandas.core.frame.DataFrame'>\n",
            "RangeIndex: 506 entries, 0 to 505\n",
            "Data columns (total 19 columns):\n",
            " #   Column       Non-Null Count  Dtype  \n",
            "---  ------       --------------  -----  \n",
            " 0   price        506 non-null    float64\n",
            " 1   crime_rate   506 non-null    float64\n",
            " 2   resid_area   506 non-null    float64\n",
            " 3   air_qual     506 non-null    float64\n",
            " 4   room_num     506 non-null    float64\n",
            " 5   age          506 non-null    float64\n",
            " 6   dist1        506 non-null    float64\n",
            " 7   dist2        506 non-null    float64\n",
            " 8   dist3        506 non-null    float64\n",
            " 9   dist4        506 non-null    float64\n",
            " 10  teachers     506 non-null    float64\n",
            " 11  poor_prop    506 non-null    float64\n",
            " 12  airport      506 non-null    object \n",
            " 13  n_hos_beds   498 non-null    float64\n",
            " 14  n_hot_rooms  506 non-null    float64\n",
            " 15  waterbody    506 non-null    object \n",
            " 16  rainfall     506 non-null    int64  \n",
            " 17  bus_ter      506 non-null    object \n",
            " 18  parks        506 non-null    float64\n",
            "dtypes: float64(15), int64(1), object(3)\n",
            "memory usage: 75.2+ KB\n"
          ]
        }
      ],
      "source": [
        "df.info()"
      ]
    },
    {
      "cell_type": "code",
      "execution_count": null,
      "id": "f7759757",
      "metadata": {
        "id": "f7759757"
      },
      "outputs": [],
      "source": [
        "uv=np.percentile(df.n_hot_rooms,[99])[0]#extracting value from array"
      ]
    },
    {
      "cell_type": "code",
      "execution_count": null,
      "id": "0de62ea7",
      "metadata": {
        "id": "0de62ea7",
        "outputId": "a6aa692e-0ae2-40fe-b15b-c7f1d874a292"
      },
      "outputs": [
        {
          "data": {
            "text/plain": [
              "15.39952"
            ]
          },
          "execution_count": 15,
          "metadata": {},
          "output_type": "execute_result"
        }
      ],
      "source": [
        "uv"
      ]
    },
    {
      "cell_type": "code",
      "execution_count": null,
      "id": "e16cb436",
      "metadata": {
        "id": "e16cb436",
        "outputId": "49d156e2-399f-44b3-aaaf-97b2e55779b0"
      },
      "outputs": [
        {
          "data": {
            "text/html": [
              "<div>\n",
              "<style scoped>\n",
              "    .dataframe tbody tr th:only-of-type {\n",
              "        vertical-align: middle;\n",
              "    }\n",
              "\n",
              "    .dataframe tbody tr th {\n",
              "        vertical-align: top;\n",
              "    }\n",
              "\n",
              "    .dataframe thead th {\n",
              "        text-align: right;\n",
              "    }\n",
              "</style>\n",
              "<table border=\"1\" class=\"dataframe\">\n",
              "  <thead>\n",
              "    <tr style=\"text-align: right;\">\n",
              "      <th></th>\n",
              "      <th>price</th>\n",
              "      <th>crime_rate</th>\n",
              "      <th>resid_area</th>\n",
              "      <th>air_qual</th>\n",
              "      <th>room_num</th>\n",
              "      <th>age</th>\n",
              "      <th>dist1</th>\n",
              "      <th>dist2</th>\n",
              "      <th>dist3</th>\n",
              "      <th>dist4</th>\n",
              "      <th>teachers</th>\n",
              "      <th>poor_prop</th>\n",
              "      <th>airport</th>\n",
              "      <th>n_hos_beds</th>\n",
              "      <th>n_hot_rooms</th>\n",
              "      <th>waterbody</th>\n",
              "      <th>rainfall</th>\n",
              "      <th>bus_ter</th>\n",
              "      <th>parks</th>\n",
              "    </tr>\n",
              "  </thead>\n",
              "  <tbody>\n",
              "    <tr>\n",
              "      <th>2</th>\n",
              "      <td>34.7</td>\n",
              "      <td>0.02729</td>\n",
              "      <td>37.07</td>\n",
              "      <td>0.469</td>\n",
              "      <td>7.185</td>\n",
              "      <td>61.1</td>\n",
              "      <td>5.03</td>\n",
              "      <td>4.86</td>\n",
              "      <td>5.01</td>\n",
              "      <td>4.97</td>\n",
              "      <td>22.2</td>\n",
              "      <td>4.03</td>\n",
              "      <td>NO</td>\n",
              "      <td>7.394</td>\n",
              "      <td>101.12</td>\n",
              "      <td>None</td>\n",
              "      <td>38</td>\n",
              "      <td>YES</td>\n",
              "      <td>0.045764</td>\n",
              "    </tr>\n",
              "    <tr>\n",
              "      <th>423</th>\n",
              "      <td>13.4</td>\n",
              "      <td>7.05042</td>\n",
              "      <td>48.10</td>\n",
              "      <td>0.614</td>\n",
              "      <td>6.103</td>\n",
              "      <td>85.1</td>\n",
              "      <td>2.08</td>\n",
              "      <td>1.80</td>\n",
              "      <td>2.34</td>\n",
              "      <td>1.87</td>\n",
              "      <td>19.8</td>\n",
              "      <td>23.29</td>\n",
              "      <td>NO</td>\n",
              "      <td>8.268</td>\n",
              "      <td>81.12</td>\n",
              "      <td>Lake</td>\n",
              "      <td>29</td>\n",
              "      <td>YES</td>\n",
              "      <td>0.063344</td>\n",
              "    </tr>\n",
              "  </tbody>\n",
              "</table>\n",
              "</div>"
            ],
            "text/plain": [
              "     price  crime_rate  resid_area  air_qual  room_num   age  dist1  dist2  \\\n",
              "2     34.7     0.02729       37.07     0.469     7.185  61.1   5.03   4.86   \n",
              "423   13.4     7.05042       48.10     0.614     6.103  85.1   2.08   1.80   \n",
              "\n",
              "     dist3  dist4  teachers  poor_prop airport  n_hos_beds  n_hot_rooms  \\\n",
              "2     5.01   4.97      22.2       4.03      NO       7.394       101.12   \n",
              "423   2.34   1.87      19.8      23.29      NO       8.268        81.12   \n",
              "\n",
              "    waterbody  rainfall bus_ter     parks  \n",
              "2        None        38     YES  0.045764  \n",
              "423      Lake        29     YES  0.063344  "
            ]
          },
          "execution_count": 16,
          "metadata": {},
          "output_type": "execute_result"
        }
      ],
      "source": [
        "df[df.n_hot_rooms>uv*3]"
      ]
    },
    {
      "cell_type": "code",
      "execution_count": null,
      "id": "7a8b3e0e",
      "metadata": {
        "id": "7a8b3e0e",
        "outputId": "7742aa81-08af-4f99-8977-85488851f7ce"
      },
      "outputs": [
        {
          "name": "stderr",
          "output_type": "stream",
          "text": [
            "/tmp/ipykernel_9995/2048940455.py:1: SettingWithCopyWarning: \n",
            "A value is trying to be set on a copy of a slice from a DataFrame\n",
            "\n",
            "See the caveats in the documentation: https://pandas.pydata.org/pandas-docs/stable/user_guide/indexing.html#returning-a-view-versus-a-copy\n",
            "  df.n_hot_rooms[df.n_hot_rooms>uv]=uv\n"
          ]
        }
      ],
      "source": [
        "df.n_hot_rooms[df.n_hot_rooms>uv]=uv"
      ]
    },
    {
      "cell_type": "code",
      "execution_count": null,
      "id": "ba9e3c06",
      "metadata": {
        "id": "ba9e3c06",
        "outputId": "db47c0af-6f05-4851-e72b-6791768706d8"
      },
      "outputs": [
        {
          "data": {
            "text/html": [
              "<div>\n",
              "<style scoped>\n",
              "    .dataframe tbody tr th:only-of-type {\n",
              "        vertical-align: middle;\n",
              "    }\n",
              "\n",
              "    .dataframe tbody tr th {\n",
              "        vertical-align: top;\n",
              "    }\n",
              "\n",
              "    .dataframe thead th {\n",
              "        text-align: right;\n",
              "    }\n",
              "</style>\n",
              "<table border=\"1\" class=\"dataframe\">\n",
              "  <thead>\n",
              "    <tr style=\"text-align: right;\">\n",
              "      <th></th>\n",
              "      <th>price</th>\n",
              "      <th>crime_rate</th>\n",
              "      <th>resid_area</th>\n",
              "      <th>air_qual</th>\n",
              "      <th>room_num</th>\n",
              "      <th>age</th>\n",
              "      <th>dist1</th>\n",
              "      <th>dist2</th>\n",
              "      <th>dist3</th>\n",
              "      <th>dist4</th>\n",
              "      <th>teachers</th>\n",
              "      <th>poor_prop</th>\n",
              "      <th>airport</th>\n",
              "      <th>n_hos_beds</th>\n",
              "      <th>n_hot_rooms</th>\n",
              "      <th>waterbody</th>\n",
              "      <th>rainfall</th>\n",
              "      <th>bus_ter</th>\n",
              "      <th>parks</th>\n",
              "    </tr>\n",
              "  </thead>\n",
              "  <tbody>\n",
              "  </tbody>\n",
              "</table>\n",
              "</div>"
            ],
            "text/plain": [
              "Empty DataFrame\n",
              "Columns: [price, crime_rate, resid_area, air_qual, room_num, age, dist1, dist2, dist3, dist4, teachers, poor_prop, airport, n_hos_beds, n_hot_rooms, waterbody, rainfall, bus_ter, parks]\n",
              "Index: []"
            ]
          },
          "execution_count": 18,
          "metadata": {},
          "output_type": "execute_result"
        }
      ],
      "source": [
        "df[df.n_hot_rooms>uv]"
      ]
    },
    {
      "cell_type": "code",
      "execution_count": null,
      "id": "6a16c81b",
      "metadata": {
        "id": "6a16c81b",
        "outputId": "aa5dcf7b-8f71-4767-d0eb-3a2fbde1e8ff"
      },
      "outputs": [
        {
          "data": {
            "text/plain": [
              "<seaborn.axisgrid.JointGrid at 0x7feee1baf700>"
            ]
          },
          "execution_count": 19,
          "metadata": {},
          "output_type": "execute_result"
        },
        {
          "data": {
            "image/png": "[encoded data removed]",
            "text/plain": [
              "<Figure size 600x600 with 3 Axes>"
            ]
          },
          "metadata": {},
          "output_type": "display_data"
        }
      ],
      "source": [
        "sns.jointplot(x='n_hot_rooms',y='price',data=df)"
      ]
    },
    {
      "cell_type": "code",
      "execution_count": null,
      "id": "25ca835b",
      "metadata": {
        "id": "25ca835b"
      },
      "outputs": [],
      "source": [
        "ff=np.percentile(df.rainfall,[1])[0]"
      ]
    },
    {
      "cell_type": "code",
      "execution_count": null,
      "id": "c2b7766e",
      "metadata": {
        "id": "c2b7766e",
        "outputId": "775f7447-7fe9-4c77-ef8c-f438976c9d8a"
      },
      "outputs": [
        {
          "data": {
            "text/plain": [
              "20.0"
            ]
          },
          "execution_count": 21,
          "metadata": {},
          "output_type": "execute_result"
        }
      ],
      "source": [
        "ff"
      ]
    },
    {
      "cell_type": "code",
      "execution_count": null,
      "id": "9a4f5dcb",
      "metadata": {
        "id": "9a4f5dcb",
        "outputId": "1be1bbb8-b737-49b8-910c-eccbc8f6d5d4"
      },
      "outputs": [
        {
          "name": "stderr",
          "output_type": "stream",
          "text": [
            "/tmp/ipykernel_9995/2406265071.py:1: SettingWithCopyWarning: \n",
            "A value is trying to be set on a copy of a slice from a DataFrame\n",
            "\n",
            "See the caveats in the documentation: https://pandas.pydata.org/pandas-docs/stable/user_guide/indexing.html#returning-a-view-versus-a-copy\n",
            "  df.rainfall[df.rainfall<ff]=ff\n"
          ]
        }
      ],
      "source": [
        "df.rainfall[df.rainfall<ff]=ff"
      ]
    },
    {
      "cell_type": "code",
      "execution_count": null,
      "id": "82a800a8",
      "metadata": {
        "id": "82a800a8"
      },
      "outputs": [],
      "source": []
    },
    {
      "cell_type": "code",
      "execution_count": null,
      "id": "49007b76",
      "metadata": {
        "id": "49007b76",
        "outputId": "79dc31ee-eb18-42df-99c1-711124461896"
      },
      "outputs": [
        {
          "data": {
            "text/plain": [
              "<seaborn.axisgrid.JointGrid at 0x7feee1af3250>"
            ]
          },
          "execution_count": 23,
          "metadata": {},
          "output_type": "execute_result"
        },
        {
          "data": {
            "image/png": "[encoded data removed]",
            "text/plain": [
              "<Figure size 600x600 with 3 Axes>"
            ]
          },
          "metadata": {},
          "output_type": "display_data"
        }
      ],
      "source": [
        "sns.jointplot(x='rainfall',y='price',data=df)"
      ]
    },
    {
      "cell_type": "code",
      "execution_count": null,
      "id": "7986f654",
      "metadata": {
        "id": "7986f654"
      },
      "outputs": [],
      "source": [
        "del df['bus_ter']"
      ]
    },
    {
      "cell_type": "code",
      "execution_count": null,
      "id": "47bce06e",
      "metadata": {
        "id": "47bce06e",
        "outputId": "382ea3d7-f914-4464-9d63-94bfeb24c246"
      },
      "outputs": [
        {
          "data": {
            "text/html": [
              "<div>\n",
              "<style scoped>\n",
              "    .dataframe tbody tr th:only-of-type {\n",
              "        vertical-align: middle;\n",
              "    }\n",
              "\n",
              "    .dataframe tbody tr th {\n",
              "        vertical-align: top;\n",
              "    }\n",
              "\n",
              "    .dataframe thead th {\n",
              "        text-align: right;\n",
              "    }\n",
              "</style>\n",
              "<table border=\"1\" class=\"dataframe\">\n",
              "  <thead>\n",
              "    <tr style=\"text-align: right;\">\n",
              "      <th></th>\n",
              "      <th>price</th>\n",
              "      <th>crime_rate</th>\n",
              "      <th>resid_area</th>\n",
              "      <th>air_qual</th>\n",
              "      <th>room_num</th>\n",
              "      <th>age</th>\n",
              "      <th>dist1</th>\n",
              "      <th>dist2</th>\n",
              "      <th>dist3</th>\n",
              "      <th>dist4</th>\n",
              "      <th>teachers</th>\n",
              "      <th>poor_prop</th>\n",
              "      <th>airport</th>\n",
              "      <th>n_hos_beds</th>\n",
              "      <th>n_hot_rooms</th>\n",
              "      <th>waterbody</th>\n",
              "      <th>rainfall</th>\n",
              "      <th>parks</th>\n",
              "    </tr>\n",
              "  </thead>\n",
              "  <tbody>\n",
              "    <tr>\n",
              "      <th>0</th>\n",
              "      <td>24.0</td>\n",
              "      <td>0.00632</td>\n",
              "      <td>32.31</td>\n",
              "      <td>0.538</td>\n",
              "      <td>6.575</td>\n",
              "      <td>65.2</td>\n",
              "      <td>4.35</td>\n",
              "      <td>3.81</td>\n",
              "      <td>4.18</td>\n",
              "      <td>4.01</td>\n",
              "      <td>24.7</td>\n",
              "      <td>4.98</td>\n",
              "      <td>YES</td>\n",
              "      <td>5.480</td>\n",
              "      <td>11.19200</td>\n",
              "      <td>River</td>\n",
              "      <td>23</td>\n",
              "      <td>0.049347</td>\n",
              "    </tr>\n",
              "    <tr>\n",
              "      <th>1</th>\n",
              "      <td>21.6</td>\n",
              "      <td>0.02731</td>\n",
              "      <td>37.07</td>\n",
              "      <td>0.469</td>\n",
              "      <td>6.421</td>\n",
              "      <td>78.9</td>\n",
              "      <td>4.99</td>\n",
              "      <td>4.70</td>\n",
              "      <td>5.12</td>\n",
              "      <td>5.06</td>\n",
              "      <td>22.2</td>\n",
              "      <td>9.14</td>\n",
              "      <td>NO</td>\n",
              "      <td>7.332</td>\n",
              "      <td>12.17280</td>\n",
              "      <td>Lake</td>\n",
              "      <td>42</td>\n",
              "      <td>0.046146</td>\n",
              "    </tr>\n",
              "    <tr>\n",
              "      <th>2</th>\n",
              "      <td>34.7</td>\n",
              "      <td>0.02729</td>\n",
              "      <td>37.07</td>\n",
              "      <td>0.469</td>\n",
              "      <td>7.185</td>\n",
              "      <td>61.1</td>\n",
              "      <td>5.03</td>\n",
              "      <td>4.86</td>\n",
              "      <td>5.01</td>\n",
              "      <td>4.97</td>\n",
              "      <td>22.2</td>\n",
              "      <td>4.03</td>\n",
              "      <td>NO</td>\n",
              "      <td>7.394</td>\n",
              "      <td>15.39952</td>\n",
              "      <td>None</td>\n",
              "      <td>38</td>\n",
              "      <td>0.045764</td>\n",
              "    </tr>\n",
              "    <tr>\n",
              "      <th>3</th>\n",
              "      <td>33.4</td>\n",
              "      <td>0.03237</td>\n",
              "      <td>32.18</td>\n",
              "      <td>0.458</td>\n",
              "      <td>6.998</td>\n",
              "      <td>45.8</td>\n",
              "      <td>6.21</td>\n",
              "      <td>5.93</td>\n",
              "      <td>6.16</td>\n",
              "      <td>5.96</td>\n",
              "      <td>21.3</td>\n",
              "      <td>2.94</td>\n",
              "      <td>YES</td>\n",
              "      <td>9.268</td>\n",
              "      <td>11.26720</td>\n",
              "      <td>Lake</td>\n",
              "      <td>45</td>\n",
              "      <td>0.047151</td>\n",
              "    </tr>\n",
              "    <tr>\n",
              "      <th>4</th>\n",
              "      <td>36.2</td>\n",
              "      <td>0.06905</td>\n",
              "      <td>32.18</td>\n",
              "      <td>0.458</td>\n",
              "      <td>7.147</td>\n",
              "      <td>54.2</td>\n",
              "      <td>6.16</td>\n",
              "      <td>5.86</td>\n",
              "      <td>6.37</td>\n",
              "      <td>5.86</td>\n",
              "      <td>21.3</td>\n",
              "      <td>5.33</td>\n",
              "      <td>NO</td>\n",
              "      <td>8.824</td>\n",
              "      <td>11.28960</td>\n",
              "      <td>Lake</td>\n",
              "      <td>55</td>\n",
              "      <td>0.039474</td>\n",
              "    </tr>\n",
              "    <tr>\n",
              "      <th>...</th>\n",
              "      <td>...</td>\n",
              "      <td>...</td>\n",
              "      <td>...</td>\n",
              "      <td>...</td>\n",
              "      <td>...</td>\n",
              "      <td>...</td>\n",
              "      <td>...</td>\n",
              "      <td>...</td>\n",
              "      <td>...</td>\n",
              "      <td>...</td>\n",
              "      <td>...</td>\n",
              "      <td>...</td>\n",
              "      <td>...</td>\n",
              "      <td>...</td>\n",
              "      <td>...</td>\n",
              "      <td>...</td>\n",
              "      <td>...</td>\n",
              "      <td>...</td>\n",
              "    </tr>\n",
              "    <tr>\n",
              "      <th>501</th>\n",
              "      <td>22.4</td>\n",
              "      <td>0.06263</td>\n",
              "      <td>41.93</td>\n",
              "      <td>0.573</td>\n",
              "      <td>6.593</td>\n",
              "      <td>69.1</td>\n",
              "      <td>2.64</td>\n",
              "      <td>2.45</td>\n",
              "      <td>2.76</td>\n",
              "      <td>2.06</td>\n",
              "      <td>19.0</td>\n",
              "      <td>9.67</td>\n",
              "      <td>NO</td>\n",
              "      <td>9.348</td>\n",
              "      <td>12.17920</td>\n",
              "      <td>Lake and River</td>\n",
              "      <td>27</td>\n",
              "      <td>0.056006</td>\n",
              "    </tr>\n",
              "    <tr>\n",
              "      <th>502</th>\n",
              "      <td>20.6</td>\n",
              "      <td>0.04527</td>\n",
              "      <td>41.93</td>\n",
              "      <td>0.573</td>\n",
              "      <td>6.120</td>\n",
              "      <td>76.7</td>\n",
              "      <td>2.44</td>\n",
              "      <td>2.11</td>\n",
              "      <td>2.46</td>\n",
              "      <td>2.14</td>\n",
              "      <td>19.0</td>\n",
              "      <td>9.08</td>\n",
              "      <td>YES</td>\n",
              "      <td>6.612</td>\n",
              "      <td>13.16480</td>\n",
              "      <td>Lake and River</td>\n",
              "      <td>20</td>\n",
              "      <td>0.059903</td>\n",
              "    </tr>\n",
              "    <tr>\n",
              "      <th>503</th>\n",
              "      <td>23.9</td>\n",
              "      <td>0.06076</td>\n",
              "      <td>41.93</td>\n",
              "      <td>0.573</td>\n",
              "      <td>6.976</td>\n",
              "      <td>91.0</td>\n",
              "      <td>2.34</td>\n",
              "      <td>2.06</td>\n",
              "      <td>2.29</td>\n",
              "      <td>1.98</td>\n",
              "      <td>19.0</td>\n",
              "      <td>5.64</td>\n",
              "      <td>NO</td>\n",
              "      <td>5.478</td>\n",
              "      <td>12.19120</td>\n",
              "      <td>None</td>\n",
              "      <td>31</td>\n",
              "      <td>0.057572</td>\n",
              "    </tr>\n",
              "    <tr>\n",
              "      <th>504</th>\n",
              "      <td>22.0</td>\n",
              "      <td>0.10959</td>\n",
              "      <td>41.93</td>\n",
              "      <td>0.573</td>\n",
              "      <td>6.794</td>\n",
              "      <td>89.3</td>\n",
              "      <td>2.54</td>\n",
              "      <td>2.31</td>\n",
              "      <td>2.40</td>\n",
              "      <td>2.31</td>\n",
              "      <td>19.0</td>\n",
              "      <td>6.48</td>\n",
              "      <td>YES</td>\n",
              "      <td>7.940</td>\n",
              "      <td>15.17600</td>\n",
              "      <td>None</td>\n",
              "      <td>47</td>\n",
              "      <td>0.060694</td>\n",
              "    </tr>\n",
              "    <tr>\n",
              "      <th>505</th>\n",
              "      <td>19.0</td>\n",
              "      <td>0.04741</td>\n",
              "      <td>41.93</td>\n",
              "      <td>0.573</td>\n",
              "      <td>6.030</td>\n",
              "      <td>80.8</td>\n",
              "      <td>2.72</td>\n",
              "      <td>2.24</td>\n",
              "      <td>2.64</td>\n",
              "      <td>2.42</td>\n",
              "      <td>19.0</td>\n",
              "      <td>7.88</td>\n",
              "      <td>YES</td>\n",
              "      <td>10.280</td>\n",
              "      <td>10.15200</td>\n",
              "      <td>None</td>\n",
              "      <td>45</td>\n",
              "      <td>0.060336</td>\n",
              "    </tr>\n",
              "  </tbody>\n",
              "</table>\n",
              "<p>506 rows × 18 columns</p>\n",
              "</div>"
            ],
            "text/plain": [
              "     price  crime_rate  resid_area  air_qual  room_num   age  dist1  dist2  \\\n",
              "0     24.0     0.00632       32.31     0.538     6.575  65.2   4.35   3.81   \n",
              "1     21.6     0.02731       37.07     0.469     6.421  78.9   4.99   4.70   \n",
              "2     34.7     0.02729       37.07     0.469     7.185  61.1   5.03   4.86   \n",
              "3     33.4     0.03237       32.18     0.458     6.998  45.8   6.21   5.93   \n",
              "4     36.2     0.06905       32.18     0.458     7.147  54.2   6.16   5.86   \n",
              "..     ...         ...         ...       ...       ...   ...    ...    ...   \n",
              "501   22.4     0.06263       41.93     0.573     6.593  69.1   2.64   2.45   \n",
              "502   20.6     0.04527       41.93     0.573     6.120  76.7   2.44   2.11   \n",
              "503   23.9     0.06076       41.93     0.573     6.976  91.0   2.34   2.06   \n",
              "504   22.0     0.10959       41.93     0.573     6.794  89.3   2.54   2.31   \n",
              "505   19.0     0.04741       41.93     0.573     6.030  80.8   2.72   2.24   \n",
              "\n",
              "     dist3  dist4  teachers  poor_prop airport  n_hos_beds  n_hot_rooms  \\\n",
              "0     4.18   4.01      24.7       4.98     YES       5.480     11.19200   \n",
              "1     5.12   5.06      22.2       9.14      NO       7.332     12.17280   \n",
              "2     5.01   4.97      22.2       4.03      NO       7.394     15.39952   \n",
              "3     6.16   5.96      21.3       2.94     YES       9.268     11.26720   \n",
              "4     6.37   5.86      21.3       5.33      NO       8.824     11.28960   \n",
              "..     ...    ...       ...        ...     ...         ...          ...   \n",
              "501   2.76   2.06      19.0       9.67      NO       9.348     12.17920   \n",
              "502   2.46   2.14      19.0       9.08     YES       6.612     13.16480   \n",
              "503   2.29   1.98      19.0       5.64      NO       5.478     12.19120   \n",
              "504   2.40   2.31      19.0       6.48     YES       7.940     15.17600   \n",
              "505   2.64   2.42      19.0       7.88     YES      10.280     10.15200   \n",
              "\n",
              "          waterbody  rainfall     parks  \n",
              "0             River        23  0.049347  \n",
              "1              Lake        42  0.046146  \n",
              "2              None        38  0.045764  \n",
              "3              Lake        45  0.047151  \n",
              "4              Lake        55  0.039474  \n",
              "..              ...       ...       ...  \n",
              "501  Lake and River        27  0.056006  \n",
              "502  Lake and River        20  0.059903  \n",
              "503            None        31  0.057572  \n",
              "504            None        47  0.060694  \n",
              "505            None        45  0.060336  \n",
              "\n",
              "[506 rows x 18 columns]"
            ]
          },
          "execution_count": 25,
          "metadata": {},
          "output_type": "execute_result"
        }
      ],
      "source": [
        "df"
      ]
    },
    {
      "cell_type": "code",
      "execution_count": null,
      "id": "500df0d7",
      "metadata": {
        "id": "500df0d7"
      },
      "outputs": [],
      "source": [
        "df.n_hos_beds=df.n_hos_beds.fillna(df.n_hos_beds.mean())"
      ]
    },
    {
      "cell_type": "code",
      "execution_count": null,
      "id": "372476d5",
      "metadata": {
        "id": "372476d5",
        "outputId": "dc9b53d1-3af5-4fab-aa62-f5a443728dc2"
      },
      "outputs": [
        {
          "data": {
            "text/html": [
              "<div>\n",
              "<style scoped>\n",
              "    .dataframe tbody tr th:only-of-type {\n",
              "        vertical-align: middle;\n",
              "    }\n",
              "\n",
              "    .dataframe tbody tr th {\n",
              "        vertical-align: top;\n",
              "    }\n",
              "\n",
              "    .dataframe thead th {\n",
              "        text-align: right;\n",
              "    }\n",
              "</style>\n",
              "<table border=\"1\" class=\"dataframe\">\n",
              "  <thead>\n",
              "    <tr style=\"text-align: right;\">\n",
              "      <th></th>\n",
              "      <th>price</th>\n",
              "      <th>crime_rate</th>\n",
              "      <th>resid_area</th>\n",
              "      <th>air_qual</th>\n",
              "      <th>room_num</th>\n",
              "      <th>age</th>\n",
              "      <th>dist1</th>\n",
              "      <th>dist2</th>\n",
              "      <th>dist3</th>\n",
              "      <th>dist4</th>\n",
              "      <th>teachers</th>\n",
              "      <th>poor_prop</th>\n",
              "      <th>airport</th>\n",
              "      <th>n_hos_beds</th>\n",
              "      <th>n_hot_rooms</th>\n",
              "      <th>waterbody</th>\n",
              "      <th>rainfall</th>\n",
              "      <th>parks</th>\n",
              "    </tr>\n",
              "  </thead>\n",
              "  <tbody>\n",
              "    <tr>\n",
              "      <th>0</th>\n",
              "      <td>24.0</td>\n",
              "      <td>0.00632</td>\n",
              "      <td>32.31</td>\n",
              "      <td>0.538</td>\n",
              "      <td>6.575</td>\n",
              "      <td>65.2</td>\n",
              "      <td>4.35</td>\n",
              "      <td>3.81</td>\n",
              "      <td>4.18</td>\n",
              "      <td>4.01</td>\n",
              "      <td>24.7</td>\n",
              "      <td>4.98</td>\n",
              "      <td>YES</td>\n",
              "      <td>5.480</td>\n",
              "      <td>11.19200</td>\n",
              "      <td>River</td>\n",
              "      <td>23</td>\n",
              "      <td>0.049347</td>\n",
              "    </tr>\n",
              "    <tr>\n",
              "      <th>1</th>\n",
              "      <td>21.6</td>\n",
              "      <td>0.02731</td>\n",
              "      <td>37.07</td>\n",
              "      <td>0.469</td>\n",
              "      <td>6.421</td>\n",
              "      <td>78.9</td>\n",
              "      <td>4.99</td>\n",
              "      <td>4.70</td>\n",
              "      <td>5.12</td>\n",
              "      <td>5.06</td>\n",
              "      <td>22.2</td>\n",
              "      <td>9.14</td>\n",
              "      <td>NO</td>\n",
              "      <td>7.332</td>\n",
              "      <td>12.17280</td>\n",
              "      <td>Lake</td>\n",
              "      <td>42</td>\n",
              "      <td>0.046146</td>\n",
              "    </tr>\n",
              "    <tr>\n",
              "      <th>2</th>\n",
              "      <td>34.7</td>\n",
              "      <td>0.02729</td>\n",
              "      <td>37.07</td>\n",
              "      <td>0.469</td>\n",
              "      <td>7.185</td>\n",
              "      <td>61.1</td>\n",
              "      <td>5.03</td>\n",
              "      <td>4.86</td>\n",
              "      <td>5.01</td>\n",
              "      <td>4.97</td>\n",
              "      <td>22.2</td>\n",
              "      <td>4.03</td>\n",
              "      <td>NO</td>\n",
              "      <td>7.394</td>\n",
              "      <td>15.39952</td>\n",
              "      <td>None</td>\n",
              "      <td>38</td>\n",
              "      <td>0.045764</td>\n",
              "    </tr>\n",
              "    <tr>\n",
              "      <th>3</th>\n",
              "      <td>33.4</td>\n",
              "      <td>0.03237</td>\n",
              "      <td>32.18</td>\n",
              "      <td>0.458</td>\n",
              "      <td>6.998</td>\n",
              "      <td>45.8</td>\n",
              "      <td>6.21</td>\n",
              "      <td>5.93</td>\n",
              "      <td>6.16</td>\n",
              "      <td>5.96</td>\n",
              "      <td>21.3</td>\n",
              "      <td>2.94</td>\n",
              "      <td>YES</td>\n",
              "      <td>9.268</td>\n",
              "      <td>11.26720</td>\n",
              "      <td>Lake</td>\n",
              "      <td>45</td>\n",
              "      <td>0.047151</td>\n",
              "    </tr>\n",
              "    <tr>\n",
              "      <th>4</th>\n",
              "      <td>36.2</td>\n",
              "      <td>0.06905</td>\n",
              "      <td>32.18</td>\n",
              "      <td>0.458</td>\n",
              "      <td>7.147</td>\n",
              "      <td>54.2</td>\n",
              "      <td>6.16</td>\n",
              "      <td>5.86</td>\n",
              "      <td>6.37</td>\n",
              "      <td>5.86</td>\n",
              "      <td>21.3</td>\n",
              "      <td>5.33</td>\n",
              "      <td>NO</td>\n",
              "      <td>8.824</td>\n",
              "      <td>11.28960</td>\n",
              "      <td>Lake</td>\n",
              "      <td>55</td>\n",
              "      <td>0.039474</td>\n",
              "    </tr>\n",
              "    <tr>\n",
              "      <th>...</th>\n",
              "      <td>...</td>\n",
              "      <td>...</td>\n",
              "      <td>...</td>\n",
              "      <td>...</td>\n",
              "      <td>...</td>\n",
              "      <td>...</td>\n",
              "      <td>...</td>\n",
              "      <td>...</td>\n",
              "      <td>...</td>\n",
              "      <td>...</td>\n",
              "      <td>...</td>\n",
              "      <td>...</td>\n",
              "      <td>...</td>\n",
              "      <td>...</td>\n",
              "      <td>...</td>\n",
              "      <td>...</td>\n",
              "      <td>...</td>\n",
              "      <td>...</td>\n",
              "    </tr>\n",
              "    <tr>\n",
              "      <th>501</th>\n",
              "      <td>22.4</td>\n",
              "      <td>0.06263</td>\n",
              "      <td>41.93</td>\n",
              "      <td>0.573</td>\n",
              "      <td>6.593</td>\n",
              "      <td>69.1</td>\n",
              "      <td>2.64</td>\n",
              "      <td>2.45</td>\n",
              "      <td>2.76</td>\n",
              "      <td>2.06</td>\n",
              "      <td>19.0</td>\n",
              "      <td>9.67</td>\n",
              "      <td>NO</td>\n",
              "      <td>9.348</td>\n",
              "      <td>12.17920</td>\n",
              "      <td>Lake and River</td>\n",
              "      <td>27</td>\n",
              "      <td>0.056006</td>\n",
              "    </tr>\n",
              "    <tr>\n",
              "      <th>502</th>\n",
              "      <td>20.6</td>\n",
              "      <td>0.04527</td>\n",
              "      <td>41.93</td>\n",
              "      <td>0.573</td>\n",
              "      <td>6.120</td>\n",
              "      <td>76.7</td>\n",
              "      <td>2.44</td>\n",
              "      <td>2.11</td>\n",
              "      <td>2.46</td>\n",
              "      <td>2.14</td>\n",
              "      <td>19.0</td>\n",
              "      <td>9.08</td>\n",
              "      <td>YES</td>\n",
              "      <td>6.612</td>\n",
              "      <td>13.16480</td>\n",
              "      <td>Lake and River</td>\n",
              "      <td>20</td>\n",
              "      <td>0.059903</td>\n",
              "    </tr>\n",
              "    <tr>\n",
              "      <th>503</th>\n",
              "      <td>23.9</td>\n",
              "      <td>0.06076</td>\n",
              "      <td>41.93</td>\n",
              "      <td>0.573</td>\n",
              "      <td>6.976</td>\n",
              "      <td>91.0</td>\n",
              "      <td>2.34</td>\n",
              "      <td>2.06</td>\n",
              "      <td>2.29</td>\n",
              "      <td>1.98</td>\n",
              "      <td>19.0</td>\n",
              "      <td>5.64</td>\n",
              "      <td>NO</td>\n",
              "      <td>5.478</td>\n",
              "      <td>12.19120</td>\n",
              "      <td>None</td>\n",
              "      <td>31</td>\n",
              "      <td>0.057572</td>\n",
              "    </tr>\n",
              "    <tr>\n",
              "      <th>504</th>\n",
              "      <td>22.0</td>\n",
              "      <td>0.10959</td>\n",
              "      <td>41.93</td>\n",
              "      <td>0.573</td>\n",
              "      <td>6.794</td>\n",
              "      <td>89.3</td>\n",
              "      <td>2.54</td>\n",
              "      <td>2.31</td>\n",
              "      <td>2.40</td>\n",
              "      <td>2.31</td>\n",
              "      <td>19.0</td>\n",
              "      <td>6.48</td>\n",
              "      <td>YES</td>\n",
              "      <td>7.940</td>\n",
              "      <td>15.17600</td>\n",
              "      <td>None</td>\n",
              "      <td>47</td>\n",
              "      <td>0.060694</td>\n",
              "    </tr>\n",
              "    <tr>\n",
              "      <th>505</th>\n",
              "      <td>19.0</td>\n",
              "      <td>0.04741</td>\n",
              "      <td>41.93</td>\n",
              "      <td>0.573</td>\n",
              "      <td>6.030</td>\n",
              "      <td>80.8</td>\n",
              "      <td>2.72</td>\n",
              "      <td>2.24</td>\n",
              "      <td>2.64</td>\n",
              "      <td>2.42</td>\n",
              "      <td>19.0</td>\n",
              "      <td>7.88</td>\n",
              "      <td>YES</td>\n",
              "      <td>10.280</td>\n",
              "      <td>10.15200</td>\n",
              "      <td>None</td>\n",
              "      <td>45</td>\n",
              "      <td>0.060336</td>\n",
              "    </tr>\n",
              "  </tbody>\n",
              "</table>\n",
              "<p>506 rows × 18 columns</p>\n",
              "</div>"
            ],
            "text/plain": [
              "     price  crime_rate  resid_area  air_qual  room_num   age  dist1  dist2  \\\n",
              "0     24.0     0.00632       32.31     0.538     6.575  65.2   4.35   3.81   \n",
              "1     21.6     0.02731       37.07     0.469     6.421  78.9   4.99   4.70   \n",
              "2     34.7     0.02729       37.07     0.469     7.185  61.1   5.03   4.86   \n",
              "3     33.4     0.03237       32.18     0.458     6.998  45.8   6.21   5.93   \n",
              "4     36.2     0.06905       32.18     0.458     7.147  54.2   6.16   5.86   \n",
              "..     ...         ...         ...       ...       ...   ...    ...    ...   \n",
              "501   22.4     0.06263       41.93     0.573     6.593  69.1   2.64   2.45   \n",
              "502   20.6     0.04527       41.93     0.573     6.120  76.7   2.44   2.11   \n",
              "503   23.9     0.06076       41.93     0.573     6.976  91.0   2.34   2.06   \n",
              "504   22.0     0.10959       41.93     0.573     6.794  89.3   2.54   2.31   \n",
              "505   19.0     0.04741       41.93     0.573     6.030  80.8   2.72   2.24   \n",
              "\n",
              "     dist3  dist4  teachers  poor_prop airport  n_hos_beds  n_hot_rooms  \\\n",
              "0     4.18   4.01      24.7       4.98     YES       5.480     11.19200   \n",
              "1     5.12   5.06      22.2       9.14      NO       7.332     12.17280   \n",
              "2     5.01   4.97      22.2       4.03      NO       7.394     15.39952   \n",
              "3     6.16   5.96      21.3       2.94     YES       9.268     11.26720   \n",
              "4     6.37   5.86      21.3       5.33      NO       8.824     11.28960   \n",
              "..     ...    ...       ...        ...     ...         ...          ...   \n",
              "501   2.76   2.06      19.0       9.67      NO       9.348     12.17920   \n",
              "502   2.46   2.14      19.0       9.08     YES       6.612     13.16480   \n",
              "503   2.29   1.98      19.0       5.64      NO       5.478     12.19120   \n",
              "504   2.40   2.31      19.0       6.48     YES       7.940     15.17600   \n",
              "505   2.64   2.42      19.0       7.88     YES      10.280     10.15200   \n",
              "\n",
              "          waterbody  rainfall     parks  \n",
              "0             River        23  0.049347  \n",
              "1              Lake        42  0.046146  \n",
              "2              None        38  0.045764  \n",
              "3              Lake        45  0.047151  \n",
              "4              Lake        55  0.039474  \n",
              "..              ...       ...       ...  \n",
              "501  Lake and River        27  0.056006  \n",
              "502  Lake and River        20  0.059903  \n",
              "503            None        31  0.057572  \n",
              "504            None        47  0.060694  \n",
              "505            None        45  0.060336  \n",
              "\n",
              "[506 rows x 18 columns]"
            ]
          },
          "execution_count": 27,
          "metadata": {},
          "output_type": "execute_result"
        }
      ],
      "source": [
        "df"
      ]
    },
    {
      "cell_type": "code",
      "execution_count": null,
      "id": "e436fb8f",
      "metadata": {
        "id": "e436fb8f",
        "outputId": "f09416ea-17f3-4211-b90e-87e837b0d222"
      },
      "outputs": [
        {
          "name": "stdout",
          "output_type": "stream",
          "text": [
            "<class 'pandas.core.frame.DataFrame'>\n",
            "RangeIndex: 506 entries, 0 to 505\n",
            "Data columns (total 18 columns):\n",
            " #   Column       Non-Null Count  Dtype  \n",
            "---  ------       --------------  -----  \n",
            " 0   price        506 non-null    float64\n",
            " 1   crime_rate   506 non-null    float64\n",
            " 2   resid_area   506 non-null    float64\n",
            " 3   air_qual     506 non-null    float64\n",
            " 4   room_num     506 non-null    float64\n",
            " 5   age          506 non-null    float64\n",
            " 6   dist1        506 non-null    float64\n",
            " 7   dist2        506 non-null    float64\n",
            " 8   dist3        506 non-null    float64\n",
            " 9   dist4        506 non-null    float64\n",
            " 10  teachers     506 non-null    float64\n",
            " 11  poor_prop    506 non-null    float64\n",
            " 12  airport      506 non-null    object \n",
            " 13  n_hos_beds   506 non-null    float64\n",
            " 14  n_hot_rooms  506 non-null    float64\n",
            " 15  waterbody    506 non-null    object \n",
            " 16  rainfall     506 non-null    int64  \n",
            " 17  parks        506 non-null    float64\n",
            "dtypes: float64(15), int64(1), object(2)\n",
            "memory usage: 71.3+ KB\n"
          ]
        }
      ],
      "source": [
        "df.info()"
      ]
    },
    {
      "cell_type": "code",
      "execution_count": null,
      "id": "f6506180",
      "metadata": {
        "id": "f6506180"
      },
      "outputs": [],
      "source": [
        "df.crime_rate=np.log(1+df.crime_rate)"
      ]
    },
    {
      "cell_type": "code",
      "execution_count": null,
      "id": "583d6b0a",
      "metadata": {
        "id": "583d6b0a",
        "outputId": "a6473a33-ae09-4df6-95f0-2b5594a2229d"
      },
      "outputs": [
        {
          "data": {
            "text/html": [
              "<div>\n",
              "<style scoped>\n",
              "    .dataframe tbody tr th:only-of-type {\n",
              "        vertical-align: middle;\n",
              "    }\n",
              "\n",
              "    .dataframe tbody tr th {\n",
              "        vertical-align: top;\n",
              "    }\n",
              "\n",
              "    .dataframe thead th {\n",
              "        text-align: right;\n",
              "    }\n",
              "</style>\n",
              "<table border=\"1\" class=\"dataframe\">\n",
              "  <thead>\n",
              "    <tr style=\"text-align: right;\">\n",
              "      <th></th>\n",
              "      <th>price</th>\n",
              "      <th>crime_rate</th>\n",
              "      <th>resid_area</th>\n",
              "      <th>air_qual</th>\n",
              "      <th>room_num</th>\n",
              "      <th>age</th>\n",
              "      <th>dist1</th>\n",
              "      <th>dist2</th>\n",
              "      <th>dist3</th>\n",
              "      <th>dist4</th>\n",
              "      <th>teachers</th>\n",
              "      <th>poor_prop</th>\n",
              "      <th>n_hos_beds</th>\n",
              "      <th>n_hot_rooms</th>\n",
              "      <th>rainfall</th>\n",
              "      <th>parks</th>\n",
              "    </tr>\n",
              "  </thead>\n",
              "  <tbody>\n",
              "    <tr>\n",
              "      <th>count</th>\n",
              "      <td>506.000000</td>\n",
              "      <td>506.000000</td>\n",
              "      <td>506.000000</td>\n",
              "      <td>506.000000</td>\n",
              "      <td>506.000000</td>\n",
              "      <td>506.000000</td>\n",
              "      <td>506.000000</td>\n",
              "      <td>506.000000</td>\n",
              "      <td>506.000000</td>\n",
              "      <td>506.000000</td>\n",
              "      <td>506.000000</td>\n",
              "      <td>506.000000</td>\n",
              "      <td>506.000000</td>\n",
              "      <td>506.000000</td>\n",
              "      <td>506.000000</td>\n",
              "      <td>506.000000</td>\n",
              "    </tr>\n",
              "    <tr>\n",
              "      <th>mean</th>\n",
              "      <td>22.528854</td>\n",
              "      <td>0.813418</td>\n",
              "      <td>41.136779</td>\n",
              "      <td>0.554695</td>\n",
              "      <td>6.284634</td>\n",
              "      <td>68.574901</td>\n",
              "      <td>3.971996</td>\n",
              "      <td>3.628775</td>\n",
              "      <td>3.960672</td>\n",
              "      <td>3.618972</td>\n",
              "      <td>21.544466</td>\n",
              "      <td>12.653063</td>\n",
              "      <td>7.899767</td>\n",
              "      <td>12.742311</td>\n",
              "      <td>39.215415</td>\n",
              "      <td>0.054454</td>\n",
              "    </tr>\n",
              "    <tr>\n",
              "      <th>std</th>\n",
              "      <td>9.182176</td>\n",
              "      <td>1.022731</td>\n",
              "      <td>6.860353</td>\n",
              "      <td>0.115878</td>\n",
              "      <td>0.702617</td>\n",
              "      <td>28.148861</td>\n",
              "      <td>2.108532</td>\n",
              "      <td>2.108580</td>\n",
              "      <td>2.119797</td>\n",
              "      <td>2.099203</td>\n",
              "      <td>2.164946</td>\n",
              "      <td>7.141062</td>\n",
              "      <td>1.464939</td>\n",
              "      <td>1.685042</td>\n",
              "      <td>12.438961</td>\n",
              "      <td>0.010632</td>\n",
              "    </tr>\n",
              "    <tr>\n",
              "      <th>min</th>\n",
              "      <td>5.000000</td>\n",
              "      <td>0.006300</td>\n",
              "      <td>30.460000</td>\n",
              "      <td>0.385000</td>\n",
              "      <td>3.561000</td>\n",
              "      <td>2.900000</td>\n",
              "      <td>1.130000</td>\n",
              "      <td>0.920000</td>\n",
              "      <td>1.150000</td>\n",
              "      <td>0.730000</td>\n",
              "      <td>18.000000</td>\n",
              "      <td>1.730000</td>\n",
              "      <td>5.268000</td>\n",
              "      <td>10.057600</td>\n",
              "      <td>20.000000</td>\n",
              "      <td>0.033292</td>\n",
              "    </tr>\n",
              "    <tr>\n",
              "      <th>25%</th>\n",
              "      <td>17.025000</td>\n",
              "      <td>0.078853</td>\n",
              "      <td>35.190000</td>\n",
              "      <td>0.449000</td>\n",
              "      <td>5.885500</td>\n",
              "      <td>45.025000</td>\n",
              "      <td>2.270000</td>\n",
              "      <td>1.940000</td>\n",
              "      <td>2.232500</td>\n",
              "      <td>1.940000</td>\n",
              "      <td>19.800000</td>\n",
              "      <td>6.950000</td>\n",
              "      <td>6.659000</td>\n",
              "      <td>11.189800</td>\n",
              "      <td>28.000000</td>\n",
              "      <td>0.046464</td>\n",
              "    </tr>\n",
              "    <tr>\n",
              "      <th>50%</th>\n",
              "      <td>21.200000</td>\n",
              "      <td>0.228336</td>\n",
              "      <td>39.690000</td>\n",
              "      <td>0.538000</td>\n",
              "      <td>6.208500</td>\n",
              "      <td>77.500000</td>\n",
              "      <td>3.385000</td>\n",
              "      <td>3.010000</td>\n",
              "      <td>3.375000</td>\n",
              "      <td>3.070000</td>\n",
              "      <td>20.950000</td>\n",
              "      <td>11.360000</td>\n",
              "      <td>7.963000</td>\n",
              "      <td>12.720000</td>\n",
              "      <td>39.000000</td>\n",
              "      <td>0.053507</td>\n",
              "    </tr>\n",
              "    <tr>\n",
              "      <th>75%</th>\n",
              "      <td>25.000000</td>\n",
              "      <td>1.542674</td>\n",
              "      <td>48.100000</td>\n",
              "      <td>0.624000</td>\n",
              "      <td>6.623500</td>\n",
              "      <td>94.075000</td>\n",
              "      <td>5.367500</td>\n",
              "      <td>4.992500</td>\n",
              "      <td>5.407500</td>\n",
              "      <td>4.985000</td>\n",
              "      <td>22.600000</td>\n",
              "      <td>16.955000</td>\n",
              "      <td>9.076000</td>\n",
              "      <td>14.170800</td>\n",
              "      <td>50.000000</td>\n",
              "      <td>0.061397</td>\n",
              "    </tr>\n",
              "    <tr>\n",
              "      <th>max</th>\n",
              "      <td>50.000000</td>\n",
              "      <td>4.499545</td>\n",
              "      <td>57.740000</td>\n",
              "      <td>0.871000</td>\n",
              "      <td>8.780000</td>\n",
              "      <td>100.000000</td>\n",
              "      <td>12.320000</td>\n",
              "      <td>11.930000</td>\n",
              "      <td>12.320000</td>\n",
              "      <td>11.940000</td>\n",
              "      <td>27.400000</td>\n",
              "      <td>37.970000</td>\n",
              "      <td>10.876000</td>\n",
              "      <td>15.399520</td>\n",
              "      <td>60.000000</td>\n",
              "      <td>0.086711</td>\n",
              "    </tr>\n",
              "  </tbody>\n",
              "</table>\n",
              "</div>"
            ],
            "text/plain": [
              "            price  crime_rate  resid_area    air_qual    room_num         age  \\\n",
              "count  506.000000  506.000000  506.000000  506.000000  506.000000  506.000000   \n",
              "mean    22.528854    0.813418   41.136779    0.554695    6.284634   68.574901   \n",
              "std      9.182176    1.022731    6.860353    0.115878    0.702617   28.148861   \n",
              "min      5.000000    0.006300   30.460000    0.385000    3.561000    2.900000   \n",
              "25%     17.025000    0.078853   35.190000    0.449000    5.885500   45.025000   \n",
              "50%     21.200000    0.228336   39.690000    0.538000    6.208500   77.500000   \n",
              "75%     25.000000    1.542674   48.100000    0.624000    6.623500   94.075000   \n",
              "max     50.000000    4.499545   57.740000    0.871000    8.780000  100.000000   \n",
              "\n",
              "            dist1       dist2       dist3       dist4    teachers   poor_prop  \\\n",
              "count  506.000000  506.000000  506.000000  506.000000  506.000000  506.000000   \n",
              "mean     3.971996    3.628775    3.960672    3.618972   21.544466   12.653063   \n",
              "std      2.108532    2.108580    2.119797    2.099203    2.164946    7.141062   \n",
              "min      1.130000    0.920000    1.150000    0.730000   18.000000    1.730000   \n",
              "25%      2.270000    1.940000    2.232500    1.940000   19.800000    6.950000   \n",
              "50%      3.385000    3.010000    3.375000    3.070000   20.950000   11.360000   \n",
              "75%      5.367500    4.992500    5.407500    4.985000   22.600000   16.955000   \n",
              "max     12.320000   11.930000   12.320000   11.940000   27.400000   37.970000   \n",
              "\n",
              "       n_hos_beds  n_hot_rooms    rainfall       parks  \n",
              "count  506.000000   506.000000  506.000000  506.000000  \n",
              "mean     7.899767    12.742311   39.215415    0.054454  \n",
              "std      1.464939     1.685042   12.438961    0.010632  \n",
              "min      5.268000    10.057600   20.000000    0.033292  \n",
              "25%      6.659000    11.189800   28.000000    0.046464  \n",
              "50%      7.963000    12.720000   39.000000    0.053507  \n",
              "75%      9.076000    14.170800   50.000000    0.061397  \n",
              "max     10.876000    15.399520   60.000000    0.086711  "
            ]
          },
          "execution_count": 30,
          "metadata": {},
          "output_type": "execute_result"
        }
      ],
      "source": [
        "df.describe()"
      ]
    },
    {
      "cell_type": "code",
      "execution_count": null,
      "id": "28d1f234",
      "metadata": {
        "id": "28d1f234",
        "outputId": "1104cb17-9805-4c07-ac8e-81eb83d824b9"
      },
      "outputs": [
        {
          "data": {
            "text/plain": [
              "<seaborn.axisgrid.JointGrid at 0x7feee207b100>"
            ]
          },
          "execution_count": 31,
          "metadata": {},
          "output_type": "execute_result"
        },
        {
          "data": {
            "image/png": "[encoded data removed]",
            "text/plain": [
              "<Figure size 600x600 with 3 Axes>"
            ]
          },
          "metadata": {},
          "output_type": "display_data"
        }
      ],
      "source": [
        "sns.jointplot(x='crime_rate',y='price',data=df)"
      ]
    },
    {
      "cell_type": "code",
      "execution_count": null,
      "id": "eb730576",
      "metadata": {
        "id": "eb730576"
      },
      "outputs": [],
      "source": [
        "df['avg_dist']=(df.dist1+df.dist2+df.dist3+df.dist4)/4"
      ]
    },
    {
      "cell_type": "code",
      "execution_count": null,
      "id": "d41ff53b",
      "metadata": {
        "id": "d41ff53b",
        "outputId": "623f363e-9ee4-4de2-db67-fef303e21864"
      },
      "outputs": [
        {
          "data": {
            "text/html": [
              "<div>\n",
              "<style scoped>\n",
              "    .dataframe tbody tr th:only-of-type {\n",
              "        vertical-align: middle;\n",
              "    }\n",
              "\n",
              "    .dataframe tbody tr th {\n",
              "        vertical-align: top;\n",
              "    }\n",
              "\n",
              "    .dataframe thead th {\n",
              "        text-align: right;\n",
              "    }\n",
              "</style>\n",
              "<table border=\"1\" class=\"dataframe\">\n",
              "  <thead>\n",
              "    <tr style=\"text-align: right;\">\n",
              "      <th></th>\n",
              "      <th>price</th>\n",
              "      <th>crime_rate</th>\n",
              "      <th>resid_area</th>\n",
              "      <th>air_qual</th>\n",
              "      <th>room_num</th>\n",
              "      <th>age</th>\n",
              "      <th>dist1</th>\n",
              "      <th>dist2</th>\n",
              "      <th>dist3</th>\n",
              "      <th>dist4</th>\n",
              "      <th>teachers</th>\n",
              "      <th>poor_prop</th>\n",
              "      <th>airport</th>\n",
              "      <th>n_hos_beds</th>\n",
              "      <th>n_hot_rooms</th>\n",
              "      <th>waterbody</th>\n",
              "      <th>rainfall</th>\n",
              "      <th>parks</th>\n",
              "      <th>avg_dist</th>\n",
              "    </tr>\n",
              "  </thead>\n",
              "  <tbody>\n",
              "    <tr>\n",
              "      <th>0</th>\n",
              "      <td>24.0</td>\n",
              "      <td>0.006300</td>\n",
              "      <td>32.31</td>\n",
              "      <td>0.538</td>\n",
              "      <td>6.575</td>\n",
              "      <td>65.2</td>\n",
              "      <td>4.35</td>\n",
              "      <td>3.81</td>\n",
              "      <td>4.18</td>\n",
              "      <td>4.01</td>\n",
              "      <td>24.7</td>\n",
              "      <td>4.98</td>\n",
              "      <td>YES</td>\n",
              "      <td>5.480</td>\n",
              "      <td>11.19200</td>\n",
              "      <td>River</td>\n",
              "      <td>23</td>\n",
              "      <td>0.049347</td>\n",
              "      <td>4.0875</td>\n",
              "    </tr>\n",
              "    <tr>\n",
              "      <th>1</th>\n",
              "      <td>21.6</td>\n",
              "      <td>0.026944</td>\n",
              "      <td>37.07</td>\n",
              "      <td>0.469</td>\n",
              "      <td>6.421</td>\n",
              "      <td>78.9</td>\n",
              "      <td>4.99</td>\n",
              "      <td>4.70</td>\n",
              "      <td>5.12</td>\n",
              "      <td>5.06</td>\n",
              "      <td>22.2</td>\n",
              "      <td>9.14</td>\n",
              "      <td>NO</td>\n",
              "      <td>7.332</td>\n",
              "      <td>12.17280</td>\n",
              "      <td>Lake</td>\n",
              "      <td>42</td>\n",
              "      <td>0.046146</td>\n",
              "      <td>4.9675</td>\n",
              "    </tr>\n",
              "    <tr>\n",
              "      <th>2</th>\n",
              "      <td>34.7</td>\n",
              "      <td>0.026924</td>\n",
              "      <td>37.07</td>\n",
              "      <td>0.469</td>\n",
              "      <td>7.185</td>\n",
              "      <td>61.1</td>\n",
              "      <td>5.03</td>\n",
              "      <td>4.86</td>\n",
              "      <td>5.01</td>\n",
              "      <td>4.97</td>\n",
              "      <td>22.2</td>\n",
              "      <td>4.03</td>\n",
              "      <td>NO</td>\n",
              "      <td>7.394</td>\n",
              "      <td>15.39952</td>\n",
              "      <td>None</td>\n",
              "      <td>38</td>\n",
              "      <td>0.045764</td>\n",
              "      <td>4.9675</td>\n",
              "    </tr>\n",
              "    <tr>\n",
              "      <th>3</th>\n",
              "      <td>33.4</td>\n",
              "      <td>0.031857</td>\n",
              "      <td>32.18</td>\n",
              "      <td>0.458</td>\n",
              "      <td>6.998</td>\n",
              "      <td>45.8</td>\n",
              "      <td>6.21</td>\n",
              "      <td>5.93</td>\n",
              "      <td>6.16</td>\n",
              "      <td>5.96</td>\n",
              "      <td>21.3</td>\n",
              "      <td>2.94</td>\n",
              "      <td>YES</td>\n",
              "      <td>9.268</td>\n",
              "      <td>11.26720</td>\n",
              "      <td>Lake</td>\n",
              "      <td>45</td>\n",
              "      <td>0.047151</td>\n",
              "      <td>6.0650</td>\n",
              "    </tr>\n",
              "    <tr>\n",
              "      <th>4</th>\n",
              "      <td>36.2</td>\n",
              "      <td>0.066770</td>\n",
              "      <td>32.18</td>\n",
              "      <td>0.458</td>\n",
              "      <td>7.147</td>\n",
              "      <td>54.2</td>\n",
              "      <td>6.16</td>\n",
              "      <td>5.86</td>\n",
              "      <td>6.37</td>\n",
              "      <td>5.86</td>\n",
              "      <td>21.3</td>\n",
              "      <td>5.33</td>\n",
              "      <td>NO</td>\n",
              "      <td>8.824</td>\n",
              "      <td>11.28960</td>\n",
              "      <td>Lake</td>\n",
              "      <td>55</td>\n",
              "      <td>0.039474</td>\n",
              "      <td>6.0625</td>\n",
              "    </tr>\n",
              "    <tr>\n",
              "      <th>...</th>\n",
              "      <td>...</td>\n",
              "      <td>...</td>\n",
              "      <td>...</td>\n",
              "      <td>...</td>\n",
              "      <td>...</td>\n",
              "      <td>...</td>\n",
              "      <td>...</td>\n",
              "      <td>...</td>\n",
              "      <td>...</td>\n",
              "      <td>...</td>\n",
              "      <td>...</td>\n",
              "      <td>...</td>\n",
              "      <td>...</td>\n",
              "      <td>...</td>\n",
              "      <td>...</td>\n",
              "      <td>...</td>\n",
              "      <td>...</td>\n",
              "      <td>...</td>\n",
              "      <td>...</td>\n",
              "    </tr>\n",
              "    <tr>\n",
              "      <th>501</th>\n",
              "      <td>22.4</td>\n",
              "      <td>0.060747</td>\n",
              "      <td>41.93</td>\n",
              "      <td>0.573</td>\n",
              "      <td>6.593</td>\n",
              "      <td>69.1</td>\n",
              "      <td>2.64</td>\n",
              "      <td>2.45</td>\n",
              "      <td>2.76</td>\n",
              "      <td>2.06</td>\n",
              "      <td>19.0</td>\n",
              "      <td>9.67</td>\n",
              "      <td>NO</td>\n",
              "      <td>9.348</td>\n",
              "      <td>12.17920</td>\n",
              "      <td>Lake and River</td>\n",
              "      <td>27</td>\n",
              "      <td>0.056006</td>\n",
              "      <td>2.4775</td>\n",
              "    </tr>\n",
              "    <tr>\n",
              "      <th>502</th>\n",
              "      <td>20.6</td>\n",
              "      <td>0.044275</td>\n",
              "      <td>41.93</td>\n",
              "      <td>0.573</td>\n",
              "      <td>6.120</td>\n",
              "      <td>76.7</td>\n",
              "      <td>2.44</td>\n",
              "      <td>2.11</td>\n",
              "      <td>2.46</td>\n",
              "      <td>2.14</td>\n",
              "      <td>19.0</td>\n",
              "      <td>9.08</td>\n",
              "      <td>YES</td>\n",
              "      <td>6.612</td>\n",
              "      <td>13.16480</td>\n",
              "      <td>Lake and River</td>\n",
              "      <td>20</td>\n",
              "      <td>0.059903</td>\n",
              "      <td>2.2875</td>\n",
              "    </tr>\n",
              "    <tr>\n",
              "      <th>503</th>\n",
              "      <td>23.9</td>\n",
              "      <td>0.058986</td>\n",
              "      <td>41.93</td>\n",
              "      <td>0.573</td>\n",
              "      <td>6.976</td>\n",
              "      <td>91.0</td>\n",
              "      <td>2.34</td>\n",
              "      <td>2.06</td>\n",
              "      <td>2.29</td>\n",
              "      <td>1.98</td>\n",
              "      <td>19.0</td>\n",
              "      <td>5.64</td>\n",
              "      <td>NO</td>\n",
              "      <td>5.478</td>\n",
              "      <td>12.19120</td>\n",
              "      <td>None</td>\n",
              "      <td>31</td>\n",
              "      <td>0.057572</td>\n",
              "      <td>2.1675</td>\n",
              "    </tr>\n",
              "    <tr>\n",
              "      <th>504</th>\n",
              "      <td>22.0</td>\n",
              "      <td>0.103991</td>\n",
              "      <td>41.93</td>\n",
              "      <td>0.573</td>\n",
              "      <td>6.794</td>\n",
              "      <td>89.3</td>\n",
              "      <td>2.54</td>\n",
              "      <td>2.31</td>\n",
              "      <td>2.40</td>\n",
              "      <td>2.31</td>\n",
              "      <td>19.0</td>\n",
              "      <td>6.48</td>\n",
              "      <td>YES</td>\n",
              "      <td>7.940</td>\n",
              "      <td>15.17600</td>\n",
              "      <td>None</td>\n",
              "      <td>47</td>\n",
              "      <td>0.060694</td>\n",
              "      <td>2.3900</td>\n",
              "    </tr>\n",
              "    <tr>\n",
              "      <th>505</th>\n",
              "      <td>19.0</td>\n",
              "      <td>0.046320</td>\n",
              "      <td>41.93</td>\n",
              "      <td>0.573</td>\n",
              "      <td>6.030</td>\n",
              "      <td>80.8</td>\n",
              "      <td>2.72</td>\n",
              "      <td>2.24</td>\n",
              "      <td>2.64</td>\n",
              "      <td>2.42</td>\n",
              "      <td>19.0</td>\n",
              "      <td>7.88</td>\n",
              "      <td>YES</td>\n",
              "      <td>10.280</td>\n",
              "      <td>10.15200</td>\n",
              "      <td>None</td>\n",
              "      <td>45</td>\n",
              "      <td>0.060336</td>\n",
              "      <td>2.5050</td>\n",
              "    </tr>\n",
              "  </tbody>\n",
              "</table>\n",
              "<p>506 rows × 19 columns</p>\n",
              "</div>"
            ],
            "text/plain": [
              "     price  crime_rate  resid_area  air_qual  room_num   age  dist1  dist2  \\\n",
              "0     24.0    0.006300       32.31     0.538     6.575  65.2   4.35   3.81   \n",
              "1     21.6    0.026944       37.07     0.469     6.421  78.9   4.99   4.70   \n",
              "2     34.7    0.026924       37.07     0.469     7.185  61.1   5.03   4.86   \n",
              "3     33.4    0.031857       32.18     0.458     6.998  45.8   6.21   5.93   \n",
              "4     36.2    0.066770       32.18     0.458     7.147  54.2   6.16   5.86   \n",
              "..     ...         ...         ...       ...       ...   ...    ...    ...   \n",
              "501   22.4    0.060747       41.93     0.573     6.593  69.1   2.64   2.45   \n",
              "502   20.6    0.044275       41.93     0.573     6.120  76.7   2.44   2.11   \n",
              "503   23.9    0.058986       41.93     0.573     6.976  91.0   2.34   2.06   \n",
              "504   22.0    0.103991       41.93     0.573     6.794  89.3   2.54   2.31   \n",
              "505   19.0    0.046320       41.93     0.573     6.030  80.8   2.72   2.24   \n",
              "\n",
              "     dist3  dist4  teachers  poor_prop airport  n_hos_beds  n_hot_rooms  \\\n",
              "0     4.18   4.01      24.7       4.98     YES       5.480     11.19200   \n",
              "1     5.12   5.06      22.2       9.14      NO       7.332     12.17280   \n",
              "2     5.01   4.97      22.2       4.03      NO       7.394     15.39952   \n",
              "3     6.16   5.96      21.3       2.94     YES       9.268     11.26720   \n",
              "4     6.37   5.86      21.3       5.33      NO       8.824     11.28960   \n",
              "..     ...    ...       ...        ...     ...         ...          ...   \n",
              "501   2.76   2.06      19.0       9.67      NO       9.348     12.17920   \n",
              "502   2.46   2.14      19.0       9.08     YES       6.612     13.16480   \n",
              "503   2.29   1.98      19.0       5.64      NO       5.478     12.19120   \n",
              "504   2.40   2.31      19.0       6.48     YES       7.940     15.17600   \n",
              "505   2.64   2.42      19.0       7.88     YES      10.280     10.15200   \n",
              "\n",
              "          waterbody  rainfall     parks  avg_dist  \n",
              "0             River        23  0.049347    4.0875  \n",
              "1              Lake        42  0.046146    4.9675  \n",
              "2              None        38  0.045764    4.9675  \n",
              "3              Lake        45  0.047151    6.0650  \n",
              "4              Lake        55  0.039474    6.0625  \n",
              "..              ...       ...       ...       ...  \n",
              "501  Lake and River        27  0.056006    2.4775  \n",
              "502  Lake and River        20  0.059903    2.2875  \n",
              "503            None        31  0.057572    2.1675  \n",
              "504            None        47  0.060694    2.3900  \n",
              "505            None        45  0.060336    2.5050  \n",
              "\n",
              "[506 rows x 19 columns]"
            ]
          },
          "execution_count": 33,
          "metadata": {},
          "output_type": "execute_result"
        }
      ],
      "source": [
        "df"
      ]
    },
    {
      "cell_type": "code",
      "execution_count": null,
      "id": "5e27f736",
      "metadata": {
        "id": "5e27f736"
      },
      "outputs": [],
      "source": [
        "del df['dist1']"
      ]
    },
    {
      "cell_type": "code",
      "execution_count": null,
      "id": "b3694a29",
      "metadata": {
        "id": "b3694a29"
      },
      "outputs": [],
      "source": [
        "del df['dist2']"
      ]
    },
    {
      "cell_type": "code",
      "execution_count": null,
      "id": "bb8b282e",
      "metadata": {
        "id": "bb8b282e"
      },
      "outputs": [],
      "source": [
        "del df['dist3']"
      ]
    },
    {
      "cell_type": "code",
      "execution_count": null,
      "id": "d43bb550",
      "metadata": {
        "id": "d43bb550"
      },
      "outputs": [],
      "source": [
        "del df['dist4']"
      ]
    },
    {
      "cell_type": "code",
      "execution_count": null,
      "id": "58d6a870",
      "metadata": {
        "id": "58d6a870",
        "outputId": "e0210ba2-2c86-482e-fe3c-dd3957d4681c"
      },
      "outputs": [
        {
          "data": {
            "text/html": [
              "<div>\n",
              "<style scoped>\n",
              "    .dataframe tbody tr th:only-of-type {\n",
              "        vertical-align: middle;\n",
              "    }\n",
              "\n",
              "    .dataframe tbody tr th {\n",
              "        vertical-align: top;\n",
              "    }\n",
              "\n",
              "    .dataframe thead th {\n",
              "        text-align: right;\n",
              "    }\n",
              "</style>\n",
              "<table border=\"1\" class=\"dataframe\">\n",
              "  <thead>\n",
              "    <tr style=\"text-align: right;\">\n",
              "      <th></th>\n",
              "      <th>price</th>\n",
              "      <th>crime_rate</th>\n",
              "      <th>resid_area</th>\n",
              "      <th>air_qual</th>\n",
              "      <th>room_num</th>\n",
              "      <th>age</th>\n",
              "      <th>teachers</th>\n",
              "      <th>poor_prop</th>\n",
              "      <th>airport</th>\n",
              "      <th>n_hos_beds</th>\n",
              "      <th>n_hot_rooms</th>\n",
              "      <th>waterbody</th>\n",
              "      <th>rainfall</th>\n",
              "      <th>parks</th>\n",
              "      <th>avg_dist</th>\n",
              "    </tr>\n",
              "  </thead>\n",
              "  <tbody>\n",
              "    <tr>\n",
              "      <th>0</th>\n",
              "      <td>24.0</td>\n",
              "      <td>0.006300</td>\n",
              "      <td>32.31</td>\n",
              "      <td>0.538</td>\n",
              "      <td>6.575</td>\n",
              "      <td>65.2</td>\n",
              "      <td>24.7</td>\n",
              "      <td>4.98</td>\n",
              "      <td>YES</td>\n",
              "      <td>5.480</td>\n",
              "      <td>11.19200</td>\n",
              "      <td>River</td>\n",
              "      <td>23</td>\n",
              "      <td>0.049347</td>\n",
              "      <td>4.0875</td>\n",
              "    </tr>\n",
              "    <tr>\n",
              "      <th>1</th>\n",
              "      <td>21.6</td>\n",
              "      <td>0.026944</td>\n",
              "      <td>37.07</td>\n",
              "      <td>0.469</td>\n",
              "      <td>6.421</td>\n",
              "      <td>78.9</td>\n",
              "      <td>22.2</td>\n",
              "      <td>9.14</td>\n",
              "      <td>NO</td>\n",
              "      <td>7.332</td>\n",
              "      <td>12.17280</td>\n",
              "      <td>Lake</td>\n",
              "      <td>42</td>\n",
              "      <td>0.046146</td>\n",
              "      <td>4.9675</td>\n",
              "    </tr>\n",
              "    <tr>\n",
              "      <th>2</th>\n",
              "      <td>34.7</td>\n",
              "      <td>0.026924</td>\n",
              "      <td>37.07</td>\n",
              "      <td>0.469</td>\n",
              "      <td>7.185</td>\n",
              "      <td>61.1</td>\n",
              "      <td>22.2</td>\n",
              "      <td>4.03</td>\n",
              "      <td>NO</td>\n",
              "      <td>7.394</td>\n",
              "      <td>15.39952</td>\n",
              "      <td>None</td>\n",
              "      <td>38</td>\n",
              "      <td>0.045764</td>\n",
              "      <td>4.9675</td>\n",
              "    </tr>\n",
              "    <tr>\n",
              "      <th>3</th>\n",
              "      <td>33.4</td>\n",
              "      <td>0.031857</td>\n",
              "      <td>32.18</td>\n",
              "      <td>0.458</td>\n",
              "      <td>6.998</td>\n",
              "      <td>45.8</td>\n",
              "      <td>21.3</td>\n",
              "      <td>2.94</td>\n",
              "      <td>YES</td>\n",
              "      <td>9.268</td>\n",
              "      <td>11.26720</td>\n",
              "      <td>Lake</td>\n",
              "      <td>45</td>\n",
              "      <td>0.047151</td>\n",
              "      <td>6.0650</td>\n",
              "    </tr>\n",
              "    <tr>\n",
              "      <th>4</th>\n",
              "      <td>36.2</td>\n",
              "      <td>0.066770</td>\n",
              "      <td>32.18</td>\n",
              "      <td>0.458</td>\n",
              "      <td>7.147</td>\n",
              "      <td>54.2</td>\n",
              "      <td>21.3</td>\n",
              "      <td>5.33</td>\n",
              "      <td>NO</td>\n",
              "      <td>8.824</td>\n",
              "      <td>11.28960</td>\n",
              "      <td>Lake</td>\n",
              "      <td>55</td>\n",
              "      <td>0.039474</td>\n",
              "      <td>6.0625</td>\n",
              "    </tr>\n",
              "    <tr>\n",
              "      <th>...</th>\n",
              "      <td>...</td>\n",
              "      <td>...</td>\n",
              "      <td>...</td>\n",
              "      <td>...</td>\n",
              "      <td>...</td>\n",
              "      <td>...</td>\n",
              "      <td>...</td>\n",
              "      <td>...</td>\n",
              "      <td>...</td>\n",
              "      <td>...</td>\n",
              "      <td>...</td>\n",
              "      <td>...</td>\n",
              "      <td>...</td>\n",
              "      <td>...</td>\n",
              "      <td>...</td>\n",
              "    </tr>\n",
              "    <tr>\n",
              "      <th>501</th>\n",
              "      <td>22.4</td>\n",
              "      <td>0.060747</td>\n",
              "      <td>41.93</td>\n",
              "      <td>0.573</td>\n",
              "      <td>6.593</td>\n",
              "      <td>69.1</td>\n",
              "      <td>19.0</td>\n",
              "      <td>9.67</td>\n",
              "      <td>NO</td>\n",
              "      <td>9.348</td>\n",
              "      <td>12.17920</td>\n",
              "      <td>Lake and River</td>\n",
              "      <td>27</td>\n",
              "      <td>0.056006</td>\n",
              "      <td>2.4775</td>\n",
              "    </tr>\n",
              "    <tr>\n",
              "      <th>502</th>\n",
              "      <td>20.6</td>\n",
              "      <td>0.044275</td>\n",
              "      <td>41.93</td>\n",
              "      <td>0.573</td>\n",
              "      <td>6.120</td>\n",
              "      <td>76.7</td>\n",
              "      <td>19.0</td>\n",
              "      <td>9.08</td>\n",
              "      <td>YES</td>\n",
              "      <td>6.612</td>\n",
              "      <td>13.16480</td>\n",
              "      <td>Lake and River</td>\n",
              "      <td>20</td>\n",
              "      <td>0.059903</td>\n",
              "      <td>2.2875</td>\n",
              "    </tr>\n",
              "    <tr>\n",
              "      <th>503</th>\n",
              "      <td>23.9</td>\n",
              "      <td>0.058986</td>\n",
              "      <td>41.93</td>\n",
              "      <td>0.573</td>\n",
              "      <td>6.976</td>\n",
              "      <td>91.0</td>\n",
              "      <td>19.0</td>\n",
              "      <td>5.64</td>\n",
              "      <td>NO</td>\n",
              "      <td>5.478</td>\n",
              "      <td>12.19120</td>\n",
              "      <td>None</td>\n",
              "      <td>31</td>\n",
              "      <td>0.057572</td>\n",
              "      <td>2.1675</td>\n",
              "    </tr>\n",
              "    <tr>\n",
              "      <th>504</th>\n",
              "      <td>22.0</td>\n",
              "      <td>0.103991</td>\n",
              "      <td>41.93</td>\n",
              "      <td>0.573</td>\n",
              "      <td>6.794</td>\n",
              "      <td>89.3</td>\n",
              "      <td>19.0</td>\n",
              "      <td>6.48</td>\n",
              "      <td>YES</td>\n",
              "      <td>7.940</td>\n",
              "      <td>15.17600</td>\n",
              "      <td>None</td>\n",
              "      <td>47</td>\n",
              "      <td>0.060694</td>\n",
              "      <td>2.3900</td>\n",
              "    </tr>\n",
              "    <tr>\n",
              "      <th>505</th>\n",
              "      <td>19.0</td>\n",
              "      <td>0.046320</td>\n",
              "      <td>41.93</td>\n",
              "      <td>0.573</td>\n",
              "      <td>6.030</td>\n",
              "      <td>80.8</td>\n",
              "      <td>19.0</td>\n",
              "      <td>7.88</td>\n",
              "      <td>YES</td>\n",
              "      <td>10.280</td>\n",
              "      <td>10.15200</td>\n",
              "      <td>None</td>\n",
              "      <td>45</td>\n",
              "      <td>0.060336</td>\n",
              "      <td>2.5050</td>\n",
              "    </tr>\n",
              "  </tbody>\n",
              "</table>\n",
              "<p>506 rows × 15 columns</p>\n",
              "</div>"
            ],
            "text/plain": [
              "     price  crime_rate  resid_area  air_qual  room_num   age  teachers  \\\n",
              "0     24.0    0.006300       32.31     0.538     6.575  65.2      24.7   \n",
              "1     21.6    0.026944       37.07     0.469     6.421  78.9      22.2   \n",
              "2     34.7    0.026924       37.07     0.469     7.185  61.1      22.2   \n",
              "3     33.4    0.031857       32.18     0.458     6.998  45.8      21.3   \n",
              "4     36.2    0.066770       32.18     0.458     7.147  54.2      21.3   \n",
              "..     ...         ...         ...       ...       ...   ...       ...   \n",
              "501   22.4    0.060747       41.93     0.573     6.593  69.1      19.0   \n",
              "502   20.6    0.044275       41.93     0.573     6.120  76.7      19.0   \n",
              "503   23.9    0.058986       41.93     0.573     6.976  91.0      19.0   \n",
              "504   22.0    0.103991       41.93     0.573     6.794  89.3      19.0   \n",
              "505   19.0    0.046320       41.93     0.573     6.030  80.8      19.0   \n",
              "\n",
              "     poor_prop airport  n_hos_beds  n_hot_rooms       waterbody  rainfall  \\\n",
              "0         4.98     YES       5.480     11.19200           River        23   \n",
              "1         9.14      NO       7.332     12.17280            Lake        42   \n",
              "2         4.03      NO       7.394     15.39952            None        38   \n",
              "3         2.94     YES       9.268     11.26720            Lake        45   \n",
              "4         5.33      NO       8.824     11.28960            Lake        55   \n",
              "..         ...     ...         ...          ...             ...       ...   \n",
              "501       9.67      NO       9.348     12.17920  Lake and River        27   \n",
              "502       9.08     YES       6.612     13.16480  Lake and River        20   \n",
              "503       5.64      NO       5.478     12.19120            None        31   \n",
              "504       6.48     YES       7.940     15.17600            None        47   \n",
              "505       7.88     YES      10.280     10.15200            None        45   \n",
              "\n",
              "        parks  avg_dist  \n",
              "0    0.049347    4.0875  \n",
              "1    0.046146    4.9675  \n",
              "2    0.045764    4.9675  \n",
              "3    0.047151    6.0650  \n",
              "4    0.039474    6.0625  \n",
              "..        ...       ...  \n",
              "501  0.056006    2.4775  \n",
              "502  0.059903    2.2875  \n",
              "503  0.057572    2.1675  \n",
              "504  0.060694    2.3900  \n",
              "505  0.060336    2.5050  \n",
              "\n",
              "[506 rows x 15 columns]"
            ]
          },
          "execution_count": 38,
          "metadata": {},
          "output_type": "execute_result"
        }
      ],
      "source": [
        "df"
      ]
    },
    {
      "cell_type": "code",
      "execution_count": null,
      "id": "5753b546",
      "metadata": {
        "id": "5753b546"
      },
      "outputs": [],
      "source": [
        "df=pd.get_dummies(df)\n"
      ]
    },
    {
      "cell_type": "code",
      "execution_count": null,
      "id": "4e572ce7",
      "metadata": {
        "id": "4e572ce7"
      },
      "outputs": [],
      "source": [
        "del df['airport_NO']\n",
        "del df['waterbody_Lake']"
      ]
    },
    {
      "cell_type": "code",
      "execution_count": null,
      "id": "43315b29",
      "metadata": {
        "id": "43315b29",
        "outputId": "5e0d390e-ce12-4434-b972-168ed480cfe3"
      },
      "outputs": [
        {
          "data": {
            "text/html": [
              "<div>\n",
              "<style scoped>\n",
              "    .dataframe tbody tr th:only-of-type {\n",
              "        vertical-align: middle;\n",
              "    }\n",
              "\n",
              "    .dataframe tbody tr th {\n",
              "        vertical-align: top;\n",
              "    }\n",
              "\n",
              "    .dataframe thead th {\n",
              "        text-align: right;\n",
              "    }\n",
              "</style>\n",
              "<table border=\"1\" class=\"dataframe\">\n",
              "  <thead>\n",
              "    <tr style=\"text-align: right;\">\n",
              "      <th></th>\n",
              "      <th>price</th>\n",
              "      <th>crime_rate</th>\n",
              "      <th>resid_area</th>\n",
              "      <th>air_qual</th>\n",
              "      <th>room_num</th>\n",
              "      <th>age</th>\n",
              "      <th>teachers</th>\n",
              "      <th>poor_prop</th>\n",
              "      <th>n_hos_beds</th>\n",
              "      <th>n_hot_rooms</th>\n",
              "      <th>rainfall</th>\n",
              "      <th>parks</th>\n",
              "      <th>avg_dist</th>\n",
              "      <th>airport_YES</th>\n",
              "      <th>waterbody_Lake and River</th>\n",
              "      <th>waterbody_None</th>\n",
              "      <th>waterbody_River</th>\n",
              "    </tr>\n",
              "  </thead>\n",
              "  <tbody>\n",
              "    <tr>\n",
              "      <th>price</th>\n",
              "      <td>1.000000</td>\n",
              "      <td>-0.466527</td>\n",
              "      <td>-0.484754</td>\n",
              "      <td>-0.429300</td>\n",
              "      <td>0.696304</td>\n",
              "      <td>-0.377999</td>\n",
              "      <td>0.505655</td>\n",
              "      <td>-0.740836</td>\n",
              "      <td>0.108880</td>\n",
              "      <td>0.015139</td>\n",
              "      <td>-0.046069</td>\n",
              "      <td>-0.391574</td>\n",
              "      <td>0.249289</td>\n",
              "      <td>0.182867</td>\n",
              "      <td>-0.037497</td>\n",
              "      <td>-0.077478</td>\n",
              "      <td>0.071751</td>\n",
              "    </tr>\n",
              "    <tr>\n",
              "      <th>crime_rate</th>\n",
              "      <td>-0.466527</td>\n",
              "      <td>1.000000</td>\n",
              "      <td>0.660283</td>\n",
              "      <td>0.707587</td>\n",
              "      <td>-0.288784</td>\n",
              "      <td>0.559591</td>\n",
              "      <td>-0.390052</td>\n",
              "      <td>0.608970</td>\n",
              "      <td>-0.004089</td>\n",
              "      <td>0.073075</td>\n",
              "      <td>0.081050</td>\n",
              "      <td>0.638951</td>\n",
              "      <td>-0.586371</td>\n",
              "      <td>-0.134486</td>\n",
              "      <td>0.009076</td>\n",
              "      <td>0.077487</td>\n",
              "      <td>-0.060099</td>\n",
              "    </tr>\n",
              "    <tr>\n",
              "      <th>resid_area</th>\n",
              "      <td>-0.484754</td>\n",
              "      <td>0.660283</td>\n",
              "      <td>1.000000</td>\n",
              "      <td>0.763651</td>\n",
              "      <td>-0.391676</td>\n",
              "      <td>0.644779</td>\n",
              "      <td>-0.383248</td>\n",
              "      <td>0.603800</td>\n",
              "      <td>0.005799</td>\n",
              "      <td>-0.021282</td>\n",
              "      <td>0.055929</td>\n",
              "      <td>0.707635</td>\n",
              "      <td>-0.708022</td>\n",
              "      <td>-0.115401</td>\n",
              "      <td>0.051649</td>\n",
              "      <td>0.086958</td>\n",
              "      <td>-0.098976</td>\n",
              "    </tr>\n",
              "    <tr>\n",
              "      <th>air_qual</th>\n",
              "      <td>-0.429300</td>\n",
              "      <td>0.707587</td>\n",
              "      <td>0.763651</td>\n",
              "      <td>1.000000</td>\n",
              "      <td>-0.302188</td>\n",
              "      <td>0.731470</td>\n",
              "      <td>-0.188933</td>\n",
              "      <td>0.590879</td>\n",
              "      <td>-0.049553</td>\n",
              "      <td>0.019793</td>\n",
              "      <td>0.091123</td>\n",
              "      <td>0.915544</td>\n",
              "      <td>-0.769247</td>\n",
              "      <td>-0.073903</td>\n",
              "      <td>0.013849</td>\n",
              "      <td>0.068554</td>\n",
              "      <td>-0.037772</td>\n",
              "    </tr>\n",
              "    <tr>\n",
              "      <th>room_num</th>\n",
              "      <td>0.696304</td>\n",
              "      <td>-0.288784</td>\n",
              "      <td>-0.391676</td>\n",
              "      <td>-0.302188</td>\n",
              "      <td>1.000000</td>\n",
              "      <td>-0.240265</td>\n",
              "      <td>0.355501</td>\n",
              "      <td>-0.613808</td>\n",
              "      <td>0.032009</td>\n",
              "      <td>-0.013759</td>\n",
              "      <td>-0.064735</td>\n",
              "      <td>-0.282817</td>\n",
              "      <td>0.205241</td>\n",
              "      <td>0.163774</td>\n",
              "      <td>0.010554</td>\n",
              "      <td>-0.052579</td>\n",
              "      <td>0.046251</td>\n",
              "    </tr>\n",
              "    <tr>\n",
              "      <th>age</th>\n",
              "      <td>-0.377999</td>\n",
              "      <td>0.559591</td>\n",
              "      <td>0.644779</td>\n",
              "      <td>0.731470</td>\n",
              "      <td>-0.240265</td>\n",
              "      <td>1.000000</td>\n",
              "      <td>-0.261515</td>\n",
              "      <td>0.602339</td>\n",
              "      <td>-0.021012</td>\n",
              "      <td>0.010572</td>\n",
              "      <td>0.072162</td>\n",
              "      <td>0.673850</td>\n",
              "      <td>-0.747906</td>\n",
              "      <td>0.005101</td>\n",
              "      <td>-0.004354</td>\n",
              "      <td>0.092693</td>\n",
              "      <td>-0.088609</td>\n",
              "    </tr>\n",
              "    <tr>\n",
              "      <th>teachers</th>\n",
              "      <td>0.505655</td>\n",
              "      <td>-0.390052</td>\n",
              "      <td>-0.383248</td>\n",
              "      <td>-0.188933</td>\n",
              "      <td>0.355501</td>\n",
              "      <td>-0.261515</td>\n",
              "      <td>1.000000</td>\n",
              "      <td>-0.374044</td>\n",
              "      <td>-0.008056</td>\n",
              "      <td>-0.040849</td>\n",
              "      <td>-0.046292</td>\n",
              "      <td>-0.187004</td>\n",
              "      <td>0.232452</td>\n",
              "      <td>0.069437</td>\n",
              "      <td>-0.046981</td>\n",
              "      <td>-0.104450</td>\n",
              "      <td>0.094256</td>\n",
              "    </tr>\n",
              "    <tr>\n",
              "      <th>poor_prop</th>\n",
              "      <td>-0.740836</td>\n",
              "      <td>0.608970</td>\n",
              "      <td>0.603800</td>\n",
              "      <td>0.590879</td>\n",
              "      <td>-0.613808</td>\n",
              "      <td>0.602339</td>\n",
              "      <td>-0.374044</td>\n",
              "      <td>1.000000</td>\n",
              "      <td>-0.066008</td>\n",
              "      <td>0.016979</td>\n",
              "      <td>0.060711</td>\n",
              "      <td>0.552310</td>\n",
              "      <td>-0.496967</td>\n",
              "      <td>-0.095054</td>\n",
              "      <td>0.020620</td>\n",
              "      <td>0.095352</td>\n",
              "      <td>-0.109004</td>\n",
              "    </tr>\n",
              "    <tr>\n",
              "      <th>n_hos_beds</th>\n",
              "      <td>0.108880</td>\n",
              "      <td>-0.004089</td>\n",
              "      <td>0.005799</td>\n",
              "      <td>-0.049553</td>\n",
              "      <td>0.032009</td>\n",
              "      <td>-0.021012</td>\n",
              "      <td>-0.008056</td>\n",
              "      <td>-0.066008</td>\n",
              "      <td>1.000000</td>\n",
              "      <td>-0.001596</td>\n",
              "      <td>0.058356</td>\n",
              "      <td>-0.071272</td>\n",
              "      <td>-0.027871</td>\n",
              "      <td>-0.006365</td>\n",
              "      <td>0.059482</td>\n",
              "      <td>-0.003632</td>\n",
              "      <td>-0.074148</td>\n",
              "    </tr>\n",
              "    <tr>\n",
              "      <th>n_hot_rooms</th>\n",
              "      <td>0.015139</td>\n",
              "      <td>0.073075</td>\n",
              "      <td>-0.021282</td>\n",
              "      <td>0.019793</td>\n",
              "      <td>-0.013759</td>\n",
              "      <td>0.010572</td>\n",
              "      <td>-0.040849</td>\n",
              "      <td>0.016979</td>\n",
              "      <td>-0.001596</td>\n",
              "      <td>1.000000</td>\n",
              "      <td>0.053606</td>\n",
              "      <td>0.037227</td>\n",
              "      <td>-0.022713</td>\n",
              "      <td>-0.008132</td>\n",
              "      <td>0.052761</td>\n",
              "      <td>0.006807</td>\n",
              "      <td>-0.047846</td>\n",
              "    </tr>\n",
              "    <tr>\n",
              "      <th>rainfall</th>\n",
              "      <td>-0.046069</td>\n",
              "      <td>0.081050</td>\n",
              "      <td>0.055929</td>\n",
              "      <td>0.091123</td>\n",
              "      <td>-0.064735</td>\n",
              "      <td>0.072162</td>\n",
              "      <td>-0.046292</td>\n",
              "      <td>0.060711</td>\n",
              "      <td>0.058356</td>\n",
              "      <td>0.053606</td>\n",
              "      <td>1.000000</td>\n",
              "      <td>0.076457</td>\n",
              "      <td>-0.037301</td>\n",
              "      <td>-0.011224</td>\n",
              "      <td>0.108846</td>\n",
              "      <td>-0.026700</td>\n",
              "      <td>-0.038865</td>\n",
              "    </tr>\n",
              "    <tr>\n",
              "      <th>parks</th>\n",
              "      <td>-0.391574</td>\n",
              "      <td>0.638951</td>\n",
              "      <td>0.707635</td>\n",
              "      <td>0.915544</td>\n",
              "      <td>-0.282817</td>\n",
              "      <td>0.673850</td>\n",
              "      <td>-0.187004</td>\n",
              "      <td>0.552310</td>\n",
              "      <td>-0.071272</td>\n",
              "      <td>0.037227</td>\n",
              "      <td>0.076457</td>\n",
              "      <td>1.000000</td>\n",
              "      <td>-0.707924</td>\n",
              "      <td>-0.052503</td>\n",
              "      <td>0.013265</td>\n",
              "      <td>0.070817</td>\n",
              "      <td>-0.048862</td>\n",
              "    </tr>\n",
              "    <tr>\n",
              "      <th>avg_dist</th>\n",
              "      <td>0.249289</td>\n",
              "      <td>-0.586371</td>\n",
              "      <td>-0.708022</td>\n",
              "      <td>-0.769247</td>\n",
              "      <td>0.205241</td>\n",
              "      <td>-0.747906</td>\n",
              "      <td>0.232452</td>\n",
              "      <td>-0.496967</td>\n",
              "      <td>-0.027871</td>\n",
              "      <td>-0.022713</td>\n",
              "      <td>-0.037301</td>\n",
              "      <td>-0.707924</td>\n",
              "      <td>1.000000</td>\n",
              "      <td>0.021402</td>\n",
              "      <td>-0.021320</td>\n",
              "      <td>-0.047342</td>\n",
              "      <td>0.032247</td>\n",
              "    </tr>\n",
              "    <tr>\n",
              "      <th>airport_YES</th>\n",
              "      <td>0.182867</td>\n",
              "      <td>-0.134486</td>\n",
              "      <td>-0.115401</td>\n",
              "      <td>-0.073903</td>\n",
              "      <td>0.163774</td>\n",
              "      <td>0.005101</td>\n",
              "      <td>0.069437</td>\n",
              "      <td>-0.095054</td>\n",
              "      <td>-0.006365</td>\n",
              "      <td>-0.008132</td>\n",
              "      <td>-0.011224</td>\n",
              "      <td>-0.052503</td>\n",
              "      <td>0.021402</td>\n",
              "      <td>1.000000</td>\n",
              "      <td>-0.070341</td>\n",
              "      <td>0.004617</td>\n",
              "      <td>0.017341</td>\n",
              "    </tr>\n",
              "    <tr>\n",
              "      <th>waterbody_Lake and River</th>\n",
              "      <td>-0.037497</td>\n",
              "      <td>0.009076</td>\n",
              "      <td>0.051649</td>\n",
              "      <td>0.013849</td>\n",
              "      <td>0.010554</td>\n",
              "      <td>-0.004354</td>\n",
              "      <td>-0.046981</td>\n",
              "      <td>0.020620</td>\n",
              "      <td>0.059482</td>\n",
              "      <td>0.052761</td>\n",
              "      <td>0.108846</td>\n",
              "      <td>0.013265</td>\n",
              "      <td>-0.021320</td>\n",
              "      <td>-0.070341</td>\n",
              "      <td>1.000000</td>\n",
              "      <td>-0.268471</td>\n",
              "      <td>-0.304095</td>\n",
              "    </tr>\n",
              "    <tr>\n",
              "      <th>waterbody_None</th>\n",
              "      <td>-0.077478</td>\n",
              "      <td>0.077487</td>\n",
              "      <td>0.086958</td>\n",
              "      <td>0.068554</td>\n",
              "      <td>-0.052579</td>\n",
              "      <td>0.092693</td>\n",
              "      <td>-0.104450</td>\n",
              "      <td>0.095352</td>\n",
              "      <td>-0.003632</td>\n",
              "      <td>0.006807</td>\n",
              "      <td>-0.026700</td>\n",
              "      <td>0.070817</td>\n",
              "      <td>-0.047342</td>\n",
              "      <td>0.004617</td>\n",
              "      <td>-0.268471</td>\n",
              "      <td>1.000000</td>\n",
              "      <td>-0.500192</td>\n",
              "    </tr>\n",
              "    <tr>\n",
              "      <th>waterbody_River</th>\n",
              "      <td>0.071751</td>\n",
              "      <td>-0.060099</td>\n",
              "      <td>-0.098976</td>\n",
              "      <td>-0.037772</td>\n",
              "      <td>0.046251</td>\n",
              "      <td>-0.088609</td>\n",
              "      <td>0.094256</td>\n",
              "      <td>-0.109004</td>\n",
              "      <td>-0.074148</td>\n",
              "      <td>-0.047846</td>\n",
              "      <td>-0.038865</td>\n",
              "      <td>-0.048862</td>\n",
              "      <td>0.032247</td>\n",
              "      <td>0.017341</td>\n",
              "      <td>-0.304095</td>\n",
              "      <td>-0.500192</td>\n",
              "      <td>1.000000</td>\n",
              "    </tr>\n",
              "  </tbody>\n",
              "</table>\n",
              "</div>"
            ],
            "text/plain": [
              "                             price  crime_rate  resid_area  air_qual  \\\n",
              "price                     1.000000   -0.466527   -0.484754 -0.429300   \n",
              "crime_rate               -0.466527    1.000000    0.660283  0.707587   \n",
              "resid_area               -0.484754    0.660283    1.000000  0.763651   \n",
              "air_qual                 -0.429300    0.707587    0.763651  1.000000   \n",
              "room_num                  0.696304   -0.288784   -0.391676 -0.302188   \n",
              "age                      -0.377999    0.559591    0.644779  0.731470   \n",
              "teachers                  0.505655   -0.390052   -0.383248 -0.188933   \n",
              "poor_prop                -0.740836    0.608970    0.603800  0.590879   \n",
              "n_hos_beds                0.108880   -0.004089    0.005799 -0.049553   \n",
              "n_hot_rooms               0.015139    0.073075   -0.021282  0.019793   \n",
              "rainfall                 -0.046069    0.081050    0.055929  0.091123   \n",
              "parks                    -0.391574    0.638951    0.707635  0.915544   \n",
              "avg_dist                  0.249289   -0.586371   -0.708022 -0.769247   \n",
              "airport_YES               0.182867   -0.134486   -0.115401 -0.073903   \n",
              "waterbody_Lake and River -0.037497    0.009076    0.051649  0.013849   \n",
              "waterbody_None           -0.077478    0.077487    0.086958  0.068554   \n",
              "waterbody_River           0.071751   -0.060099   -0.098976 -0.037772   \n",
              "\n",
              "                          room_num       age  teachers  poor_prop  n_hos_beds  \\\n",
              "price                     0.696304 -0.377999  0.505655  -0.740836    0.108880   \n",
              "crime_rate               -0.288784  0.559591 -0.390052   0.608970   -0.004089   \n",
              "resid_area               -0.391676  0.644779 -0.383248   0.603800    0.005799   \n",
              "air_qual                 -0.302188  0.731470 -0.188933   0.590879   -0.049553   \n",
              "room_num                  1.000000 -0.240265  0.355501  -0.613808    0.032009   \n",
              "age                      -0.240265  1.000000 -0.261515   0.602339   -0.021012   \n",
              "teachers                  0.355501 -0.261515  1.000000  -0.374044   -0.008056   \n",
              "poor_prop                -0.613808  0.602339 -0.374044   1.000000   -0.066008   \n",
              "n_hos_beds                0.032009 -0.021012 -0.008056  -0.066008    1.000000   \n",
              "n_hot_rooms              -0.013759  0.010572 -0.040849   0.016979   -0.001596   \n",
              "rainfall                 -0.064735  0.072162 -0.046292   0.060711    0.058356   \n",
              "parks                    -0.282817  0.673850 -0.187004   0.552310   -0.071272   \n",
              "avg_dist                  0.205241 -0.747906  0.232452  -0.496967   -0.027871   \n",
              "airport_YES               0.163774  0.005101  0.069437  -0.095054   -0.006365   \n",
              "waterbody_Lake and River  0.010554 -0.004354 -0.046981   0.020620    0.059482   \n",
              "waterbody_None           -0.052579  0.092693 -0.104450   0.095352   -0.003632   \n",
              "waterbody_River           0.046251 -0.088609  0.094256  -0.109004   -0.074148   \n",
              "\n",
              "                          n_hot_rooms  rainfall     parks  avg_dist  \\\n",
              "price                        0.015139 -0.046069 -0.391574  0.249289   \n",
              "crime_rate                   0.073075  0.081050  0.638951 -0.586371   \n",
              "resid_area                  -0.021282  0.055929  0.707635 -0.708022   \n",
              "air_qual                     0.019793  0.091123  0.915544 -0.769247   \n",
              "room_num                    -0.013759 -0.064735 -0.282817  0.205241   \n",
              "age                          0.010572  0.072162  0.673850 -0.747906   \n",
              "teachers                    -0.040849 -0.046292 -0.187004  0.232452   \n",
              "poor_prop                    0.016979  0.060711  0.552310 -0.496967   \n",
              "n_hos_beds                  -0.001596  0.058356 -0.071272 -0.027871   \n",
              "n_hot_rooms                  1.000000  0.053606  0.037227 -0.022713   \n",
              "rainfall                     0.053606  1.000000  0.076457 -0.037301   \n",
              "parks                        0.037227  0.076457  1.000000 -0.707924   \n",
              "avg_dist                    -0.022713 -0.037301 -0.707924  1.000000   \n",
              "airport_YES                 -0.008132 -0.011224 -0.052503  0.021402   \n",
              "waterbody_Lake and River     0.052761  0.108846  0.013265 -0.021320   \n",
              "waterbody_None               0.006807 -0.026700  0.070817 -0.047342   \n",
              "waterbody_River             -0.047846 -0.038865 -0.048862  0.032247   \n",
              "\n",
              "                          airport_YES  waterbody_Lake and River  \\\n",
              "price                        0.182867                 -0.037497   \n",
              "crime_rate                  -0.134486                  0.009076   \n",
              "resid_area                  -0.115401                  0.051649   \n",
              "air_qual                    -0.073903                  0.013849   \n",
              "room_num                     0.163774                  0.010554   \n",
              "age                          0.005101                 -0.004354   \n",
              "teachers                     0.069437                 -0.046981   \n",
              "poor_prop                   -0.095054                  0.020620   \n",
              "n_hos_beds                  -0.006365                  0.059482   \n",
              "n_hot_rooms                 -0.008132                  0.052761   \n",
              "rainfall                    -0.011224                  0.108846   \n",
              "parks                       -0.052503                  0.013265   \n",
              "avg_dist                     0.021402                 -0.021320   \n",
              "airport_YES                  1.000000                 -0.070341   \n",
              "waterbody_Lake and River    -0.070341                  1.000000   \n",
              "waterbody_None               0.004617                 -0.268471   \n",
              "waterbody_River              0.017341                 -0.304095   \n",
              "\n",
              "                          waterbody_None  waterbody_River  \n",
              "price                          -0.077478         0.071751  \n",
              "crime_rate                      0.077487        -0.060099  \n",
              "resid_area                      0.086958        -0.098976  \n",
              "air_qual                        0.068554        -0.037772  \n",
              "room_num                       -0.052579         0.046251  \n",
              "age                             0.092693        -0.088609  \n",
              "teachers                       -0.104450         0.094256  \n",
              "poor_prop                       0.095352        -0.109004  \n",
              "n_hos_beds                     -0.003632        -0.074148  \n",
              "n_hot_rooms                     0.006807        -0.047846  \n",
              "rainfall                       -0.026700        -0.038865  \n",
              "parks                           0.070817        -0.048862  \n",
              "avg_dist                       -0.047342         0.032247  \n",
              "airport_YES                     0.004617         0.017341  \n",
              "waterbody_Lake and River       -0.268471        -0.304095  \n",
              "waterbody_None                  1.000000        -0.500192  \n",
              "waterbody_River                -0.500192         1.000000  "
            ]
          },
          "execution_count": 41,
          "metadata": {},
          "output_type": "execute_result"
        }
      ],
      "source": [
        "df.corr()"
      ]
    },
    {
      "cell_type": "code",
      "execution_count": null,
      "id": "4a91cb4a",
      "metadata": {
        "id": "4a91cb4a"
      },
      "outputs": [],
      "source": [
        "ss=df.corr()"
      ]
    },
    {
      "cell_type": "code",
      "execution_count": null,
      "id": "88c00218",
      "metadata": {
        "id": "88c00218",
        "outputId": "210e0b39-cd26-484f-c864-027f35062c26"
      },
      "outputs": [
        {
          "data": {
            "text/plain": [
              "<Axes: >"
            ]
          },
          "execution_count": 43,
          "metadata": {},
          "output_type": "execute_result"
        },
        {
          "data": {
            "image/png": "[encoded data removed]",
            "text/plain": [
              "<Figure size 1500x1000 with 2 Axes>"
            ]
          },
          "metadata": {},
          "output_type": "display_data"
        }
      ],
      "source": [
        "plt.figure(figsize=(15,10))\n",
        "sns.heatmap(ss,annot=True,annot_kws={'size':10},cmap='Spectral')"
      ]
    },
    {
      "cell_type": "code",
      "execution_count": null,
      "id": "ecc538bf",
      "metadata": {
        "id": "ecc538bf",
        "outputId": "c5735f98-d179-4490-bfa6-dc61a1f8c179"
      },
      "outputs": [
        {
          "data": {
            "text/html": [
              "<table class=\"simpletable\">\n",
              "<caption>OLS Regression Results</caption>\n",
              "<tr>\n",
              "  <th>Dep. Variable:</th>          <td>price</td>      <th>  R-squared:         </th> <td>   0.485</td>\n",
              "</tr>\n",
              "<tr>\n",
              "  <th>Model:</th>                   <td>OLS</td>       <th>  Adj. R-squared:    </th> <td>   0.484</td>\n",
              "</tr>\n",
              "<tr>\n",
              "  <th>Method:</th>             <td>Least Squares</td>  <th>  F-statistic:       </th> <td>   474.3</td>\n",
              "</tr>\n",
              "<tr>\n",
              "  <th>Date:</th>             <td>Wed, 11 Oct 2023</td> <th>  Prob (F-statistic):</th> <td>1.31e-74</td>\n",
              "</tr>\n",
              "<tr>\n",
              "  <th>Time:</th>                 <td>21:21:04</td>     <th>  Log-Likelihood:    </th> <td> -1671.6</td>\n",
              "</tr>\n",
              "<tr>\n",
              "  <th>No. Observations:</th>      <td>   506</td>      <th>  AIC:               </th> <td>   3347.</td>\n",
              "</tr>\n",
              "<tr>\n",
              "  <th>Df Residuals:</th>          <td>   504</td>      <th>  BIC:               </th> <td>   3356.</td>\n",
              "</tr>\n",
              "<tr>\n",
              "  <th>Df Model:</th>              <td>     1</td>      <th>                     </th>     <td> </td>   \n",
              "</tr>\n",
              "<tr>\n",
              "  <th>Covariance Type:</th>      <td>nonrobust</td>    <th>                     </th>     <td> </td>   \n",
              "</tr>\n",
              "</table>\n",
              "<table class=\"simpletable\">\n",
              "<tr>\n",
              "      <td></td>        <th>coef</th>     <th>std err</th>      <th>t</th>      <th>P>|t|</th>  <th>[0.025</th>    <th>0.975]</th>  \n",
              "</tr>\n",
              "<tr>\n",
              "  <th>const</th>    <td>  -34.6592</td> <td>    2.642</td> <td>  -13.118</td> <td> 0.000</td> <td>  -39.850</td> <td>  -29.468</td>\n",
              "</tr>\n",
              "<tr>\n",
              "  <th>room_num</th> <td>    9.0997</td> <td>    0.418</td> <td>   21.779</td> <td> 0.000</td> <td>    8.279</td> <td>    9.921</td>\n",
              "</tr>\n",
              "</table>\n",
              "<table class=\"simpletable\">\n",
              "<tr>\n",
              "  <th>Omnibus:</th>       <td>103.753</td> <th>  Durbin-Watson:     </th> <td>   0.681</td> \n",
              "</tr>\n",
              "<tr>\n",
              "  <th>Prob(Omnibus):</th> <td> 0.000</td>  <th>  Jarque-Bera (JB):  </th> <td> 633.429</td> \n",
              "</tr>\n",
              "<tr>\n",
              "  <th>Skew:</th>          <td> 0.729</td>  <th>  Prob(JB):          </th> <td>2.84e-138</td>\n",
              "</tr>\n",
              "<tr>\n",
              "  <th>Kurtosis:</th>      <td> 8.284</td>  <th>  Cond. No.          </th> <td>    58.4</td> \n",
              "</tr>\n",
              "</table><br/><br/>Notes:<br/>[1] Standard Errors assume that the covariance matrix of the errors is correctly specified."
            ],
            "text/plain": [
              "<class 'statsmodels.iolib.summary.Summary'>\n",
              "\"\"\"\n",
              "                            OLS Regression Results                            \n",
              "==============================================================================\n",
              "Dep. Variable:                  price   R-squared:                       0.485\n",
              "Model:                            OLS   Adj. R-squared:                  0.484\n",
              "Method:                 Least Squares   F-statistic:                     474.3\n",
              "Date:                Wed, 11 Oct 2023   Prob (F-statistic):           1.31e-74\n",
              "Time:                        21:21:04   Log-Likelihood:                -1671.6\n",
              "No. Observations:                 506   AIC:                             3347.\n",
              "Df Residuals:                     504   BIC:                             3356.\n",
              "Df Model:                           1                                         \n",
              "Covariance Type:            nonrobust                                         \n",
              "==============================================================================\n",
              "                 coef    std err          t      P>|t|      [0.025      0.975]\n",
              "------------------------------------------------------------------------------\n",
              "const        -34.6592      2.642    -13.118      0.000     -39.850     -29.468\n",
              "room_num       9.0997      0.418     21.779      0.000       8.279       9.921\n",
              "==============================================================================\n",
              "Omnibus:                      103.753   Durbin-Watson:                   0.681\n",
              "Prob(Omnibus):                  0.000   Jarque-Bera (JB):              633.429\n",
              "Skew:                           0.729   Prob(JB):                    2.84e-138\n",
              "Kurtosis:                       8.284   Cond. No.                         58.4\n",
              "==============================================================================\n",
              "\n",
              "Notes:\n",
              "[1] Standard Errors assume that the covariance matrix of the errors is correctly specified.\n",
              "\"\"\""
            ]
          },
          "execution_count": 44,
          "metadata": {},
          "output_type": "execute_result"
        }
      ],
      "source": [
        "import statsmodels.api as sn\n",
        "x=sn.add_constant(df['room_num'])\n",
        "lm=sn.OLS(df['price'],x).fit()\n",
        "lm.summary()"
      ]
    },
    {
      "cell_type": "code",
      "execution_count": null,
      "id": "76d59fbb",
      "metadata": {
        "id": "76d59fbb",
        "outputId": "5e3c11f4-e5e7-4060-86c5-7d42894d4d23"
      },
      "outputs": [
        {
          "data": {
            "text/html": [
              "<style>#sk-container-id-1 {color: black;background-color: white;}#sk-container-id-1 pre{padding: 0;}#sk-container-id-1 div.sk-toggleable {background-color: white;}#sk-container-id-1 label.sk-toggleable__label {cursor: pointer;display: block;width: 100%;margin-bottom: 0;padding: 0.3em;box-sizing: border-box;text-align: center;}#sk-container-id-1 label.sk-toggleable__label-arrow:before {content: \"▸\";float: left;margin-right: 0.25em;color: #696969;}#sk-container-id-1 label.sk-toggleable__label-arrow:hover:before {color: black;}#sk-container-id-1 div.sk-estimator:hover label.sk-toggleable__label-arrow:before {color: black;}#sk-container-id-1 div.sk-toggleable__content {max-height: 0;max-width: 0;overflow: hidden;text-align: left;background-color: #f0f8ff;}#sk-container-id-1 div.sk-toggleable__content pre {margin: 0.2em;color: black;border-radius: 0.25em;background-color: #f0f8ff;}#sk-container-id-1 input.sk-toggleable__control:checked~div.sk-toggleable__content {max-height: 200px;max-width: 100%;overflow: auto;}#sk-container-id-1 input.sk-toggleable__control:checked~label.sk-toggleable__label-arrow:before {content: \"▾\";}#sk-container-id-1 div.sk-estimator input.sk-toggleable__control:checked~label.sk-toggleable__label {background-color: #d4ebff;}#sk-container-id-1 div.sk-label input.sk-toggleable__control:checked~label.sk-toggleable__label {background-color: #d4ebff;}#sk-container-id-1 input.sk-hidden--visually {border: 0;clip: rect(1px 1px 1px 1px);clip: rect(1px, 1px, 1px, 1px);height: 1px;margin: -1px;overflow: hidden;padding: 0;position: absolute;width: 1px;}#sk-container-id-1 div.sk-estimator {font-family: monospace;background-color: #f0f8ff;border: 1px dotted black;border-radius: 0.25em;box-sizing: border-box;margin-bottom: 0.5em;}#sk-container-id-1 div.sk-estimator:hover {background-color: #d4ebff;}#sk-container-id-1 div.sk-parallel-item::after {content: \"\";width: 100%;border-bottom: 1px solid gray;flex-grow: 1;}#sk-container-id-1 div.sk-label:hover label.sk-toggleable__label {background-color: #d4ebff;}#sk-container-id-1 div.sk-serial::before {content: \"\";position: absolute;border-left: 1px solid gray;box-sizing: border-box;top: 0;bottom: 0;left: 50%;z-index: 0;}#sk-container-id-1 div.sk-serial {display: flex;flex-direction: column;align-items: center;background-color: white;padding-right: 0.2em;padding-left: 0.2em;position: relative;}#sk-container-id-1 div.sk-item {position: relative;z-index: 1;}#sk-container-id-1 div.sk-parallel {display: flex;align-items: stretch;justify-content: center;background-color: white;position: relative;}#sk-container-id-1 div.sk-item::before, #sk-container-id-1 div.sk-parallel-item::before {content: \"\";position: absolute;border-left: 1px solid gray;box-sizing: border-box;top: 0;bottom: 0;left: 50%;z-index: -1;}#sk-container-id-1 div.sk-parallel-item {display: flex;flex-direction: column;z-index: 1;position: relative;background-color: white;}#sk-container-id-1 div.sk-parallel-item:first-child::after {align-self: flex-end;width: 50%;}#sk-container-id-1 div.sk-parallel-item:last-child::after {align-self: flex-start;width: 50%;}#sk-container-id-1 div.sk-parallel-item:only-child::after {width: 0;}#sk-container-id-1 div.sk-dashed-wrapped {border: 1px dashed gray;margin: 0 0.4em 0.5em 0.4em;box-sizing: border-box;padding-bottom: 0.4em;background-color: white;}#sk-container-id-1 div.sk-label label {font-family: monospace;font-weight: bold;display: inline-block;line-height: 1.2em;}#sk-container-id-1 div.sk-label-container {text-align: center;}#sk-container-id-1 div.sk-container {/* jupyter's `normalize.less` sets `[hidden] { display: none; }` but bootstrap.min.css set `[hidden] { display: none !important; }` so we also need the `!important` here to be able to override the default hidden behavior on the sphinx rendered scikit-learn.org. See: https://github.com/scikit-learn/scikit-learn/issues/21755 */display: inline-block !important;position: relative;}#sk-container-id-1 div.sk-text-repr-fallback {display: none;}</style><div id=\"sk-container-id-1\" class=\"sk-top-container\"><div class=\"sk-text-repr-fallback\"><pre>LinearRegression()</pre><b>In a Jupyter environment, please rerun this cell to show the HTML representation or trust the notebook. <br />On GitHub, the HTML representation is unable to render, please try loading this page with nbviewer.org.</b></div><div class=\"sk-container\" hidden><div class=\"sk-item\"><div class=\"sk-estimator sk-toggleable\"><input class=\"sk-toggleable__control sk-hidden--visually\" id=\"sk-estimator-id-1\" type=\"checkbox\" checked><label for=\"sk-estimator-id-1\" class=\"sk-toggleable__label sk-toggleable__label-arrow\">LinearRegression</label><div class=\"sk-toggleable__content\"><pre>LinearRegression()</pre></div></div></div></div></div>"
            ],
            "text/plain": [
              "LinearRegression()"
            ]
          },
          "execution_count": 45,
          "metadata": {},
          "output_type": "execute_result"
        }
      ],
      "source": [
        "from sklearn.linear_model import LinearRegression\n",
        "y=df['price']\n",
        "x=df[['room_num']]\n",
        "\n",
        "lm2=LinearRegression()\n",
        "lm2.fit(x,y)"
      ]
    },
    {
      "cell_type": "code",
      "execution_count": null,
      "id": "bd089c2d",
      "metadata": {
        "id": "bd089c2d",
        "outputId": "09c7f051-3df3-4cbe-935f-5d1ee7397081"
      },
      "outputs": [
        {
          "data": {
            "text/plain": [
              "-34.65924312309721"
            ]
          },
          "execution_count": 46,
          "metadata": {},
          "output_type": "execute_result"
        }
      ],
      "source": [
        "lm2.intercept_"
      ]
    },
    {
      "cell_type": "code",
      "execution_count": null,
      "id": "f2d60980",
      "metadata": {
        "id": "f2d60980",
        "outputId": "35d16082-5759-41d3-b0dc-2eab0220dd3a"
      },
      "outputs": [
        {
          "data": {
            "text/plain": [
              "array([9.09966966])"
            ]
          },
          "execution_count": 47,
          "metadata": {},
          "output_type": "execute_result"
        }
      ],
      "source": [
        "lm2.coef_\n"
      ]
    },
    {
      "cell_type": "code",
      "execution_count": null,
      "id": "3252dc69",
      "metadata": {
        "id": "3252dc69",
        "outputId": "5c516ffe-b2e7-4b07-ebca-5eab81c36dc1"
      },
      "outputs": [
        {
          "data": {
            "text/plain": [
              "array([25.17108491, 23.76973578, 30.72188341, 29.02024518, 30.37609596,\n",
              "       23.85163281, 20.04797089, 21.50391804, 16.58099675, 19.97517353,\n",
              "       23.36935032, 20.02067188, 18.92871152, 19.4746917 , 20.81234314,\n",
              "       18.42822969, 19.34729633, 19.84777816, 14.98855456, 17.45456504,\n",
              "       16.0259169 , 19.62028642, 21.23092795, 18.23713663, 19.24719996,\n",
              "       16.28980732, 18.23713663, 20.36645933, 24.44311134, 26.07195221,\n",
              "       17.32716966, 20.59395107, 19.48379137, 17.21797363, 20.81234314,\n",
              "       19.32909699, 18.49192738, 18.57382441, 19.62938609, 25.3530783 ,\n",
              "       29.25683659, 26.9455205 , 21.47661903, 21.85880515, 20.56665206,\n",
              "       17.0450799 , 17.99144555, 20.21176495, 14.46987339, 16.31710633,\n",
              "       19.60208708, 20.98523687, 24.58870605, 19.92057552, 18.91961185,\n",
              "       31.30426226, 23.42394834, 27.3641053 , 21.25822696, 19.27449897,\n",
              "       17.58196041, 19.62938609, 24.08822422, 26.87272314, 29.98481016,\n",
              "       22.57767906, 18.00054522, 18.82861516, 16.24430897, 18.89231284,\n",
              "       23.7333371 , 19.58388774, 20.53025338, 22.16819392, 22.42298467,\n",
              "       22.54128038, 22.47758269, 21.21272861, 22.04989822, 18.79221648,\n",
              "       26.5542347 , 25.57147038, 22.68687509, 21.45841969, 23.47854635,\n",
              "       25.67156674, 20.0752699 , 21.03983488, 29.10214221, 29.75731842,\n",
              "       23.7333371 , 23.62414107, 23.96082885, 21.85880515, 22.2045926 ,\n",
              "       25.62606839, 21.42202101, 38.76599139, 36.50017364, 32.8239071 ,\n",
              "       26.5542347 , 27.04561686, 23.62414107, 21.1854296 , 21.45841969,\n",
              "       18.58292408, 18.44642903, 21.0944329 , 24.25201828, 22.02259921,\n",
              "       21.71321044, 26.44503866, 19.14710359, 20.77594446, 22.25009095,\n",
              "       19.28359864, 21.54031672, 20.12986792, 18.77401714, 17.49096372,\n",
              "       18.7558178 , 19.97517353, 19.58388774, 18.62842242, 18.83771483,\n",
              "       19.81137948, 16.4172027 , 17.14517627, 23.86073248, 16.63559477,\n",
              "       24.10642356, 22.90526717, 23.32385197, 18.31903366, 17.72755513,\n",
              "       22.98716419, 19.41099401, 24.07002488, 18.63752209, 21.31282497,\n",
              "       21.52211738, 11.01199892, 14.50627207, 15.09775059,  9.95643723,\n",
              "       21.12173191, 16.55369774, 10.16572964, 12.53164375, 16.27160798,\n",
              "       21.04893455, 14.51537174, 10.94830123, 17.29077098, 21.11263224,\n",
              "       21.32192464, 13.31421534, 28.51976335, 20.53935305, 24.57960638,\n",
              "       22.21369227, 33.48818298, 36.33637959, 41.55049031, 18.61022308,\n",
              "       20.85784149, 37.49203764, 18.81951549, 22.84156948, 23.59684206,\n",
              "       18.80131615, 18.8468145 , 16.04411624, 23.72423744, 18.65572143,\n",
              "       24.90719449, 20.12076825, 22.8051708 , 27.76449077, 28.85645113,\n",
              "       35.99969181, 21.24912729, 30.44889332, 25.06188888, 16.33530567,\n",
              "       21.33102431, 36.60027001, 27.05471653, 24.99819119, 30.72188341,\n",
              "       28.5925607 , 26.66343074, 30.65818572, 27.21851059, 25.43497533,\n",
              "       37.00065547, 31.65004971, 30.01210917, 31.53175401, 28.81095278,\n",
              "       30.26689992, 21.41292134, 34.58924301, 36.80046274, 38.44750295,\n",
              "       18.94691086, 22.90526717, 17.96414654, 20.52115371, 13.96939156,\n",
              "       19.57478807, 14.51537174, 18.18253861, 23.35115098, 14.58816909,\n",
              "       21.59491473, 18.91961185, 25.78076278, 19.49289104, 23.33295164,\n",
              "       28.5925607 , 21.43112068, 27.93738449, 25.56237071, 40.55862631,\n",
              "       44.73537469, 38.50210097, 30.52169067, 35.28081791, 24.96179251,\n",
              "       19.76588113, 32.78750842, 41.20470286, 40.38573259, 26.54513503,\n",
              "       20.72134645, 25.68066641, 32.29612626, 24.31571596, 25.45317467,\n",
              "       28.10117854, 20.80324347, 23.19645659, 23.51494503, 16.2352093 ,\n",
              "       16.34440534, 20.92153918, 21.9953002 , 23.87893182, 26.47233767,\n",
              "       24.37031398, 23.92443017, 28.64715872, 40.49492862, 20.92153918,\n",
              "       18.81041582, 33.16969455, 44.54428162, 32.06863452, 27.60069671,\n",
              "       30.88567746, 33.77027274, 41.75978271, 32.0140365 , 30.91297647,\n",
              "       15.9349202 , 29.16583989, 40.84071607, 33.31528926, 19.21080128,\n",
              "       18.62842242, 22.12269557, 24.83439713, 35.32631626, 26.83632446,\n",
              "       27.70989275, 31.46805632, 27.455102  , 24.32481563, 27.32770662,\n",
              "       36.50017364, 28.74725509, 34.90773145, 37.43743962, 29.83921545,\n",
              "       24.06092521, 22.03169888, 21.84060581, 22.8051708 , 25.08008821,\n",
              "       27.77359044, 30.38519563, 25.67156674, 21.0944329 , 20.02067188,\n",
              "       26.10835089, 24.9344935 , 18.02784423, 23.07816089, 29.41153097,\n",
              "       27.86458713, 25.30757996, 24.44311134, 28.87465046, 31.18596656,\n",
              "       25.54417137, 32.86030578, 27.6643944 , 25.71706509, 19.6839841 ,\n",
              "       10.59341411, 21.04893455, 20.14806726, 22.35928699, 25.09828755,\n",
              "       17.2543723 , 19.15620326, 17.95504687, 23.41484867, 20.96703753,\n",
              "       23.81523413, 23.36025065, 20.31186131, 17.28167131, 23.71513777,\n",
              "       23.86073248, 22.77787179, 20.69404744, 18.73761846, 22.96896485,\n",
              "       21.24912729, 17.26347197, 20.22086461, 22.81427047, 22.75967245,\n",
              "       20.27546263, 18.74671813, 18.98330954, 20.47565537, 19.80227981,\n",
              "       19.64758543, 31.23146491, 24.85259647, 26.27214494, 27.89188614,\n",
              "       20.06617023, 19.01060855, 24.6342044 , 25.71706509, 28.48336467,\n",
              "       24.39761299, 25.20748359, 18.88321317, 26.56333437, 16.87218618,\n",
              "       19.356396  , 21.86790482, 23.53314437, 21.0944329 , 20.95793786,\n",
              "       23.56044338, 22.22279194, 14.13318561, 18.14613993, 45.23585652,\n",
              "       -2.25531945, 10.50241741,  0.49278079, 10.5661151 , 26.15384924,\n",
              "       29.18403923, 21.9043035 , 18.80131615,  9.98373624,  2.99518994,\n",
              "       31.88664112, 25.84446047, 27.16391257, 23.39664933, 21.96800119,\n",
              "       28.74725509, 24.89809482, 15.71652813, 15.57093342,  5.08811397,\n",
              "       13.35971369,  7.67242015, 10.83910519,  9.74714483, 14.38797636,\n",
              "       17.32716966, 20.40285801, 11.1666933 , 21.6950111 , 18.91051218,\n",
              "       24.22471927, 23.62414107, 17.63655843, 14.96125555, 18.59202375,\n",
              "       19.82047915, 23.05996155, 23.6150414 , 14.0148899 , 15.67102978,\n",
              "       17.05417957,  2.99518994, 16.37170435, 16.45360137, 27.69169341,\n",
              "       17.72755513, 25.91725782,  7.45402808, 12.24955399,  6.46216408,\n",
              "       23.88803149, 27.05471653, 13.60540477, 19.54748906, 27.43690266,\n",
              "       23.67873909, 19.99337287, 16.73569113, 20.87604083, 15.98041855,\n",
              "       18.99240921, 18.4555287 , 21.77690813, 21.6950111 , 23.39664933,\n",
              "       23.1054599 , 27.51879968, 23.80613446, 23.90623083, 21.83150615,\n",
              "       25.66246707, 24.13372257, 21.32192464, 19.34729633, 16.54459807,\n",
              "       18.28263498, 23.63324074, 21.93160251, 24.35211464, 18.61022308,\n",
              "       24.11552323, 23.04176221, 22.22279194, 21.62221374, 23.7333371 ,\n",
              "       26.75442743, 25.89905848, 22.64137675, 32.6146147 , 26.56333437,\n",
              "       24.71610143, 19.72038278, 19.356396  , 22.67777542, 20.6758481 ,\n",
              "       26.31764329, 23.36025065, 22.82337014, 24.60690539, 21.84060581,\n",
              "       17.74575447, 19.50199071, 19.96607386, 19.2653993 , 17.32716966,\n",
              "       21.45841969, 22.02259921, 23.9153305 , 28.85645113, 14.72466414,\n",
              "       21.41292134, 24.34301497, 13.60540477, 21.62221374, 22.02259921,\n",
              "       22.14089491, 26.7635271 , 29.59352437, 17.77305348, 18.76491747,\n",
              "       22.77787179, 20.9761372 , 19.07430624, 14.97035522, 14.60636843,\n",
              "       11.68537447, 19.78408047, 19.78408047, 17.27257164, 19.2653993 ,\n",
              "       16.93588387, 14.38797636, 18.0642429 , 20.11166858, 16.01681723,\n",
              "       20.18446594, 25.33487897, 21.03073521, 28.82005245, 27.16391257,\n",
              "       20.21176495])"
            ]
          },
          "execution_count": 48,
          "metadata": {},
          "output_type": "execute_result"
        }
      ],
      "source": [
        "lm2.predict(x)"
      ]
    },
    {
      "cell_type": "code",
      "execution_count": null,
      "id": "ad993f5c",
      "metadata": {
        "id": "ad993f5c",
        "outputId": "7fbd39a0-bb49-41d6-e696-3e81360e33dd"
      },
      "outputs": [
        {
          "data": {
            "text/html": [
              "<div>\n",
              "<style scoped>\n",
              "    .dataframe tbody tr th:only-of-type {\n",
              "        vertical-align: middle;\n",
              "    }\n",
              "\n",
              "    .dataframe tbody tr th {\n",
              "        vertical-align: top;\n",
              "    }\n",
              "\n",
              "    .dataframe thead th {\n",
              "        text-align: right;\n",
              "    }\n",
              "</style>\n",
              "<table border=\"1\" class=\"dataframe\">\n",
              "  <thead>\n",
              "    <tr style=\"text-align: right;\">\n",
              "      <th></th>\n",
              "      <th>crime_rate</th>\n",
              "      <th>resid_area</th>\n",
              "      <th>air_qual</th>\n",
              "      <th>room_num</th>\n",
              "      <th>age</th>\n",
              "      <th>teachers</th>\n",
              "      <th>poor_prop</th>\n",
              "      <th>n_hos_beds</th>\n",
              "      <th>n_hot_rooms</th>\n",
              "      <th>rainfall</th>\n",
              "      <th>parks</th>\n",
              "      <th>avg_dist</th>\n",
              "      <th>airport_YES</th>\n",
              "      <th>waterbody_Lake and River</th>\n",
              "      <th>waterbody_None</th>\n",
              "      <th>waterbody_River</th>\n",
              "    </tr>\n",
              "  </thead>\n",
              "  <tbody>\n",
              "    <tr>\n",
              "      <th>0</th>\n",
              "      <td>0.006300</td>\n",
              "      <td>32.31</td>\n",
              "      <td>0.538</td>\n",
              "      <td>6.575</td>\n",
              "      <td>65.2</td>\n",
              "      <td>24.7</td>\n",
              "      <td>4.98</td>\n",
              "      <td>5.480</td>\n",
              "      <td>11.19200</td>\n",
              "      <td>23</td>\n",
              "      <td>0.049347</td>\n",
              "      <td>4.0875</td>\n",
              "      <td>1</td>\n",
              "      <td>0</td>\n",
              "      <td>0</td>\n",
              "      <td>1</td>\n",
              "    </tr>\n",
              "    <tr>\n",
              "      <th>1</th>\n",
              "      <td>0.026944</td>\n",
              "      <td>37.07</td>\n",
              "      <td>0.469</td>\n",
              "      <td>6.421</td>\n",
              "      <td>78.9</td>\n",
              "      <td>22.2</td>\n",
              "      <td>9.14</td>\n",
              "      <td>7.332</td>\n",
              "      <td>12.17280</td>\n",
              "      <td>42</td>\n",
              "      <td>0.046146</td>\n",
              "      <td>4.9675</td>\n",
              "      <td>0</td>\n",
              "      <td>0</td>\n",
              "      <td>0</td>\n",
              "      <td>0</td>\n",
              "    </tr>\n",
              "    <tr>\n",
              "      <th>2</th>\n",
              "      <td>0.026924</td>\n",
              "      <td>37.07</td>\n",
              "      <td>0.469</td>\n",
              "      <td>7.185</td>\n",
              "      <td>61.1</td>\n",
              "      <td>22.2</td>\n",
              "      <td>4.03</td>\n",
              "      <td>7.394</td>\n",
              "      <td>15.39952</td>\n",
              "      <td>38</td>\n",
              "      <td>0.045764</td>\n",
              "      <td>4.9675</td>\n",
              "      <td>0</td>\n",
              "      <td>0</td>\n",
              "      <td>1</td>\n",
              "      <td>0</td>\n",
              "    </tr>\n",
              "    <tr>\n",
              "      <th>3</th>\n",
              "      <td>0.031857</td>\n",
              "      <td>32.18</td>\n",
              "      <td>0.458</td>\n",
              "      <td>6.998</td>\n",
              "      <td>45.8</td>\n",
              "      <td>21.3</td>\n",
              "      <td>2.94</td>\n",
              "      <td>9.268</td>\n",
              "      <td>11.26720</td>\n",
              "      <td>45</td>\n",
              "      <td>0.047151</td>\n",
              "      <td>6.0650</td>\n",
              "      <td>1</td>\n",
              "      <td>0</td>\n",
              "      <td>0</td>\n",
              "      <td>0</td>\n",
              "    </tr>\n",
              "    <tr>\n",
              "      <th>4</th>\n",
              "      <td>0.066770</td>\n",
              "      <td>32.18</td>\n",
              "      <td>0.458</td>\n",
              "      <td>7.147</td>\n",
              "      <td>54.2</td>\n",
              "      <td>21.3</td>\n",
              "      <td>5.33</td>\n",
              "      <td>8.824</td>\n",
              "      <td>11.28960</td>\n",
              "      <td>55</td>\n",
              "      <td>0.039474</td>\n",
              "      <td>6.0625</td>\n",
              "      <td>0</td>\n",
              "      <td>0</td>\n",
              "      <td>0</td>\n",
              "      <td>0</td>\n",
              "    </tr>\n",
              "    <tr>\n",
              "      <th>...</th>\n",
              "      <td>...</td>\n",
              "      <td>...</td>\n",
              "      <td>...</td>\n",
              "      <td>...</td>\n",
              "      <td>...</td>\n",
              "      <td>...</td>\n",
              "      <td>...</td>\n",
              "      <td>...</td>\n",
              "      <td>...</td>\n",
              "      <td>...</td>\n",
              "      <td>...</td>\n",
              "      <td>...</td>\n",
              "      <td>...</td>\n",
              "      <td>...</td>\n",
              "      <td>...</td>\n",
              "      <td>...</td>\n",
              "    </tr>\n",
              "    <tr>\n",
              "      <th>501</th>\n",
              "      <td>0.060747</td>\n",
              "      <td>41.93</td>\n",
              "      <td>0.573</td>\n",
              "      <td>6.593</td>\n",
              "      <td>69.1</td>\n",
              "      <td>19.0</td>\n",
              "      <td>9.67</td>\n",
              "      <td>9.348</td>\n",
              "      <td>12.17920</td>\n",
              "      <td>27</td>\n",
              "      <td>0.056006</td>\n",
              "      <td>2.4775</td>\n",
              "      <td>0</td>\n",
              "      <td>1</td>\n",
              "      <td>0</td>\n",
              "      <td>0</td>\n",
              "    </tr>\n",
              "    <tr>\n",
              "      <th>502</th>\n",
              "      <td>0.044275</td>\n",
              "      <td>41.93</td>\n",
              "      <td>0.573</td>\n",
              "      <td>6.120</td>\n",
              "      <td>76.7</td>\n",
              "      <td>19.0</td>\n",
              "      <td>9.08</td>\n",
              "      <td>6.612</td>\n",
              "      <td>13.16480</td>\n",
              "      <td>20</td>\n",
              "      <td>0.059903</td>\n",
              "      <td>2.2875</td>\n",
              "      <td>1</td>\n",
              "      <td>1</td>\n",
              "      <td>0</td>\n",
              "      <td>0</td>\n",
              "    </tr>\n",
              "    <tr>\n",
              "      <th>503</th>\n",
              "      <td>0.058986</td>\n",
              "      <td>41.93</td>\n",
              "      <td>0.573</td>\n",
              "      <td>6.976</td>\n",
              "      <td>91.0</td>\n",
              "      <td>19.0</td>\n",
              "      <td>5.64</td>\n",
              "      <td>5.478</td>\n",
              "      <td>12.19120</td>\n",
              "      <td>31</td>\n",
              "      <td>0.057572</td>\n",
              "      <td>2.1675</td>\n",
              "      <td>0</td>\n",
              "      <td>0</td>\n",
              "      <td>1</td>\n",
              "      <td>0</td>\n",
              "    </tr>\n",
              "    <tr>\n",
              "      <th>504</th>\n",
              "      <td>0.103991</td>\n",
              "      <td>41.93</td>\n",
              "      <td>0.573</td>\n",
              "      <td>6.794</td>\n",
              "      <td>89.3</td>\n",
              "      <td>19.0</td>\n",
              "      <td>6.48</td>\n",
              "      <td>7.940</td>\n",
              "      <td>15.17600</td>\n",
              "      <td>47</td>\n",
              "      <td>0.060694</td>\n",
              "      <td>2.3900</td>\n",
              "      <td>1</td>\n",
              "      <td>0</td>\n",
              "      <td>1</td>\n",
              "      <td>0</td>\n",
              "    </tr>\n",
              "    <tr>\n",
              "      <th>505</th>\n",
              "      <td>0.046320</td>\n",
              "      <td>41.93</td>\n",
              "      <td>0.573</td>\n",
              "      <td>6.030</td>\n",
              "      <td>80.8</td>\n",
              "      <td>19.0</td>\n",
              "      <td>7.88</td>\n",
              "      <td>10.280</td>\n",
              "      <td>10.15200</td>\n",
              "      <td>45</td>\n",
              "      <td>0.060336</td>\n",
              "      <td>2.5050</td>\n",
              "      <td>1</td>\n",
              "      <td>0</td>\n",
              "      <td>1</td>\n",
              "      <td>0</td>\n",
              "    </tr>\n",
              "  </tbody>\n",
              "</table>\n",
              "<p>506 rows × 16 columns</p>\n",
              "</div>"
            ],
            "text/plain": [
              "     crime_rate  resid_area  air_qual  room_num   age  teachers  poor_prop  \\\n",
              "0      0.006300       32.31     0.538     6.575  65.2      24.7       4.98   \n",
              "1      0.026944       37.07     0.469     6.421  78.9      22.2       9.14   \n",
              "2      0.026924       37.07     0.469     7.185  61.1      22.2       4.03   \n",
              "3      0.031857       32.18     0.458     6.998  45.8      21.3       2.94   \n",
              "4      0.066770       32.18     0.458     7.147  54.2      21.3       5.33   \n",
              "..          ...         ...       ...       ...   ...       ...        ...   \n",
              "501    0.060747       41.93     0.573     6.593  69.1      19.0       9.67   \n",
              "502    0.044275       41.93     0.573     6.120  76.7      19.0       9.08   \n",
              "503    0.058986       41.93     0.573     6.976  91.0      19.0       5.64   \n",
              "504    0.103991       41.93     0.573     6.794  89.3      19.0       6.48   \n",
              "505    0.046320       41.93     0.573     6.030  80.8      19.0       7.88   \n",
              "\n",
              "     n_hos_beds  n_hot_rooms  rainfall     parks  avg_dist  airport_YES  \\\n",
              "0         5.480     11.19200        23  0.049347    4.0875            1   \n",
              "1         7.332     12.17280        42  0.046146    4.9675            0   \n",
              "2         7.394     15.39952        38  0.045764    4.9675            0   \n",
              "3         9.268     11.26720        45  0.047151    6.0650            1   \n",
              "4         8.824     11.28960        55  0.039474    6.0625            0   \n",
              "..          ...          ...       ...       ...       ...          ...   \n",
              "501       9.348     12.17920        27  0.056006    2.4775            0   \n",
              "502       6.612     13.16480        20  0.059903    2.2875            1   \n",
              "503       5.478     12.19120        31  0.057572    2.1675            0   \n",
              "504       7.940     15.17600        47  0.060694    2.3900            1   \n",
              "505      10.280     10.15200        45  0.060336    2.5050            1   \n",
              "\n",
              "     waterbody_Lake and River  waterbody_None  waterbody_River  \n",
              "0                           0               0                1  \n",
              "1                           0               0                0  \n",
              "2                           0               1                0  \n",
              "3                           0               0                0  \n",
              "4                           0               0                0  \n",
              "..                        ...             ...              ...  \n",
              "501                         1               0                0  \n",
              "502                         1               0                0  \n",
              "503                         0               1                0  \n",
              "504                         0               1                0  \n",
              "505                         0               1                0  \n",
              "\n",
              "[506 rows x 16 columns]"
            ]
          },
          "execution_count": 49,
          "metadata": {},
          "output_type": "execute_result"
        }
      ],
      "source": [
        "x_multi=df.drop('price',axis=1)\n",
        "x_multi"
      ]
    },
    {
      "cell_type": "code",
      "execution_count": null,
      "id": "45c35f43",
      "metadata": {
        "id": "45c35f43",
        "outputId": "0dbb92b9-d186-4b1c-bfba-1c4f39ec88a2"
      },
      "outputs": [
        {
          "data": {
            "text/plain": [
              "0      24.0\n",
              "1      21.6\n",
              "2      34.7\n",
              "3      33.4\n",
              "4      36.2\n",
              "       ... \n",
              "501    22.4\n",
              "502    20.6\n",
              "503    23.9\n",
              "504    22.0\n",
              "505    19.0\n",
              "Name: price, Length: 506, dtype: float64"
            ]
          },
          "execution_count": 50,
          "metadata": {},
          "output_type": "execute_result"
        }
      ],
      "source": [
        "y_multi=df['price']\n",
        "y_multi"
      ]
    },
    {
      "cell_type": "code",
      "execution_count": null,
      "id": "7a22d6d2",
      "metadata": {
        "id": "7a22d6d2",
        "outputId": "99f7c803-1a40-42ef-d874-6d77a5cf1b99"
      },
      "outputs": [
        {
          "data": {
            "text/html": [
              "<table class=\"simpletable\">\n",
              "<caption>OLS Regression Results</caption>\n",
              "<tr>\n",
              "  <th>Dep. Variable:</th>          <td>price</td>      <th>  R-squared (uncentered):</th>      <td>   0.960</td>\n",
              "</tr>\n",
              "<tr>\n",
              "  <th>Model:</th>                   <td>OLS</td>       <th>  Adj. R-squared (uncentered):</th> <td>   0.959</td>\n",
              "</tr>\n",
              "<tr>\n",
              "  <th>Method:</th>             <td>Least Squares</td>  <th>  F-statistic:       </th>          <td>   740.5</td>\n",
              "</tr>\n",
              "<tr>\n",
              "  <th>Date:</th>             <td>Wed, 11 Oct 2023</td> <th>  Prob (F-statistic):</th>           <td>  0.00</td> \n",
              "</tr>\n",
              "<tr>\n",
              "  <th>Time:</th>                 <td>21:22:01</td>     <th>  Log-Likelihood:    </th>          <td> -1516.7</td>\n",
              "</tr>\n",
              "<tr>\n",
              "  <th>No. Observations:</th>      <td>   506</td>      <th>  AIC:               </th>          <td>   3065.</td>\n",
              "</tr>\n",
              "<tr>\n",
              "  <th>Df Residuals:</th>          <td>   490</td>      <th>  BIC:               </th>          <td>   3133.</td>\n",
              "</tr>\n",
              "<tr>\n",
              "  <th>Df Model:</th>              <td>    16</td>      <th>                     </th>              <td> </td>   \n",
              "</tr>\n",
              "<tr>\n",
              "  <th>Covariance Type:</th>      <td>nonrobust</td>    <th>                     </th>              <td> </td>   \n",
              "</tr>\n",
              "</table>\n",
              "<table class=\"simpletable\">\n",
              "<tr>\n",
              "              <td></td>                <th>coef</th>     <th>std err</th>      <th>t</th>      <th>P>|t|</th>  <th>[0.025</th>    <th>0.975]</th>  \n",
              "</tr>\n",
              "<tr>\n",
              "  <th>crime_rate</th>               <td>    0.0929</td> <td>    0.345</td> <td>    0.269</td> <td> 0.788</td> <td>   -0.585</td> <td>    0.771</td>\n",
              "</tr>\n",
              "<tr>\n",
              "  <th>resid_area</th>               <td>   -0.0810</td> <td>    0.050</td> <td>   -1.618</td> <td> 0.106</td> <td>   -0.179</td> <td>    0.017</td>\n",
              "</tr>\n",
              "<tr>\n",
              "  <th>air_qual</th>                 <td>  -21.1688</td> <td>    5.893</td> <td>   -3.592</td> <td> 0.000</td> <td>  -32.747</td> <td>   -9.591</td>\n",
              "</tr>\n",
              "<tr>\n",
              "  <th>room_num</th>                 <td>    3.7113</td> <td>    0.364</td> <td>   10.189</td> <td> 0.000</td> <td>    2.996</td> <td>    4.427</td>\n",
              "</tr>\n",
              "<tr>\n",
              "  <th>age</th>                      <td>   -0.0061</td> <td>    0.014</td> <td>   -0.452</td> <td> 0.651</td> <td>   -0.033</td> <td>    0.021</td>\n",
              "</tr>\n",
              "<tr>\n",
              "  <th>teachers</th>                 <td>    0.9415</td> <td>    0.112</td> <td>    8.386</td> <td> 0.000</td> <td>    0.721</td> <td>    1.162</td>\n",
              "</tr>\n",
              "<tr>\n",
              "  <th>poor_prop</th>                <td>   -0.6013</td> <td>    0.050</td> <td>  -11.983</td> <td> 0.000</td> <td>   -0.700</td> <td>   -0.503</td>\n",
              "</tr>\n",
              "<tr>\n",
              "  <th>n_hos_beds</th>               <td>    0.2800</td> <td>    0.147</td> <td>    1.905</td> <td> 0.057</td> <td>   -0.009</td> <td>    0.569</td>\n",
              "</tr>\n",
              "<tr>\n",
              "  <th>n_hot_rooms</th>              <td>    0.1076</td> <td>    0.123</td> <td>    0.876</td> <td> 0.381</td> <td>   -0.134</td> <td>    0.349</td>\n",
              "</tr>\n",
              "<tr>\n",
              "  <th>rainfall</th>                 <td>    0.0133</td> <td>    0.018</td> <td>    0.747</td> <td> 0.456</td> <td>   -0.022</td> <td>    0.048</td>\n",
              "</tr>\n",
              "<tr>\n",
              "  <th>parks</th>                    <td>   52.5575</td> <td>   51.517</td> <td>    1.020</td> <td> 0.308</td> <td>  -48.663</td> <td>  153.778</td>\n",
              "</tr>\n",
              "<tr>\n",
              "  <th>avg_dist</th>                 <td>   -1.3438</td> <td>    0.167</td> <td>   -8.040</td> <td> 0.000</td> <td>   -1.672</td> <td>   -1.015</td>\n",
              "</tr>\n",
              "<tr>\n",
              "  <th>airport_YES</th>              <td>    1.0719</td> <td>    0.454</td> <td>    2.362</td> <td> 0.019</td> <td>    0.180</td> <td>    1.964</td>\n",
              "</tr>\n",
              "<tr>\n",
              "  <th>waterbody_Lake and River</th> <td>   -1.0272</td> <td>    0.779</td> <td>   -1.318</td> <td> 0.188</td> <td>   -2.559</td> <td>    0.504</td>\n",
              "</tr>\n",
              "<tr>\n",
              "  <th>waterbody_None</th>           <td>   -0.3581</td> <td>    0.639</td> <td>   -0.560</td> <td> 0.576</td> <td>   -1.614</td> <td>    0.898</td>\n",
              "</tr>\n",
              "<tr>\n",
              "  <th>waterbody_River</th>          <td>   -0.6762</td> <td>    0.619</td> <td>   -1.092</td> <td> 0.275</td> <td>   -1.893</td> <td>    0.541</td>\n",
              "</tr>\n",
              "</table>\n",
              "<table class=\"simpletable\">\n",
              "<tr>\n",
              "  <th>Omnibus:</th>       <td>173.200</td> <th>  Durbin-Watson:     </th> <td>   0.988</td> \n",
              "</tr>\n",
              "<tr>\n",
              "  <th>Prob(Omnibus):</th> <td> 0.000</td>  <th>  Jarque-Bera (JB):  </th> <td> 715.912</td> \n",
              "</tr>\n",
              "<tr>\n",
              "  <th>Skew:</th>          <td> 1.499</td>  <th>  Prob(JB):          </th> <td>3.48e-156</td>\n",
              "</tr>\n",
              "<tr>\n",
              "  <th>Kurtosis:</th>      <td> 7.997</td>  <th>  Cond. No.          </th> <td>2.29e+04</td> \n",
              "</tr>\n",
              "</table><br/><br/>Notes:<br/>[1] R² is computed without centering (uncentered) since the model does not contain a constant.<br/>[2] Standard Errors assume that the covariance matrix of the errors is correctly specified.<br/>[3] The condition number is large, 2.29e+04. This might indicate that there are<br/>strong multicollinearity or other numerical problems."
            ],
            "text/plain": [
              "<class 'statsmodels.iolib.summary.Summary'>\n",
              "\"\"\"\n",
              "                                 OLS Regression Results                                \n",
              "=======================================================================================\n",
              "Dep. Variable:                  price   R-squared (uncentered):                   0.960\n",
              "Model:                            OLS   Adj. R-squared (uncentered):              0.959\n",
              "Method:                 Least Squares   F-statistic:                              740.5\n",
              "Date:                Wed, 11 Oct 2023   Prob (F-statistic):                        0.00\n",
              "Time:                        21:22:01   Log-Likelihood:                         -1516.7\n",
              "No. Observations:                 506   AIC:                                      3065.\n",
              "Df Residuals:                     490   BIC:                                      3133.\n",
              "Df Model:                          16                                                  \n",
              "Covariance Type:            nonrobust                                                  \n",
              "============================================================================================\n",
              "                               coef    std err          t      P>|t|      [0.025      0.975]\n",
              "--------------------------------------------------------------------------------------------\n",
              "crime_rate                   0.0929      0.345      0.269      0.788      -0.585       0.771\n",
              "resid_area                  -0.0810      0.050     -1.618      0.106      -0.179       0.017\n",
              "air_qual                   -21.1688      5.893     -3.592      0.000     -32.747      -9.591\n",
              "room_num                     3.7113      0.364     10.189      0.000       2.996       4.427\n",
              "age                         -0.0061      0.014     -0.452      0.651      -0.033       0.021\n",
              "teachers                     0.9415      0.112      8.386      0.000       0.721       1.162\n",
              "poor_prop                   -0.6013      0.050    -11.983      0.000      -0.700      -0.503\n",
              "n_hos_beds                   0.2800      0.147      1.905      0.057      -0.009       0.569\n",
              "n_hot_rooms                  0.1076      0.123      0.876      0.381      -0.134       0.349\n",
              "rainfall                     0.0133      0.018      0.747      0.456      -0.022       0.048\n",
              "parks                       52.5575     51.517      1.020      0.308     -48.663     153.778\n",
              "avg_dist                    -1.3438      0.167     -8.040      0.000      -1.672      -1.015\n",
              "airport_YES                  1.0719      0.454      2.362      0.019       0.180       1.964\n",
              "waterbody_Lake and River    -1.0272      0.779     -1.318      0.188      -2.559       0.504\n",
              "waterbody_None              -0.3581      0.639     -0.560      0.576      -1.614       0.898\n",
              "waterbody_River             -0.6762      0.619     -1.092      0.275      -1.893       0.541\n",
              "==============================================================================\n",
              "Omnibus:                      173.200   Durbin-Watson:                   0.988\n",
              "Prob(Omnibus):                  0.000   Jarque-Bera (JB):              715.912\n",
              "Skew:                           1.499   Prob(JB):                    3.48e-156\n",
              "Kurtosis:                       7.997   Cond. No.                     2.29e+04\n",
              "==============================================================================\n",
              "\n",
              "Notes:\n",
              "[1] R² is computed without centering (uncentered) since the model does not contain a constant.\n",
              "[2] Standard Errors assume that the covariance matrix of the errors is correctly specified.\n",
              "[3] The condition number is large, 2.29e+04. This might indicate that there are\n",
              "strong multicollinearity or other numerical problems.\n",
              "\"\"\""
            ]
          },
          "execution_count": 51,
          "metadata": {},
          "output_type": "execute_result"
        }
      ],
      "source": [
        "x_multi_cons=sn.add_constant(x_multi)\n",
        "lm_multi=sn.OLS(y_multi,x_multi).fit()\n",
        "lm_multi.summary()"
      ]
    },
    {
      "cell_type": "code",
      "execution_count": null,
      "id": "811e3f57",
      "metadata": {
        "id": "811e3f57",
        "outputId": "a6c465f3-90c7-486d-b134-8bae39f9ddd0"
      },
      "outputs": [
        {
          "data": {
            "text/html": [
              "<style>#sk-container-id-2 {color: black;background-color: white;}#sk-container-id-2 pre{padding: 0;}#sk-container-id-2 div.sk-toggleable {background-color: white;}#sk-container-id-2 label.sk-toggleable__label {cursor: pointer;display: block;width: 100%;margin-bottom: 0;padding: 0.3em;box-sizing: border-box;text-align: center;}#sk-container-id-2 label.sk-toggleable__label-arrow:before {content: \"▸\";float: left;margin-right: 0.25em;color: #696969;}#sk-container-id-2 label.sk-toggleable__label-arrow:hover:before {color: black;}#sk-container-id-2 div.sk-estimator:hover label.sk-toggleable__label-arrow:before {color: black;}#sk-container-id-2 div.sk-toggleable__content {max-height: 0;max-width: 0;overflow: hidden;text-align: left;background-color: #f0f8ff;}#sk-container-id-2 div.sk-toggleable__content pre {margin: 0.2em;color: black;border-radius: 0.25em;background-color: #f0f8ff;}#sk-container-id-2 input.sk-toggleable__control:checked~div.sk-toggleable__content {max-height: 200px;max-width: 100%;overflow: auto;}#sk-container-id-2 input.sk-toggleable__control:checked~label.sk-toggleable__label-arrow:before {content: \"▾\";}#sk-container-id-2 div.sk-estimator input.sk-toggleable__control:checked~label.sk-toggleable__label {background-color: #d4ebff;}#sk-container-id-2 div.sk-label input.sk-toggleable__control:checked~label.sk-toggleable__label {background-color: #d4ebff;}#sk-container-id-2 input.sk-hidden--visually {border: 0;clip: rect(1px 1px 1px 1px);clip: rect(1px, 1px, 1px, 1px);height: 1px;margin: -1px;overflow: hidden;padding: 0;position: absolute;width: 1px;}#sk-container-id-2 div.sk-estimator {font-family: monospace;background-color: #f0f8ff;border: 1px dotted black;border-radius: 0.25em;box-sizing: border-box;margin-bottom: 0.5em;}#sk-container-id-2 div.sk-estimator:hover {background-color: #d4ebff;}#sk-container-id-2 div.sk-parallel-item::after {content: \"\";width: 100%;border-bottom: 1px solid gray;flex-grow: 1;}#sk-container-id-2 div.sk-label:hover label.sk-toggleable__label {background-color: #d4ebff;}#sk-container-id-2 div.sk-serial::before {content: \"\";position: absolute;border-left: 1px solid gray;box-sizing: border-box;top: 0;bottom: 0;left: 50%;z-index: 0;}#sk-container-id-2 div.sk-serial {display: flex;flex-direction: column;align-items: center;background-color: white;padding-right: 0.2em;padding-left: 0.2em;position: relative;}#sk-container-id-2 div.sk-item {position: relative;z-index: 1;}#sk-container-id-2 div.sk-parallel {display: flex;align-items: stretch;justify-content: center;background-color: white;position: relative;}#sk-container-id-2 div.sk-item::before, #sk-container-id-2 div.sk-parallel-item::before {content: \"\";position: absolute;border-left: 1px solid gray;box-sizing: border-box;top: 0;bottom: 0;left: 50%;z-index: -1;}#sk-container-id-2 div.sk-parallel-item {display: flex;flex-direction: column;z-index: 1;position: relative;background-color: white;}#sk-container-id-2 div.sk-parallel-item:first-child::after {align-self: flex-end;width: 50%;}#sk-container-id-2 div.sk-parallel-item:last-child::after {align-self: flex-start;width: 50%;}#sk-container-id-2 div.sk-parallel-item:only-child::after {width: 0;}#sk-container-id-2 div.sk-dashed-wrapped {border: 1px dashed gray;margin: 0 0.4em 0.5em 0.4em;box-sizing: border-box;padding-bottom: 0.4em;background-color: white;}#sk-container-id-2 div.sk-label label {font-family: monospace;font-weight: bold;display: inline-block;line-height: 1.2em;}#sk-container-id-2 div.sk-label-container {text-align: center;}#sk-container-id-2 div.sk-container {/* jupyter's `normalize.less` sets `[hidden] { display: none; }` but bootstrap.min.css set `[hidden] { display: none !important; }` so we also need the `!important` here to be able to override the default hidden behavior on the sphinx rendered scikit-learn.org. See: https://github.com/scikit-learn/scikit-learn/issues/21755 */display: inline-block !important;position: relative;}#sk-container-id-2 div.sk-text-repr-fallback {display: none;}</style><div id=\"sk-container-id-2\" class=\"sk-top-container\"><div class=\"sk-text-repr-fallback\"><pre>LinearRegression()</pre><b>In a Jupyter environment, please rerun this cell to show the HTML representation or trust the notebook. <br />On GitHub, the HTML representation is unable to render, please try loading this page with nbviewer.org.</b></div><div class=\"sk-container\" hidden><div class=\"sk-item\"><div class=\"sk-estimator sk-toggleable\"><input class=\"sk-toggleable__control sk-hidden--visually\" id=\"sk-estimator-id-2\" type=\"checkbox\" checked><label for=\"sk-estimator-id-2\" class=\"sk-toggleable__label sk-toggleable__label-arrow\">LinearRegression</label><div class=\"sk-toggleable__content\"><pre>LinearRegression()</pre></div></div></div></div></div>"
            ],
            "text/plain": [
              "LinearRegression()"
            ]
          },
          "execution_count": 52,
          "metadata": {},
          "output_type": "execute_result"
        }
      ],
      "source": [
        "y=df[\"price\"]\n",
        "x=df.drop('price',axis=1)\n",
        "\n",
        "\n",
        "lmm=LinearRegression()\n",
        "lmm.fit(x,y)\n"
      ]
    },
    {
      "cell_type": "code",
      "execution_count": null,
      "id": "9ae8157b",
      "metadata": {
        "id": "9ae8157b",
        "outputId": "fb6de283-fa72-4ac0-d306-d2188cc857b3"
      },
      "outputs": [
        {
          "data": {
            "text/plain": [
              "array([30.36820218, 25.3208446 , 31.69109243, 31.26829881, 28.93364907,\n",
              "       27.20079651, 23.31406833, 19.06116184, 11.24402634, 20.42264572,\n",
              "       18.13884075, 21.24480206, 20.47510966, 20.67083094, 19.91091527,\n",
              "       21.16012078, 20.25200727, 16.41683654, 17.82355598, 17.8859075 ,\n",
              "       12.71830932, 19.11078084, 16.19209392, 14.36715785, 16.61233809,\n",
              "       15.2167112 , 16.3230642 , 16.48132205, 20.29290094, 21.13202212,\n",
              "       12.22388376, 19.31196135,  9.57651434, 15.77020627, 15.78497517,\n",
              "       24.53565782, 21.91405546, 23.06757578, 22.79498011, 29.54873229,\n",
              "       32.35952669, 28.37339134, 26.20594783, 26.07372716, 23.14119766,\n",
              "       21.23292029, 21.95462442, 17.84911019,  7.50619956, 16.04341841,\n",
              "       20.4872469 , 24.11719729, 28.58348938, 23.39971473, 16.79939251,\n",
              "       29.47160962, 24.52012818, 31.71722134, 20.62877603, 19.96155033,\n",
              "       15.23178272, 15.84139818, 22.66862236, 21.1127014 , 23.61568098,\n",
              "       28.37382269, 23.25225479, 22.46868005, 18.84261942, 21.85210709,\n",
              "       27.67425423, 22.39539704, 23.23016227, 25.6505408 , 25.7126628 ,\n",
              "       23.40888167, 23.12784721, 24.17592701, 24.13336982, 22.66125008,\n",
              "       29.09940489, 27.34112168, 24.09003024, 24.99574737, 24.71363287,\n",
              "       29.08519505, 22.25092172, 26.99944951, 30.06484835, 33.00982732,\n",
              "       29.22211931, 27.39598763, 28.67776533, 28.01768225, 23.6756581 ,\n",
              "       30.74810306, 25.40687952, 37.17356462, 37.64048588, 32.85926779,\n",
              "       26.96130164, 26.27113057, 22.54099622, 21.57746988, 21.21855877,\n",
              "       19.62919462, 18.68667256, 20.99036485, 21.8463332 , 21.98650363,\n",
              "       20.89393984, 27.43815598, 22.36011456, 22.71560366, 24.77010017,\n",
              "       20.54015492, 23.37795048, 24.86596492, 22.51374089, 22.33207382,\n",
              "       19.72504435, 20.7512639 , 19.42353085, 14.69769621, 17.81653769,\n",
              "       21.72604298, 11.81567881, 15.55164101, 19.16987249, 14.54604174,\n",
              "       22.02706076, 20.3256856 , 21.23891434, 17.08320145, 14.05863398,\n",
              "       18.20449327, 16.12302268, 20.43665056, 13.43096961, 17.22842981,\n",
              "       11.87735349,  4.29915552, 11.6026007 , 12.60881362,  8.69146947,\n",
              "       14.66793148, 17.29250183,  7.02479701, 11.04463255, 16.28907313,\n",
              "       20.3487794 , 17.7667023 , 18.32828977, 18.59446253, 20.44807211,\n",
              "       21.43190015, 15.47419893, 35.60473911, 29.84070678, 27.43575902,\n",
              "       31.82944109, 39.40830645, 40.06708658, 41.59395834, 27.77776307,\n",
              "       28.20142553, 39.54343566, 26.15527117, 27.19292728, 26.05897399,\n",
              "       23.53285038, 25.4621889 , 22.4624587 , 30.67189289, 28.21877031,\n",
              "       31.77784678, 27.98985007, 30.29882541, 30.71517872, 33.18510832,\n",
              "       35.29929827, 28.4638895 , 35.03121858, 31.84505557, 22.75386461,\n",
              "       25.08811785, 36.49497414, 33.64120307, 32.93828951, 34.86792263,\n",
              "       31.36022512, 30.6155689 , 35.7866594 , 30.76718709, 32.32698852,\n",
              "       39.64156736, 35.68444401, 32.28703924, 35.5076415 , 30.35089215,\n",
              "       29.29383689, 28.61099587, 37.10321176, 38.11038564, 41.60263869,\n",
              "       23.97125359, 23.98711062, 17.94939185, 21.07993076, 13.74198824,\n",
              "       19.52383782, 12.27210277, 19.80665156, 25.19123843, 10.45851924,\n",
              "       25.42962203, 22.51846165, 27.80212196, 22.12853499, 26.51043278,\n",
              "       29.16797144, 20.27591004, 29.41435251, 30.1763188 , 39.53350632,\n",
              "       40.52651989, 37.00921732, 30.85099491, 38.37153611, 32.24711215,\n",
              "       23.43234756, 33.32357508, 38.52895914, 38.18614142, 29.80280257,\n",
              "       26.71322886, 27.84426729, 34.42185275, 28.53305838, 26.75745296,\n",
              "       27.48202668, 22.53243784, 23.09750463, 28.44987021, 15.01268938,\n",
              "       13.83188531, 20.49695818, 19.8635778 , 23.00127406, 25.55418402,\n",
              "       24.40353451, 26.72758737, 25.2943603 , 32.41172758, 22.66355875,\n",
              "       21.48319854, 34.31689766, 43.4770495 , 37.06317359, 34.18052713,\n",
              "       34.98690382, 36.01212733, 41.89957697, 33.38108887, 35.93712397,\n",
              "       27.02571293, 28.48556972, 42.41428464, 39.88877425, 21.91961123,\n",
              "       21.71178126, 24.76779828, 28.2402238 , 31.58386343, 32.1228253 ,\n",
              "       32.66433123, 31.51270624, 29.24878124, 28.49706109, 35.13777738,\n",
              "       37.32469221, 35.11998229, 38.89846209, 41.48742113, 30.22386161,\n",
              "       29.54342163, 19.15462279, 28.09524254, 23.69531554, 26.43880447,\n",
              "       30.83161456, 32.19551511, 28.05998003, 27.43336415, 24.29431044,\n",
              "       29.1561273 , 28.15473478, 20.67433556, 29.3876479 , 32.68676689,\n",
              "       30.83310108, 28.43422428, 27.69602115, 32.83695383, 30.29796447,\n",
              "       27.4400285 , 34.35239236, 30.98059983, 28.27694421, 25.35908215,\n",
              "       17.97740543, 28.63006699, 23.27350499, 27.18409138, 27.89172986,\n",
              "       20.08945148, 16.61447132, 18.17402255, 23.24349783, 21.39379233,\n",
              "       25.9421048 , 26.36756836, 23.11874846, 19.96581493, 25.86738932,\n",
              "       25.66064446, 24.47881107, 20.03838286, 24.95875663, 26.88171941,\n",
              "       24.16001098, 20.53680111, 25.59185536, 22.24248012, 22.73696986,\n",
              "       22.31344927, 20.26107905, 19.49835341, 22.6369582 , 19.62128541,\n",
              "       21.13924034, 32.59248433, 26.62855675, 28.21822448, 28.35124971,\n",
              "       20.19508166, 16.39729465, 25.0955083 , 26.73369675, 23.48312207,\n",
              "       21.85129886, 21.29192824, 18.30894137, 23.72962329, 13.61715025,\n",
              "       16.41070274, 15.20770655, 18.6465358 , 17.34775023, 17.81587187,\n",
              "       20.83650515, 18.82084638, 16.82953621, 17.85247573, 33.09996218,\n",
              "       13.12163797, 15.7468589 , 11.44387492, 22.3378069 , 29.96721813,\n",
              "       32.16994603, 25.00636107, 24.22325108,  3.82727984, -1.56536486,\n",
              "       25.51432996, 18.6025639 , 18.80522419, 17.24114265, 14.17950307,\n",
              "       22.7975759 , 16.02564605, 11.30169649, 10.88020068,  1.10063316,\n",
              "        5.56690648,  5.45930855,  3.83367992,  3.41729446, 10.15099706,\n",
              "       16.05075616, 16.05518194,  7.20173302, 18.75700233, 16.42175536,\n",
              "       17.47590129, 16.45630526, 14.37837845,  7.32282818,  8.16695792,\n",
              "       12.11671073, 17.0254612 , 15.69934802, 13.69337916,  8.78381764,\n",
              "       12.95750638,  7.98062479, 19.3293987 , 10.02221121, 21.96580578,\n",
              "       21.89104552, 19.28475669,  3.35151148, 12.76925052, -0.63362752,\n",
              "       11.34352364, 15.0248827 ,  9.54435498, 14.88336786, 15.10192771,\n",
              "       18.5241921 , 16.67894449, 17.77887506, 15.23592121, 16.54297951,\n",
              "       13.1846771 , 18.74482953, 18.94167232, 15.95587336, 15.36118255,\n",
              "       19.439067  , 20.57093146, 23.17648525, 15.73461971, 17.60010182,\n",
              "       14.69027137, 16.75675804, 11.27225252,  7.88783799, 12.84529138,\n",
              "       11.97940464, 17.54524253, 16.90678733, 15.42936443,  9.07846856,\n",
              "       13.31614042, 17.57595871, 17.65861366, 17.43850328, 17.17321719,\n",
              "       20.06572386, 18.20448593, 16.06452302, 21.0970901 , 16.36685977,\n",
              "       16.42767442, 13.5072296 , 15.73539634, 15.8736731 , 17.59271428,\n",
              "       19.02638268, 19.42216592, 17.4635701 , 23.01033697, 17.77360414,\n",
              "       17.32111673, 15.70430265, 14.05819097, 15.25992749, 16.39996946,\n",
              "       17.11645261, 21.41245637, 21.7203183 , 25.13512982, 13.57056061,\n",
              "       15.88318578, 18.13104105, 11.30641466, 18.99265873, 19.52775769,\n",
              "       21.20296247, 25.57747237, 26.59381921, 19.53437032, 19.1899657 ,\n",
              "       20.29170471, 19.46945914, 19.90519688, 14.20275952, 12.47833267,\n",
              "        7.18546553, 16.6660876 , 20.94739791, 21.04140863, 21.57623229,\n",
              "       16.87057491, 13.49533646, 20.2107054 , 21.4614546 , 19.93963587,\n",
              "       20.32772715, 23.2109059 , 22.2719139 , 26.90686076, 28.31833073,\n",
              "       24.17624424])"
            ]
          },
          "execution_count": 53,
          "metadata": {},
          "output_type": "execute_result"
        }
      ],
      "source": [
        "lmm.predict(x)"
      ]
    },
    {
      "cell_type": "code",
      "execution_count": null,
      "id": "02d9b6d3",
      "metadata": {
        "id": "02d9b6d3",
        "outputId": "f2ebcc72-3445-4134-eed4-495809fcbbe7"
      },
      "outputs": [
        {
          "data": {
            "text/plain": [
              "-8.193339030716512"
            ]
          },
          "execution_count": 54,
          "metadata": {},
          "output_type": "execute_result"
        }
      ],
      "source": [
        "lmm.intercept_"
      ]
    },
    {
      "cell_type": "code",
      "execution_count": null,
      "id": "d40ac379",
      "metadata": {
        "id": "d40ac379"
      },
      "outputs": [],
      "source": [
        "from sklearn.model_selection import train_test_split\n",
        "X_train, X_test, Y_train, Y_test = train_test_split(x_multi,y_multi,test_size=0.2,random_state=42)"
      ]
    },
    {
      "cell_type": "code",
      "execution_count": null,
      "id": "355c6f6b",
      "metadata": {
        "id": "355c6f6b",
        "outputId": "cdb4743a-f7ab-4106-c075-2992f9e93603"
      },
      "outputs": [
        {
          "data": {
            "text/plain": [
              "(102, 16)"
            ]
          },
          "execution_count": 56,
          "metadata": {},
          "output_type": "execute_result"
        }
      ],
      "source": [
        "X_test.shape"
      ]
    },
    {
      "cell_type": "code",
      "execution_count": null,
      "id": "5a0be66b",
      "metadata": {
        "id": "5a0be66b",
        "outputId": "e43a8fda-ab68-4f0a-ff20-e75932bdc2d0"
      },
      "outputs": [
        {
          "data": {
            "text/html": [
              "<style>#sk-container-id-3 {color: black;background-color: white;}#sk-container-id-3 pre{padding: 0;}#sk-container-id-3 div.sk-toggleable {background-color: white;}#sk-container-id-3 label.sk-toggleable__label {cursor: pointer;display: block;width: 100%;margin-bottom: 0;padding: 0.3em;box-sizing: border-box;text-align: center;}#sk-container-id-3 label.sk-toggleable__label-arrow:before {content: \"▸\";float: left;margin-right: 0.25em;color: #696969;}#sk-container-id-3 label.sk-toggleable__label-arrow:hover:before {color: black;}#sk-container-id-3 div.sk-estimator:hover label.sk-toggleable__label-arrow:before {color: black;}#sk-container-id-3 div.sk-toggleable__content {max-height: 0;max-width: 0;overflow: hidden;text-align: left;background-color: #f0f8ff;}#sk-container-id-3 div.sk-toggleable__content pre {margin: 0.2em;color: black;border-radius: 0.25em;background-color: #f0f8ff;}#sk-container-id-3 input.sk-toggleable__control:checked~div.sk-toggleable__content {max-height: 200px;max-width: 100%;overflow: auto;}#sk-container-id-3 input.sk-toggleable__control:checked~label.sk-toggleable__label-arrow:before {content: \"▾\";}#sk-container-id-3 div.sk-estimator input.sk-toggleable__control:checked~label.sk-toggleable__label {background-color: #d4ebff;}#sk-container-id-3 div.sk-label input.sk-toggleable__control:checked~label.sk-toggleable__label {background-color: #d4ebff;}#sk-container-id-3 input.sk-hidden--visually {border: 0;clip: rect(1px 1px 1px 1px);clip: rect(1px, 1px, 1px, 1px);height: 1px;margin: -1px;overflow: hidden;padding: 0;position: absolute;width: 1px;}#sk-container-id-3 div.sk-estimator {font-family: monospace;background-color: #f0f8ff;border: 1px dotted black;border-radius: 0.25em;box-sizing: border-box;margin-bottom: 0.5em;}#sk-container-id-3 div.sk-estimator:hover {background-color: #d4ebff;}#sk-container-id-3 div.sk-parallel-item::after {content: \"\";width: 100%;border-bottom: 1px solid gray;flex-grow: 1;}#sk-container-id-3 div.sk-label:hover label.sk-toggleable__label {background-color: #d4ebff;}#sk-container-id-3 div.sk-serial::before {content: \"\";position: absolute;border-left: 1px solid gray;box-sizing: border-box;top: 0;bottom: 0;left: 50%;z-index: 0;}#sk-container-id-3 div.sk-serial {display: flex;flex-direction: column;align-items: center;background-color: white;padding-right: 0.2em;padding-left: 0.2em;position: relative;}#sk-container-id-3 div.sk-item {position: relative;z-index: 1;}#sk-container-id-3 div.sk-parallel {display: flex;align-items: stretch;justify-content: center;background-color: white;position: relative;}#sk-container-id-3 div.sk-item::before, #sk-container-id-3 div.sk-parallel-item::before {content: \"\";position: absolute;border-left: 1px solid gray;box-sizing: border-box;top: 0;bottom: 0;left: 50%;z-index: -1;}#sk-container-id-3 div.sk-parallel-item {display: flex;flex-direction: column;z-index: 1;position: relative;background-color: white;}#sk-container-id-3 div.sk-parallel-item:first-child::after {align-self: flex-end;width: 50%;}#sk-container-id-3 div.sk-parallel-item:last-child::after {align-self: flex-start;width: 50%;}#sk-container-id-3 div.sk-parallel-item:only-child::after {width: 0;}#sk-container-id-3 div.sk-dashed-wrapped {border: 1px dashed gray;margin: 0 0.4em 0.5em 0.4em;box-sizing: border-box;padding-bottom: 0.4em;background-color: white;}#sk-container-id-3 div.sk-label label {font-family: monospace;font-weight: bold;display: inline-block;line-height: 1.2em;}#sk-container-id-3 div.sk-label-container {text-align: center;}#sk-container-id-3 div.sk-container {/* jupyter's `normalize.less` sets `[hidden] { display: none; }` but bootstrap.min.css set `[hidden] { display: none !important; }` so we also need the `!important` here to be able to override the default hidden behavior on the sphinx rendered scikit-learn.org. See: https://github.com/scikit-learn/scikit-learn/issues/21755 */display: inline-block !important;position: relative;}#sk-container-id-3 div.sk-text-repr-fallback {display: none;}</style><div id=\"sk-container-id-3\" class=\"sk-top-container\"><div class=\"sk-text-repr-fallback\"><pre>LinearRegression()</pre><b>In a Jupyter environment, please rerun this cell to show the HTML representation or trust the notebook. <br />On GitHub, the HTML representation is unable to render, please try loading this page with nbviewer.org.</b></div><div class=\"sk-container\" hidden><div class=\"sk-item\"><div class=\"sk-estimator sk-toggleable\"><input class=\"sk-toggleable__control sk-hidden--visually\" id=\"sk-estimator-id-3\" type=\"checkbox\" checked><label for=\"sk-estimator-id-3\" class=\"sk-toggleable__label sk-toggleable__label-arrow\">LinearRegression</label><div class=\"sk-toggleable__content\"><pre>LinearRegression()</pre></div></div></div></div></div>"
            ],
            "text/plain": [
              "LinearRegression()"
            ]
          },
          "execution_count": 57,
          "metadata": {},
          "output_type": "execute_result"
        }
      ],
      "source": [
        "LR=LinearRegression()\n",
        "LR.fit(X_train,Y_train)"
      ]
    },
    {
      "cell_type": "code",
      "execution_count": null,
      "id": "02960dc1",
      "metadata": {
        "id": "02960dc1"
      },
      "outputs": [],
      "source": [
        "Y_test_pred=LR.predict(X_test)"
      ]
    },
    {
      "cell_type": "code",
      "execution_count": null,
      "id": "9c7814c6",
      "metadata": {
        "id": "9c7814c6",
        "outputId": "9e714d5b-dd1f-4665-c2f5-28f7b1dcf4e8"
      },
      "outputs": [
        {
          "data": {
            "text/plain": [
              "0.6518042279219394"
            ]
          },
          "execution_count": 59,
          "metadata": {},
          "output_type": "execute_result"
        }
      ],
      "source": [
        "from sklearn.metrics import r2_score\n",
        "r2_score(Y_test,Y_test_pred)"
      ]
    },
    {
      "cell_type": "code",
      "execution_count": null,
      "id": "f0cfcadc",
      "metadata": {
        "id": "f0cfcadc"
      },
      "outputs": [],
      "source": [
        "df['Sold']=np.random.randint(2,size=len(df))"
      ]
    },
    {
      "cell_type": "code",
      "execution_count": null,
      "id": "12a7be4c",
      "metadata": {
        "id": "12a7be4c",
        "outputId": "5478437e-01c0-46d9-f3a2-845c5cbfcc1d"
      },
      "outputs": [
        {
          "data": {
            "text/html": [
              "<div>\n",
              "<style scoped>\n",
              "    .dataframe tbody tr th:only-of-type {\n",
              "        vertical-align: middle;\n",
              "    }\n",
              "\n",
              "    .dataframe tbody tr th {\n",
              "        vertical-align: top;\n",
              "    }\n",
              "\n",
              "    .dataframe thead th {\n",
              "        text-align: right;\n",
              "    }\n",
              "</style>\n",
              "<table border=\"1\" class=\"dataframe\">\n",
              "  <thead>\n",
              "    <tr style=\"text-align: right;\">\n",
              "      <th></th>\n",
              "      <th>price</th>\n",
              "      <th>crime_rate</th>\n",
              "      <th>resid_area</th>\n",
              "      <th>air_qual</th>\n",
              "      <th>room_num</th>\n",
              "      <th>age</th>\n",
              "      <th>teachers</th>\n",
              "      <th>poor_prop</th>\n",
              "      <th>n_hos_beds</th>\n",
              "      <th>n_hot_rooms</th>\n",
              "      <th>rainfall</th>\n",
              "      <th>parks</th>\n",
              "      <th>avg_dist</th>\n",
              "      <th>airport_YES</th>\n",
              "      <th>waterbody_Lake and River</th>\n",
              "      <th>waterbody_None</th>\n",
              "      <th>waterbody_River</th>\n",
              "      <th>Sold</th>\n",
              "    </tr>\n",
              "  </thead>\n",
              "  <tbody>\n",
              "    <tr>\n",
              "      <th>0</th>\n",
              "      <td>24.0</td>\n",
              "      <td>0.006300</td>\n",
              "      <td>32.31</td>\n",
              "      <td>0.538</td>\n",
              "      <td>6.575</td>\n",
              "      <td>65.2</td>\n",
              "      <td>24.7</td>\n",
              "      <td>4.98</td>\n",
              "      <td>5.480</td>\n",
              "      <td>11.19200</td>\n",
              "      <td>23</td>\n",
              "      <td>0.049347</td>\n",
              "      <td>4.0875</td>\n",
              "      <td>1</td>\n",
              "      <td>0</td>\n",
              "      <td>0</td>\n",
              "      <td>1</td>\n",
              "      <td>1</td>\n",
              "    </tr>\n",
              "    <tr>\n",
              "      <th>1</th>\n",
              "      <td>21.6</td>\n",
              "      <td>0.026944</td>\n",
              "      <td>37.07</td>\n",
              "      <td>0.469</td>\n",
              "      <td>6.421</td>\n",
              "      <td>78.9</td>\n",
              "      <td>22.2</td>\n",
              "      <td>9.14</td>\n",
              "      <td>7.332</td>\n",
              "      <td>12.17280</td>\n",
              "      <td>42</td>\n",
              "      <td>0.046146</td>\n",
              "      <td>4.9675</td>\n",
              "      <td>0</td>\n",
              "      <td>0</td>\n",
              "      <td>0</td>\n",
              "      <td>0</td>\n",
              "      <td>1</td>\n",
              "    </tr>\n",
              "    <tr>\n",
              "      <th>2</th>\n",
              "      <td>34.7</td>\n",
              "      <td>0.026924</td>\n",
              "      <td>37.07</td>\n",
              "      <td>0.469</td>\n",
              "      <td>7.185</td>\n",
              "      <td>61.1</td>\n",
              "      <td>22.2</td>\n",
              "      <td>4.03</td>\n",
              "      <td>7.394</td>\n",
              "      <td>15.39952</td>\n",
              "      <td>38</td>\n",
              "      <td>0.045764</td>\n",
              "      <td>4.9675</td>\n",
              "      <td>0</td>\n",
              "      <td>0</td>\n",
              "      <td>1</td>\n",
              "      <td>0</td>\n",
              "      <td>0</td>\n",
              "    </tr>\n",
              "    <tr>\n",
              "      <th>3</th>\n",
              "      <td>33.4</td>\n",
              "      <td>0.031857</td>\n",
              "      <td>32.18</td>\n",
              "      <td>0.458</td>\n",
              "      <td>6.998</td>\n",
              "      <td>45.8</td>\n",
              "      <td>21.3</td>\n",
              "      <td>2.94</td>\n",
              "      <td>9.268</td>\n",
              "      <td>11.26720</td>\n",
              "      <td>45</td>\n",
              "      <td>0.047151</td>\n",
              "      <td>6.0650</td>\n",
              "      <td>1</td>\n",
              "      <td>0</td>\n",
              "      <td>0</td>\n",
              "      <td>0</td>\n",
              "      <td>1</td>\n",
              "    </tr>\n",
              "    <tr>\n",
              "      <th>4</th>\n",
              "      <td>36.2</td>\n",
              "      <td>0.066770</td>\n",
              "      <td>32.18</td>\n",
              "      <td>0.458</td>\n",
              "      <td>7.147</td>\n",
              "      <td>54.2</td>\n",
              "      <td>21.3</td>\n",
              "      <td>5.33</td>\n",
              "      <td>8.824</td>\n",
              "      <td>11.28960</td>\n",
              "      <td>55</td>\n",
              "      <td>0.039474</td>\n",
              "      <td>6.0625</td>\n",
              "      <td>0</td>\n",
              "      <td>0</td>\n",
              "      <td>0</td>\n",
              "      <td>0</td>\n",
              "      <td>0</td>\n",
              "    </tr>\n",
              "    <tr>\n",
              "      <th>...</th>\n",
              "      <td>...</td>\n",
              "      <td>...</td>\n",
              "      <td>...</td>\n",
              "      <td>...</td>\n",
              "      <td>...</td>\n",
              "      <td>...</td>\n",
              "      <td>...</td>\n",
              "      <td>...</td>\n",
              "      <td>...</td>\n",
              "      <td>...</td>\n",
              "      <td>...</td>\n",
              "      <td>...</td>\n",
              "      <td>...</td>\n",
              "      <td>...</td>\n",
              "      <td>...</td>\n",
              "      <td>...</td>\n",
              "      <td>...</td>\n",
              "      <td>...</td>\n",
              "    </tr>\n",
              "    <tr>\n",
              "      <th>501</th>\n",
              "      <td>22.4</td>\n",
              "      <td>0.060747</td>\n",
              "      <td>41.93</td>\n",
              "      <td>0.573</td>\n",
              "      <td>6.593</td>\n",
              "      <td>69.1</td>\n",
              "      <td>19.0</td>\n",
              "      <td>9.67</td>\n",
              "      <td>9.348</td>\n",
              "      <td>12.17920</td>\n",
              "      <td>27</td>\n",
              "      <td>0.056006</td>\n",
              "      <td>2.4775</td>\n",
              "      <td>0</td>\n",
              "      <td>1</td>\n",
              "      <td>0</td>\n",
              "      <td>0</td>\n",
              "      <td>1</td>\n",
              "    </tr>\n",
              "    <tr>\n",
              "      <th>502</th>\n",
              "      <td>20.6</td>\n",
              "      <td>0.044275</td>\n",
              "      <td>41.93</td>\n",
              "      <td>0.573</td>\n",
              "      <td>6.120</td>\n",
              "      <td>76.7</td>\n",
              "      <td>19.0</td>\n",
              "      <td>9.08</td>\n",
              "      <td>6.612</td>\n",
              "      <td>13.16480</td>\n",
              "      <td>20</td>\n",
              "      <td>0.059903</td>\n",
              "      <td>2.2875</td>\n",
              "      <td>1</td>\n",
              "      <td>1</td>\n",
              "      <td>0</td>\n",
              "      <td>0</td>\n",
              "      <td>1</td>\n",
              "    </tr>\n",
              "    <tr>\n",
              "      <th>503</th>\n",
              "      <td>23.9</td>\n",
              "      <td>0.058986</td>\n",
              "      <td>41.93</td>\n",
              "      <td>0.573</td>\n",
              "      <td>6.976</td>\n",
              "      <td>91.0</td>\n",
              "      <td>19.0</td>\n",
              "      <td>5.64</td>\n",
              "      <td>5.478</td>\n",
              "      <td>12.19120</td>\n",
              "      <td>31</td>\n",
              "      <td>0.057572</td>\n",
              "      <td>2.1675</td>\n",
              "      <td>0</td>\n",
              "      <td>0</td>\n",
              "      <td>1</td>\n",
              "      <td>0</td>\n",
              "      <td>0</td>\n",
              "    </tr>\n",
              "    <tr>\n",
              "      <th>504</th>\n",
              "      <td>22.0</td>\n",
              "      <td>0.103991</td>\n",
              "      <td>41.93</td>\n",
              "      <td>0.573</td>\n",
              "      <td>6.794</td>\n",
              "      <td>89.3</td>\n",
              "      <td>19.0</td>\n",
              "      <td>6.48</td>\n",
              "      <td>7.940</td>\n",
              "      <td>15.17600</td>\n",
              "      <td>47</td>\n",
              "      <td>0.060694</td>\n",
              "      <td>2.3900</td>\n",
              "      <td>1</td>\n",
              "      <td>0</td>\n",
              "      <td>1</td>\n",
              "      <td>0</td>\n",
              "      <td>1</td>\n",
              "    </tr>\n",
              "    <tr>\n",
              "      <th>505</th>\n",
              "      <td>19.0</td>\n",
              "      <td>0.046320</td>\n",
              "      <td>41.93</td>\n",
              "      <td>0.573</td>\n",
              "      <td>6.030</td>\n",
              "      <td>80.8</td>\n",
              "      <td>19.0</td>\n",
              "      <td>7.88</td>\n",
              "      <td>10.280</td>\n",
              "      <td>10.15200</td>\n",
              "      <td>45</td>\n",
              "      <td>0.060336</td>\n",
              "      <td>2.5050</td>\n",
              "      <td>1</td>\n",
              "      <td>0</td>\n",
              "      <td>1</td>\n",
              "      <td>0</td>\n",
              "      <td>1</td>\n",
              "    </tr>\n",
              "  </tbody>\n",
              "</table>\n",
              "<p>506 rows × 18 columns</p>\n",
              "</div>"
            ],
            "text/plain": [
              "     price  crime_rate  resid_area  air_qual  room_num   age  teachers  \\\n",
              "0     24.0    0.006300       32.31     0.538     6.575  65.2      24.7   \n",
              "1     21.6    0.026944       37.07     0.469     6.421  78.9      22.2   \n",
              "2     34.7    0.026924       37.07     0.469     7.185  61.1      22.2   \n",
              "3     33.4    0.031857       32.18     0.458     6.998  45.8      21.3   \n",
              "4     36.2    0.066770       32.18     0.458     7.147  54.2      21.3   \n",
              "..     ...         ...         ...       ...       ...   ...       ...   \n",
              "501   22.4    0.060747       41.93     0.573     6.593  69.1      19.0   \n",
              "502   20.6    0.044275       41.93     0.573     6.120  76.7      19.0   \n",
              "503   23.9    0.058986       41.93     0.573     6.976  91.0      19.0   \n",
              "504   22.0    0.103991       41.93     0.573     6.794  89.3      19.0   \n",
              "505   19.0    0.046320       41.93     0.573     6.030  80.8      19.0   \n",
              "\n",
              "     poor_prop  n_hos_beds  n_hot_rooms  rainfall     parks  avg_dist  \\\n",
              "0         4.98       5.480     11.19200        23  0.049347    4.0875   \n",
              "1         9.14       7.332     12.17280        42  0.046146    4.9675   \n",
              "2         4.03       7.394     15.39952        38  0.045764    4.9675   \n",
              "3         2.94       9.268     11.26720        45  0.047151    6.0650   \n",
              "4         5.33       8.824     11.28960        55  0.039474    6.0625   \n",
              "..         ...         ...          ...       ...       ...       ...   \n",
              "501       9.67       9.348     12.17920        27  0.056006    2.4775   \n",
              "502       9.08       6.612     13.16480        20  0.059903    2.2875   \n",
              "503       5.64       5.478     12.19120        31  0.057572    2.1675   \n",
              "504       6.48       7.940     15.17600        47  0.060694    2.3900   \n",
              "505       7.88      10.280     10.15200        45  0.060336    2.5050   \n",
              "\n",
              "     airport_YES  waterbody_Lake and River  waterbody_None  waterbody_River  \\\n",
              "0              1                         0               0                1   \n",
              "1              0                         0               0                0   \n",
              "2              0                         0               1                0   \n",
              "3              1                         0               0                0   \n",
              "4              0                         0               0                0   \n",
              "..           ...                       ...             ...              ...   \n",
              "501            0                         1               0                0   \n",
              "502            1                         1               0                0   \n",
              "503            0                         0               1                0   \n",
              "504            1                         0               1                0   \n",
              "505            1                         0               1                0   \n",
              "\n",
              "     Sold  \n",
              "0       1  \n",
              "1       1  \n",
              "2       0  \n",
              "3       1  \n",
              "4       0  \n",
              "..    ...  \n",
              "501     1  \n",
              "502     1  \n",
              "503     0  \n",
              "504     1  \n",
              "505     1  \n",
              "\n",
              "[506 rows x 18 columns]"
            ]
          },
          "execution_count": 61,
          "metadata": {},
          "output_type": "execute_result"
        }
      ],
      "source": [
        "df"
      ]
    },
    {
      "cell_type": "code",
      "execution_count": null,
      "id": "be592cb2",
      "metadata": {
        "id": "be592cb2"
      },
      "outputs": [],
      "source": [
        "from sklearn.linear_model import LogisticRegression\n",
        "X=df[['price']]\n",
        "Y=df['Sold']"
      ]
    },
    {
      "cell_type": "code",
      "execution_count": null,
      "id": "06d2c1e7",
      "metadata": {
        "id": "06d2c1e7",
        "outputId": "6303c12c-c9ff-4bdc-82cd-d1f8e113a804"
      },
      "outputs": [
        {
          "data": {
            "text/html": [
              "<style>#sk-container-id-4 {color: black;background-color: white;}#sk-container-id-4 pre{padding: 0;}#sk-container-id-4 div.sk-toggleable {background-color: white;}#sk-container-id-4 label.sk-toggleable__label {cursor: pointer;display: block;width: 100%;margin-bottom: 0;padding: 0.3em;box-sizing: border-box;text-align: center;}#sk-container-id-4 label.sk-toggleable__label-arrow:before {content: \"▸\";float: left;margin-right: 0.25em;color: #696969;}#sk-container-id-4 label.sk-toggleable__label-arrow:hover:before {color: black;}#sk-container-id-4 div.sk-estimator:hover label.sk-toggleable__label-arrow:before {color: black;}#sk-container-id-4 div.sk-toggleable__content {max-height: 0;max-width: 0;overflow: hidden;text-align: left;background-color: #f0f8ff;}#sk-container-id-4 div.sk-toggleable__content pre {margin: 0.2em;color: black;border-radius: 0.25em;background-color: #f0f8ff;}#sk-container-id-4 input.sk-toggleable__control:checked~div.sk-toggleable__content {max-height: 200px;max-width: 100%;overflow: auto;}#sk-container-id-4 input.sk-toggleable__control:checked~label.sk-toggleable__label-arrow:before {content: \"▾\";}#sk-container-id-4 div.sk-estimator input.sk-toggleable__control:checked~label.sk-toggleable__label {background-color: #d4ebff;}#sk-container-id-4 div.sk-label input.sk-toggleable__control:checked~label.sk-toggleable__label {background-color: #d4ebff;}#sk-container-id-4 input.sk-hidden--visually {border: 0;clip: rect(1px 1px 1px 1px);clip: rect(1px, 1px, 1px, 1px);height: 1px;margin: -1px;overflow: hidden;padding: 0;position: absolute;width: 1px;}#sk-container-id-4 div.sk-estimator {font-family: monospace;background-color: #f0f8ff;border: 1px dotted black;border-radius: 0.25em;box-sizing: border-box;margin-bottom: 0.5em;}#sk-container-id-4 div.sk-estimator:hover {background-color: #d4ebff;}#sk-container-id-4 div.sk-parallel-item::after {content: \"\";width: 100%;border-bottom: 1px solid gray;flex-grow: 1;}#sk-container-id-4 div.sk-label:hover label.sk-toggleable__label {background-color: #d4ebff;}#sk-container-id-4 div.sk-serial::before {content: \"\";position: absolute;border-left: 1px solid gray;box-sizing: border-box;top: 0;bottom: 0;left: 50%;z-index: 0;}#sk-container-id-4 div.sk-serial {display: flex;flex-direction: column;align-items: center;background-color: white;padding-right: 0.2em;padding-left: 0.2em;position: relative;}#sk-container-id-4 div.sk-item {position: relative;z-index: 1;}#sk-container-id-4 div.sk-parallel {display: flex;align-items: stretch;justify-content: center;background-color: white;position: relative;}#sk-container-id-4 div.sk-item::before, #sk-container-id-4 div.sk-parallel-item::before {content: \"\";position: absolute;border-left: 1px solid gray;box-sizing: border-box;top: 0;bottom: 0;left: 50%;z-index: -1;}#sk-container-id-4 div.sk-parallel-item {display: flex;flex-direction: column;z-index: 1;position: relative;background-color: white;}#sk-container-id-4 div.sk-parallel-item:first-child::after {align-self: flex-end;width: 50%;}#sk-container-id-4 div.sk-parallel-item:last-child::after {align-self: flex-start;width: 50%;}#sk-container-id-4 div.sk-parallel-item:only-child::after {width: 0;}#sk-container-id-4 div.sk-dashed-wrapped {border: 1px dashed gray;margin: 0 0.4em 0.5em 0.4em;box-sizing: border-box;padding-bottom: 0.4em;background-color: white;}#sk-container-id-4 div.sk-label label {font-family: monospace;font-weight: bold;display: inline-block;line-height: 1.2em;}#sk-container-id-4 div.sk-label-container {text-align: center;}#sk-container-id-4 div.sk-container {/* jupyter's `normalize.less` sets `[hidden] { display: none; }` but bootstrap.min.css set `[hidden] { display: none !important; }` so we also need the `!important` here to be able to override the default hidden behavior on the sphinx rendered scikit-learn.org. See: https://github.com/scikit-learn/scikit-learn/issues/21755 */display: inline-block !important;position: relative;}#sk-container-id-4 div.sk-text-repr-fallback {display: none;}</style><div id=\"sk-container-id-4\" class=\"sk-top-container\"><div class=\"sk-text-repr-fallback\"><pre>LogisticRegression()</pre><b>In a Jupyter environment, please rerun this cell to show the HTML representation or trust the notebook. <br />On GitHub, the HTML representation is unable to render, please try loading this page with nbviewer.org.</b></div><div class=\"sk-container\" hidden><div class=\"sk-item\"><div class=\"sk-estimator sk-toggleable\"><input class=\"sk-toggleable__control sk-hidden--visually\" id=\"sk-estimator-id-4\" type=\"checkbox\" checked><label for=\"sk-estimator-id-4\" class=\"sk-toggleable__label sk-toggleable__label-arrow\">LogisticRegression</label><div class=\"sk-toggleable__content\"><pre>LogisticRegression()</pre></div></div></div></div></div>"
            ],
            "text/plain": [
              "LogisticRegression()"
            ]
          },
          "execution_count": 63,
          "metadata": {},
          "output_type": "execute_result"
        }
      ],
      "source": [
        "model=LogisticRegression()\n",
        "model.fit(X,Y)"
      ]
    },
    {
      "cell_type": "code",
      "execution_count": null,
      "id": "72af623c",
      "metadata": {
        "id": "72af623c",
        "outputId": "cd8a35ee-d592-4e09-ef40-0039963bf892"
      },
      "outputs": [
        {
          "data": {
            "text/plain": [
              "array([0.3108239])"
            ]
          },
          "execution_count": 64,
          "metadata": {},
          "output_type": "execute_result"
        }
      ],
      "source": [
        "model.intercept_"
      ]
    },
    {
      "cell_type": "code",
      "execution_count": null,
      "id": "e5604656",
      "metadata": {
        "id": "e5604656",
        "outputId": "b8bdb5ea-54af-4ff0-abb4-de79e93cf9d7"
      },
      "outputs": [
        {
          "name": "stdout",
          "output_type": "stream",
          "text": [
            "Optimization terminated successfully.\n",
            "         Current function value: 0.688670\n",
            "         Iterations 4\n"
          ]
        },
        {
          "data": {
            "text/html": [
              "<table class=\"simpletable\">\n",
              "<caption>Logit Regression Results</caption>\n",
              "<tr>\n",
              "  <th>Dep. Variable:</th>         <td>Sold</td>       <th>  No. Observations:  </th>  <td>   506</td>  \n",
              "</tr>\n",
              "<tr>\n",
              "  <th>Model:</th>                 <td>Logit</td>      <th>  Df Residuals:      </th>  <td>   504</td>  \n",
              "</tr>\n",
              "<tr>\n",
              "  <th>Method:</th>                 <td>MLE</td>       <th>  Df Model:          </th>  <td>     1</td>  \n",
              "</tr>\n",
              "<tr>\n",
              "  <th>Date:</th>            <td>Wed, 11 Oct 2023</td> <th>  Pseudo R-squ.:     </th> <td>0.0004928</td>\n",
              "</tr>\n",
              "<tr>\n",
              "  <th>Time:</th>                <td>21:24:04</td>     <th>  Log-Likelihood:    </th> <td> -348.47</td> \n",
              "</tr>\n",
              "<tr>\n",
              "  <th>converged:</th>             <td>True</td>       <th>  LL-Null:           </th> <td> -348.64</td> \n",
              "</tr>\n",
              "<tr>\n",
              "  <th>Covariance Type:</th>     <td>nonrobust</td>    <th>  LLR p-value:       </th>  <td>0.5578</td>  \n",
              "</tr>\n",
              "</table>\n",
              "<table class=\"simpletable\">\n",
              "<tr>\n",
              "    <td></td>       <th>coef</th>     <th>std err</th>      <th>z</th>      <th>P>|z|</th>  <th>[0.025</th>    <th>0.975]</th>  \n",
              "</tr>\n",
              "<tr>\n",
              "  <th>const</th> <td>    0.3108</td> <td>    0.237</td> <td>    1.312</td> <td> 0.189</td> <td>   -0.153</td> <td>    0.775</td>\n",
              "</tr>\n",
              "<tr>\n",
              "  <th>price</th> <td>   -0.0057</td> <td>    0.010</td> <td>   -0.586</td> <td> 0.558</td> <td>   -0.025</td> <td>    0.013</td>\n",
              "</tr>\n",
              "</table>"
            ],
            "text/plain": [
              "<class 'statsmodels.iolib.summary.Summary'>\n",
              "\"\"\"\n",
              "                           Logit Regression Results                           \n",
              "==============================================================================\n",
              "Dep. Variable:                   Sold   No. Observations:                  506\n",
              "Model:                          Logit   Df Residuals:                      504\n",
              "Method:                           MLE   Df Model:                            1\n",
              "Date:                Wed, 11 Oct 2023   Pseudo R-squ.:               0.0004928\n",
              "Time:                        21:24:04   Log-Likelihood:                -348.47\n",
              "converged:                       True   LL-Null:                       -348.64\n",
              "Covariance Type:            nonrobust   LLR p-value:                    0.5578\n",
              "==============================================================================\n",
              "                 coef    std err          z      P>|z|      [0.025      0.975]\n",
              "------------------------------------------------------------------------------\n",
              "const          0.3108      0.237      1.312      0.189      -0.153       0.775\n",
              "price         -0.0057      0.010     -0.586      0.558      -0.025       0.013\n",
              "==============================================================================\n",
              "\"\"\""
            ]
          },
          "execution_count": 65,
          "metadata": {},
          "output_type": "execute_result"
        }
      ],
      "source": [
        "from statsmodels.tools import add_constant\n",
        "import statsmodels.api as sm\n",
        "x_c = add_constant(X)\n",
        "import statsmodels.discrete.discrete_model as smd\n",
        "logit = smd.Logit(Y, x_c).fit()\n",
        "logit.summary()"
      ]
    },
    {
      "cell_type": "code",
      "execution_count": null,
      "id": "f5e5abe2",
      "metadata": {
        "id": "f5e5abe2"
      },
      "outputs": [],
      "source": [
        "x=df.loc[:,df.columns!='Sold']\n",
        "y=df[\"Sold\"]"
      ]
    },
    {
      "cell_type": "code",
      "execution_count": null,
      "id": "dc89658a",
      "metadata": {
        "id": "dc89658a",
        "outputId": "65d65997-dc85-4218-ed84-99a82f881b78"
      },
      "outputs": [
        {
          "data": {
            "text/html": [
              "<style>#sk-container-id-5 {color: black;background-color: white;}#sk-container-id-5 pre{padding: 0;}#sk-container-id-5 div.sk-toggleable {background-color: white;}#sk-container-id-5 label.sk-toggleable__label {cursor: pointer;display: block;width: 100%;margin-bottom: 0;padding: 0.3em;box-sizing: border-box;text-align: center;}#sk-container-id-5 label.sk-toggleable__label-arrow:before {content: \"▸\";float: left;margin-right: 0.25em;color: #696969;}#sk-container-id-5 label.sk-toggleable__label-arrow:hover:before {color: black;}#sk-container-id-5 div.sk-estimator:hover label.sk-toggleable__label-arrow:before {color: black;}#sk-container-id-5 div.sk-toggleable__content {max-height: 0;max-width: 0;overflow: hidden;text-align: left;background-color: #f0f8ff;}#sk-container-id-5 div.sk-toggleable__content pre {margin: 0.2em;color: black;border-radius: 0.25em;background-color: #f0f8ff;}#sk-container-id-5 input.sk-toggleable__control:checked~div.sk-toggleable__content {max-height: 200px;max-width: 100%;overflow: auto;}#sk-container-id-5 input.sk-toggleable__control:checked~label.sk-toggleable__label-arrow:before {content: \"▾\";}#sk-container-id-5 div.sk-estimator input.sk-toggleable__control:checked~label.sk-toggleable__label {background-color: #d4ebff;}#sk-container-id-5 div.sk-label input.sk-toggleable__control:checked~label.sk-toggleable__label {background-color: #d4ebff;}#sk-container-id-5 input.sk-hidden--visually {border: 0;clip: rect(1px 1px 1px 1px);clip: rect(1px, 1px, 1px, 1px);height: 1px;margin: -1px;overflow: hidden;padding: 0;position: absolute;width: 1px;}#sk-container-id-5 div.sk-estimator {font-family: monospace;background-color: #f0f8ff;border: 1px dotted black;border-radius: 0.25em;box-sizing: border-box;margin-bottom: 0.5em;}#sk-container-id-5 div.sk-estimator:hover {background-color: #d4ebff;}#sk-container-id-5 div.sk-parallel-item::after {content: \"\";width: 100%;border-bottom: 1px solid gray;flex-grow: 1;}#sk-container-id-5 div.sk-label:hover label.sk-toggleable__label {background-color: #d4ebff;}#sk-container-id-5 div.sk-serial::before {content: \"\";position: absolute;border-left: 1px solid gray;box-sizing: border-box;top: 0;bottom: 0;left: 50%;z-index: 0;}#sk-container-id-5 div.sk-serial {display: flex;flex-direction: column;align-items: center;background-color: white;padding-right: 0.2em;padding-left: 0.2em;position: relative;}#sk-container-id-5 div.sk-item {position: relative;z-index: 1;}#sk-container-id-5 div.sk-parallel {display: flex;align-items: stretch;justify-content: center;background-color: white;position: relative;}#sk-container-id-5 div.sk-item::before, #sk-container-id-5 div.sk-parallel-item::before {content: \"\";position: absolute;border-left: 1px solid gray;box-sizing: border-box;top: 0;bottom: 0;left: 50%;z-index: -1;}#sk-container-id-5 div.sk-parallel-item {display: flex;flex-direction: column;z-index: 1;position: relative;background-color: white;}#sk-container-id-5 div.sk-parallel-item:first-child::after {align-self: flex-end;width: 50%;}#sk-container-id-5 div.sk-parallel-item:last-child::after {align-self: flex-start;width: 50%;}#sk-container-id-5 div.sk-parallel-item:only-child::after {width: 0;}#sk-container-id-5 div.sk-dashed-wrapped {border: 1px dashed gray;margin: 0 0.4em 0.5em 0.4em;box-sizing: border-box;padding-bottom: 0.4em;background-color: white;}#sk-container-id-5 div.sk-label label {font-family: monospace;font-weight: bold;display: inline-block;line-height: 1.2em;}#sk-container-id-5 div.sk-label-container {text-align: center;}#sk-container-id-5 div.sk-container {/* jupyter's `normalize.less` sets `[hidden] { display: none; }` but bootstrap.min.css set `[hidden] { display: none !important; }` so we also need the `!important` here to be able to override the default hidden behavior on the sphinx rendered scikit-learn.org. See: https://github.com/scikit-learn/scikit-learn/issues/21755 */display: inline-block !important;position: relative;}#sk-container-id-5 div.sk-text-repr-fallback {display: none;}</style><div id=\"sk-container-id-5\" class=\"sk-top-container\"><div class=\"sk-text-repr-fallback\"><pre>LogisticRegression()</pre><b>In a Jupyter environment, please rerun this cell to show the HTML representation or trust the notebook. <br />On GitHub, the HTML representation is unable to render, please try loading this page with nbviewer.org.</b></div><div class=\"sk-container\" hidden><div class=\"sk-item\"><div class=\"sk-estimator sk-toggleable\"><input class=\"sk-toggleable__control sk-hidden--visually\" id=\"sk-estimator-id-5\" type=\"checkbox\" checked><label for=\"sk-estimator-id-5\" class=\"sk-toggleable__label sk-toggleable__label-arrow\">LogisticRegression</label><div class=\"sk-toggleable__content\"><pre>LogisticRegression()</pre></div></div></div></div></div>"
            ],
            "text/plain": [
              "LogisticRegression()"
            ]
          },
          "execution_count": 67,
          "metadata": {},
          "output_type": "execute_result"
        }
      ],
      "source": [
        "model=LogisticRegression()\n",
        "model.fit(X,Y)"
      ]
    },
    {
      "cell_type": "code",
      "execution_count": null,
      "id": "1920f3b9",
      "metadata": {
        "id": "1920f3b9"
      },
      "outputs": [],
      "source": [
        "y_pred=model.predict(X)"
      ]
    },
    {
      "cell_type": "code",
      "execution_count": null,
      "id": "27e93250",
      "metadata": {
        "id": "27e93250",
        "outputId": "7fab3825-0a68-49cb-b609-36173ac4e382"
      },
      "outputs": [
        {
          "data": {
            "text/plain": [
              "array([[  0, 230],\n",
              "       [  0, 276]])"
            ]
          },
          "execution_count": 69,
          "metadata": {},
          "output_type": "execute_result"
        }
      ],
      "source": [
        "from sklearn.metrics import confusion_matrix\n",
        "confusion_matrix(Y,y_pred)"
      ]
    },
    {
      "cell_type": "code",
      "execution_count": null,
      "id": "e710fd90",
      "metadata": {
        "id": "e710fd90",
        "outputId": "3b7799e1-24ee-4f46-9276-e17be3d1fb71"
      },
      "outputs": [
        {
          "data": {
            "text/plain": [
              "0.5454545454545454"
            ]
          },
          "execution_count": 70,
          "metadata": {},
          "output_type": "execute_result"
        }
      ],
      "source": [
        "from sklearn.metrics import precision_score,recall_score,accuracy_score\n",
        "precision_score(Y,y_pred)"
      ]
    },
    {
      "cell_type": "code",
      "execution_count": null,
      "id": "2f032d12",
      "metadata": {
        "id": "2f032d12",
        "outputId": "363725f7-cbf1-48b3-e757-a2601b912b64"
      },
      "outputs": [
        {
          "data": {
            "text/plain": [
              "0.5454545454545454"
            ]
          },
          "execution_count": 71,
          "metadata": {},
          "output_type": "execute_result"
        }
      ],
      "source": [
        "accuracy_score(Y,y_pred)"
      ]
    },
    {
      "cell_type": "code",
      "execution_count": null,
      "id": "d63fb8c4",
      "metadata": {
        "id": "d63fb8c4",
        "outputId": "3516be18-5aa3-4e69-c641-a3ff0e25ea7f"
      },
      "outputs": [
        {
          "data": {
            "text/plain": [
              "1.0"
            ]
          },
          "execution_count": 72,
          "metadata": {},
          "output_type": "execute_result"
        }
      ],
      "source": [
        "recall_score(Y,y_pred)"
      ]
    },
    {
      "cell_type": "code",
      "execution_count": null,
      "id": "73960979",
      "metadata": {
        "id": "73960979",
        "outputId": "58fb629e-010f-4d4e-d491-a9dfd9a564f5"
      },
      "outputs": [
        {
          "data": {
            "text/plain": [
              "0.5"
            ]
          },
          "execution_count": 73,
          "metadata": {},
          "output_type": "execute_result"
        }
      ],
      "source": [
        "from sklearn.metrics import roc_auc_score\n",
        "roc_auc_score(Y,y_pred)"
      ]
    },
    {
      "cell_type": "code",
      "execution_count": null,
      "id": "9663f1b1",
      "metadata": {
        "id": "9663f1b1"
      },
      "outputs": [],
      "source": [
        "del df['Sold']"
      ]
    },
    {
      "cell_type": "code",
      "execution_count": null,
      "id": "9edc9049",
      "metadata": {
        "id": "9edc9049"
      },
      "outputs": [],
      "source": [
        "from sklearn import preprocessing\n",
        "scaler=preprocessing.StandardScaler().fit(X_train)"
      ]
    },
    {
      "cell_type": "code",
      "execution_count": null,
      "id": "cca0230e",
      "metadata": {
        "id": "cca0230e"
      },
      "outputs": [],
      "source": [
        "X_train_s=scaler.transform(X_train)\n",
        "X_test_s=scaler.transform(X_test)"
      ]
    },
    {
      "cell_type": "code",
      "execution_count": null,
      "id": "76404da8",
      "metadata": {
        "id": "76404da8",
        "outputId": "a41925fc-fc5c-41ac-8d87-7ba70167301b"
      },
      "outputs": [
        {
          "data": {
            "text/plain": [
              "array([[ 1.93477379,  1.03323679,  0.48925206, ..., -0.3927922 ,\n",
              "        -0.66547513, -0.74420841],\n",
              "       [-0.31688414, -0.41315956, -0.15723342, ..., -0.3927922 ,\n",
              "        -0.66547513,  1.34370962],\n",
              "       [-0.76277567, -0.71521823, -1.00872286, ..., -0.3927922 ,\n",
              "         1.50268577, -0.74420841],\n",
              "       ...,\n",
              "       [-0.78165316, -1.30336132, -1.03339138, ..., -0.3927922 ,\n",
              "         1.50268577, -0.74420841],\n",
              "       [ 1.66318011,  1.03323679,  1.56105695, ...,  2.54587539,\n",
              "        -0.66547513, -0.74420841],\n",
              "       [-0.59350534, -0.35216694, -0.31034841, ...,  2.54587539,\n",
              "        -0.66547513, -0.74420841]])"
            ]
          },
          "execution_count": 77,
          "metadata": {},
          "output_type": "execute_result"
        }
      ],
      "source": [
        "X_train_s"
      ]
    },
    {
      "cell_type": "code",
      "execution_count": null,
      "id": "e8194bce",
      "metadata": {
        "id": "e8194bce",
        "outputId": "8b5abc20-e58f-465c-ad87-1cfb55f97aa1"
      },
      "outputs": [
        {
          "data": {
            "text/plain": [
              "array([[-0.70987124, -1.00711147, -0.39541229, ..., -0.3927922 ,\n",
              "         1.50268577, -0.74420841],\n",
              "       [-0.74226635, -0.66439105, -0.93131473, ..., -0.3927922 ,\n",
              "        -0.66547513,  1.34370962],\n",
              "       [-0.69736258,  2.43316256,  0.44672012, ..., -0.3927922 ,\n",
              "         1.50268577, -0.74420841],\n",
              "       ...,\n",
              "       [ 1.87311788,  1.03323679,  0.34464347, ..., -0.3927922 ,\n",
              "         1.50268577, -0.74420841],\n",
              "       [-0.74652509, -0.94321444, -0.91430195, ..., -0.3927922 ,\n",
              "        -0.66547513,  1.34370962],\n",
              "       [-0.70686399,  0.26792466, -1.01637861, ..., -0.3927922 ,\n",
              "         1.50268577, -0.74420841]])"
            ]
          },
          "execution_count": 78,
          "metadata": {},
          "output_type": "execute_result"
        }
      ],
      "source": [
        "X_test_s"
      ]
    },
    {
      "cell_type": "code",
      "execution_count": null,
      "id": "13ce6e43",
      "metadata": {
        "id": "13ce6e43",
        "outputId": "86b8e919-ca42-4748-b9a7-fdc68f0436be"
      },
      "outputs": [
        {
          "data": {
            "text/plain": [
              "0.6518885910157608"
            ]
          },
          "execution_count": 79,
          "metadata": {},
          "output_type": "execute_result"
        }
      ],
      "source": [
        "from sklearn.linear_model import Ridge\n",
        "rmodel=Ridge(alpha=0.5)\n",
        "rmodel.fit(X_train_s,Y_train)\n",
        "r2_score(Y_test,rmodel.predict(X_test_s))"
      ]
    },
    {
      "cell_type": "code",
      "execution_count": null,
      "id": "cbb2a729",
      "metadata": {
        "id": "cbb2a729",
        "outputId": "53615288-fa2b-4b8d-cc36-034bd8bdadea"
      },
      "outputs": [
        {
          "data": {
            "text/plain": [
              "array([1.00000000e-02, 1.26185688e-02, 1.59228279e-02, 2.00923300e-02,\n",
              "       2.53536449e-02, 3.19926714e-02, 4.03701726e-02, 5.09413801e-02,\n",
              "       6.42807312e-02, 8.11130831e-02, 1.02353102e-01, 1.29154967e-01,\n",
              "       1.62975083e-01, 2.05651231e-01, 2.59502421e-01, 3.27454916e-01,\n",
              "       4.13201240e-01, 5.21400829e-01, 6.57933225e-01, 8.30217568e-01,\n",
              "       1.04761575e+00, 1.32194115e+00, 1.66810054e+00, 2.10490414e+00,\n",
              "       2.65608778e+00, 3.35160265e+00, 4.22924287e+00, 5.33669923e+00,\n",
              "       6.73415066e+00, 8.49753436e+00, 1.07226722e+01, 1.35304777e+01,\n",
              "       1.70735265e+01, 2.15443469e+01, 2.71858824e+01, 3.43046929e+01,\n",
              "       4.32876128e+01, 5.46227722e+01, 6.89261210e+01, 8.69749003e+01,\n",
              "       1.09749877e+02, 1.38488637e+02, 1.74752840e+02, 2.20513074e+02,\n",
              "       2.78255940e+02, 3.51119173e+02, 4.43062146e+02, 5.59081018e+02,\n",
              "       7.05480231e+02, 8.90215085e+02, 1.12332403e+03, 1.41747416e+03,\n",
              "       1.78864953e+03, 2.25701972e+03, 2.84803587e+03, 3.59381366e+03,\n",
              "       4.53487851e+03, 5.72236766e+03, 7.22080902e+03, 9.11162756e+03,\n",
              "       1.14975700e+04, 1.45082878e+04, 1.83073828e+04, 2.31012970e+04,\n",
              "       2.91505306e+04, 3.67837977e+04, 4.64158883e+04, 5.85702082e+04,\n",
              "       7.39072203e+04, 9.32603347e+04, 1.17681195e+05, 1.48496826e+05,\n",
              "       1.87381742e+05, 2.36448941e+05, 2.98364724e+05, 3.76493581e+05,\n",
              "       4.75081016e+05, 5.99484250e+05, 7.56463328e+05, 9.54548457e+05,\n",
              "       1.20450354e+06, 1.51991108e+06, 1.91791026e+06, 2.42012826e+06,\n",
              "       3.05385551e+06, 3.85352859e+06, 4.86260158e+06, 6.13590727e+06,\n",
              "       7.74263683e+06, 9.77009957e+06, 1.23284674e+07, 1.55567614e+07,\n",
              "       1.96304065e+07, 2.47707636e+07, 3.12571585e+07, 3.94420606e+07,\n",
              "       4.97702356e+07, 6.28029144e+07, 7.92482898e+07, 1.00000000e+08])"
            ]
          },
          "execution_count": 80,
          "metadata": {},
          "output_type": "execute_result"
        }
      ],
      "source": [
        "range=np.logspace(-2,8,100)\n",
        "range"
      ]
    },
    {
      "cell_type": "code",
      "execution_count": null,
      "id": "232005d6",
      "metadata": {
        "id": "232005d6"
      },
      "outputs": [],
      "source": [
        "from sklearn.utils.fixes #import sklearn\n",
        "train_score,test_score= #sklearn.model_selection.validation_curve(Ridge(),X_train_s,Y_train,param_name=\"alpha\",param_range=range,scoring=\"r2\")"
      ]
    },
    {
      "cell_type": "code",
      "execution_count": null,
      "id": "42da01eb",
      "metadata": {
        "id": "42da01eb"
      },
      "outputs": [],
      "source": [
        "from sklearn.model_selection import validation_curve\n",
        "train_score,test_score=validation_curve(Ridge(),X_train_s,Y_train,param_name=\"alpha\",param_range=range,scoring=\"r2\")"
      ]
    },
    {
      "cell_type": "code",
      "execution_count": null,
      "id": "0abc843f",
      "metadata": {
        "id": "0abc843f",
        "outputId": "1f672761-8033-4439-c2b1-1b17a89dd9b9"
      },
      "outputs": [
        {
          "data": {
            "text/plain": [
              "array([[ 7.53812474e-01,  6.00265989e-01,  7.18027117e-01,\n",
              "         7.91403402e-01,  6.48572965e-01],\n",
              "       [ 7.53813974e-01,  6.00266482e-01,  7.18027247e-01,\n",
              "         7.91402440e-01,  6.48574747e-01],\n",
              "       [ 7.53815864e-01,  6.00267105e-01,  7.18027411e-01,\n",
              "         7.91401225e-01,  6.48576995e-01],\n",
              "       [ 7.53818250e-01,  6.00267890e-01,  7.18027617e-01,\n",
              "         7.91399692e-01,  6.48579830e-01],\n",
              "       [ 7.53821258e-01,  6.00268881e-01,  7.18027875e-01,\n",
              "         7.91397757e-01,  6.48583407e-01],\n",
              "       [ 7.53825053e-01,  6.00270132e-01,  7.18028200e-01,\n",
              "         7.91395315e-01,  6.48587917e-01],\n",
              "       [ 7.53829837e-01,  6.00271710e-01,  7.18028608e-01,\n",
              "         7.91392232e-01,  6.48593606e-01],\n",
              "       [ 7.53835868e-01,  6.00273702e-01,  7.18029119e-01,\n",
              "         7.91388340e-01,  6.48600777e-01],\n",
              "       [ 7.53843471e-01,  6.00276214e-01,  7.18029757e-01,\n",
              "         7.91383425e-01,  6.48609818e-01],\n",
              "       [ 7.53853050e-01,  6.00279384e-01,  7.18030553e-01,\n",
              "         7.91377218e-01,  6.48621212e-01],\n",
              "       [ 7.53865115e-01,  6.00283384e-01,  7.18031543e-01,\n",
              "         7.91369378e-01,  6.48635565e-01],\n",
              "       [ 7.53880305e-01,  6.00288429e-01,  7.18032768e-01,\n",
              "         7.91359472e-01,  6.48653640e-01],\n",
              "       [ 7.53899417e-01,  6.00294794e-01,  7.18034276e-01,\n",
              "         7.91346952e-01,  6.48676390e-01],\n",
              "       [ 7.53923445e-01,  6.00302824e-01,  7.18036119e-01,\n",
              "         7.91331122e-01,  6.48705003e-01],\n",
              "       [ 7.53953627e-01,  6.00312951e-01,  7.18038350e-01,\n",
              "         7.91311098e-01,  6.48740962e-01],\n",
              "       [ 7.53991491e-01,  6.00325722e-01,  7.18041017e-01,\n",
              "         7.91285750e-01,  6.48786105e-01],\n",
              "       [ 7.54038925e-01,  6.00341824e-01,  7.18044146e-01,\n",
              "         7.91253642e-01,  6.48842703e-01],\n",
              "       [ 7.54098233e-01,  6.00362123e-01,  7.18047727e-01,\n",
              "         7.91212931e-01,  6.48913544e-01],\n",
              "       [ 7.54172216e-01,  6.00387701e-01,  7.18051669e-01,\n",
              "         7.91161255e-01,  6.49002031e-01],\n",
              "       [ 7.54264236e-01,  6.00419915e-01,  7.18055746e-01,\n",
              "         7.91095574e-01,  6.49112278e-01],\n",
              "       [ 7.54378272e-01,  6.00460462e-01,  7.18059504e-01,\n",
              "         7.91011962e-01,  6.49249198e-01],\n",
              "       [ 7.54518956e-01,  6.00511446e-01,  7.18062113e-01,\n",
              "         7.90905333e-01,  6.49418579e-01],\n",
              "       [ 7.54691541e-01,  6.00575465e-01,  7.18062156e-01,\n",
              "         7.90769072e-01,  6.49627105e-01],\n",
              "       [ 7.54901798e-01,  6.00655695e-01,  7.18057311e-01,\n",
              "         7.90594557e-01,  6.49882309e-01],\n",
              "       [ 7.55155769e-01,  6.00755957e-01,  7.18043901e-01,\n",
              "         7.90370516e-01,  6.50192397e-01],\n",
              "       [ 7.55459329e-01,  6.00880751e-01,  7.18016275e-01,\n",
              "         7.90082209e-01,  6.50565900e-01],\n",
              "       [ 7.55817481e-01,  6.01035182e-01,  7.17965979e-01,\n",
              "         7.89710353e-01,  6.51011079e-01],\n",
              "       [ 7.56233298e-01,  6.01224721e-01,  7.17880696e-01,\n",
              "         7.89229785e-01,  6.51535022e-01],\n",
              "       [ 7.56706413e-01,  6.01454642e-01,  7.17742921e-01,\n",
              "         7.88607777e-01,  6.52142332e-01],\n",
              "       [ 7.57230921e-01,  6.01728953e-01,  7.17528369e-01,\n",
              "         7.87801979e-01,  6.52833315e-01],\n",
              "       [ 7.57792517e-01,  6.02048585e-01,  7.17204064e-01,\n",
              "         7.86757915e-01,  6.53601506e-01],\n",
              "       [ 7.58364615e-01,  6.02408569e-01,  7.16726057e-01,\n",
              "         7.85405969e-01,  6.54430286e-01],\n",
              "       [ 7.58903129e-01,  6.02794004e-01,  7.16036592e-01,\n",
              "         7.83657787e-01,  6.55288260e-01],\n",
              "       [ 7.59339591e-01,  6.03174735e-01,  7.15060528e-01,\n",
              "         7.81402089e-01,  6.56122974e-01],\n",
              "       [ 7.59572440e-01,  6.03498880e-01,  7.13700749e-01,\n",
              "         7.78499979e-01,  6.56852669e-01],\n",
              "       [ 7.59456653e-01,  6.03685523e-01,  7.11832399e-01,\n",
              "         7.74780056e-01,  6.57356029e-01],\n",
              "       [ 7.58792399e-01,  6.03616942e-01,  7.09295902e-01,\n",
              "         7.70033873e-01,  6.57460393e-01],\n",
              "       [ 7.57313956e-01,  6.03130654e-01,  7.05889048e-01,\n",
              "         7.64012494e-01,  6.56929563e-01],\n",
              "       [ 7.54680775e-01,  6.02011538e-01,  7.01359028e-01,\n",
              "         7.56425206e-01,  6.55453191e-01],\n",
              "       [ 7.50473379e-01,  5.99984764e-01,  6.95396358e-01,\n",
              "         7.46941923e-01,  6.52640869e-01],\n",
              "       [ 7.44197946e-01,  5.96711581e-01,  6.87634219e-01,\n",
              "         7.35201525e-01,  6.48025590e-01],\n",
              "       [ 7.35304418e-01,  5.91791851e-01,  6.77658143e-01,\n",
              "         7.20828957e-01,  6.41082490e-01],\n",
              "       [ 7.23222715e-01,  5.84778466e-01,  6.65030939e-01,\n",
              "         7.03463444e-01,  6.31268297e-01],\n",
              "       [ 7.07418390e-01,  5.75207698e-01,  6.49334672e-01,\n",
              "         6.82797627e-01,  6.18082709e-01],\n",
              "       [ 6.87462200e-01,  5.62645017e-01,  6.30225301e-01,\n",
              "         6.58622731e-01,  6.01144288e-01],\n",
              "       [ 6.63099515e-01,  5.46739176e-01,  6.07488317e-01,\n",
              "         6.30869864e-01,  5.80263135e-01],\n",
              "       [ 6.34300218e-01,  5.27271717e-01,  5.81079885e-01,\n",
              "         5.99635528e-01,  5.55486609e-01],\n",
              "       [ 6.01273069e-01,  5.04189096e-01,  5.51141546e-01,\n",
              "         5.65183291e-01,  5.27099280e-01],\n",
              "       [ 5.64441602e-01,  4.77611906e-01,  5.17987345e-01,\n",
              "         5.27922861e-01,  4.95575285e-01],\n",
              "       [ 5.24395260e-01,  4.47826514e-01,  4.82074605e-01,\n",
              "         4.88377614e-01,  4.61502762e-01],\n",
              "       [ 4.81838976e-01,  4.15271289e-01,  4.43974965e-01,\n",
              "         4.47155266e-01,  4.25512952e-01],\n",
              "       [ 4.37559392e-01,  3.80526358e-01,  4.04356246e-01,\n",
              "         4.04930465e-01,  3.88241098e-01],\n",
              "       [ 3.92409155e-01,  3.44304575e-01,  3.63971943e-01,\n",
              "         3.62435918e-01,  3.50324799e-01],\n",
              "       [ 3.47294097e-01,  3.07430987e-01,  3.23644013e-01,\n",
              "         3.20448852e-01,  3.12421687e-01],\n",
              "       [ 3.03143751e-01,  2.70797981e-01,  2.84224807e-01,\n",
              "         2.79759566e-01,  2.75217765e-01],\n",
              "       [ 2.60856362e-01,  2.35294606e-01,  2.46535706e-01,\n",
              "         2.41118967e-01,  2.39406360e-01],\n",
              "       [ 2.21226938e-01,  2.01723481e-01,  2.11294774e-01,\n",
              "         2.05175303e-01,  2.05637774e-01],\n",
              "       [ 1.84878857e-01,  1.70726932e-01,  1.79053570e-01,\n",
              "         1.72417997e-01,  1.74457206e-01],\n",
              "       [ 1.52219311e-01,  1.42740952e-01,  1.50160152e-01,\n",
              "         1.43144409e-01,  1.46253682e-01],\n",
              "       [ 1.23428814e-01,  1.17984624e-01,  1.24754834e-01,\n",
              "         1.17456257e-01,  1.21235515e-01],\n",
              "       [ 9.84825812e-02,  9.64808542e-02,  1.02794297e-01,\n",
              "         9.52823289e-02,  9.94355621e-02],\n",
              "       [ 7.71931619e-02,  7.80971240e-02,  8.40931454e-02,\n",
              "         7.64177460e-02,  8.07394426e-02],\n",
              "       [ 5.92614310e-02,  6.25935954e-02,  6.83710880e-02,\n",
              "         6.05688180e-02,  6.49256120e-02],\n",
              "       [ 4.43253704e-02,  4.96687038e-02,  5.52966667e-02,\n",
              "         4.73948514e-02,  5.17069653e-02],\n",
              "       [ 3.20003221e-02,  3.89965376e-02,  4.45224894e-02,\n",
              "         3.65419784e-02,  4.07670428e-02],\n",
              "       [ 2.19083929e-02,  3.02540596e-02,  3.57104217e-02,\n",
              "         2.76674007e-02,  3.17876475e-02],\n",
              "       [ 1.36974424e-02,  2.31387101e-02,  2.85474730e-02,\n",
              "         2.04546679e-02,  2.44674949e-02],\n",
              "       [ 7.05150412e-03,  1.73781674e-02,  2.27542060e-02,\n",
              "         1.46217059e-02,  1.85331213e-02],\n",
              "       [ 1.69490086e-03,  1.27343657e-02,  1.80877430e-02,\n",
              "         9.92358582e-03,  1.37438869e-02],\n",
              "       [-2.60784690e-03,  9.00368931e-03,  1.43412323e-02,\n",
              "         6.15183629e-03,  9.89291015e-03],\n",
              "       [-6.05463683e-03,  6.01486910e-03,  1.13412334e-02,\n",
              "         3.13172765e-03,  6.80546618e-03],\n",
              "       [-8.80970112e-03,  3.62568533e-03,  8.94406917e-03,\n",
              "         7.18551611e-04,  4.33599940e-03],\n",
              "       [-1.10080025e-02,  1.71921452e-03,  7.03183490e-03,\n",
              "        -1.20642261e-03,  2.36453996e-03],\n",
              "       [-1.27596025e-02,  2.00076830e-04,  5.50848672e-03,\n",
              "        -2.73990081e-03,  7.93026503e-04],\n",
              "       [-1.41537159e-02, -1.00905944e-03,  4.29624023e-03,\n",
              "        -3.96019734e-03, -4.58173115e-04],\n",
              "       [-1.52623176e-02, -1.97059268e-03,  3.33238565e-03,\n",
              "        -4.93044588e-03, -1.45339431e-03],\n",
              "       [-1.61432574e-02, -2.73468179e-03,  2.56654760e-03,\n",
              "        -5.70136033e-03, -2.24440454e-03],\n",
              "       [-1.68428949e-02, -3.34152697e-03,  1.95837366e-03,\n",
              "        -6.31356319e-03, -2.87272595e-03],\n",
              "       [-1.73982953e-02, -3.82327131e-03,  1.47561241e-03,\n",
              "        -6.79952110e-03, -3.37157931e-03],\n",
              "       [-1.78390385e-02, -4.20556784e-03,  1.09253274e-03,\n",
              "        -7.18513649e-03, -3.76749091e-03],\n",
              "       [-1.81886961e-02, -4.50885998e-03,  7.88634300e-04,\n",
              "        -7.49104598e-03, -4.08160833e-03],\n",
              "       [-1.84660304e-02, -4.74942052e-03,  5.47602290e-04,\n",
              "        -7.73367269e-03, -4.33077013e-03],\n",
              "       [-1.86859618e-02, -4.94019060e-03,  3.56464246e-04,\n",
              "        -7.92607512e-03, -4.52837068e-03],\n",
              "       [-1.88603472e-02, -5.09145433e-03,  2.04912484e-04,\n",
              "        -8.07862927e-03, -4.68505630e-03],\n",
              "       [-1.89986034e-02, -5.21137959e-03,  8.47612003e-05,\n",
              "        -8.19957518e-03, -4.80928390e-03],\n",
              "       [-1.91082060e-02, -5.30645057e-03, -1.04874923e-05,\n",
              "        -8.29545375e-03, -4.90776792e-03],\n",
              "       [-1.91950874e-02, -5.38181297e-03, -8.59898389e-05,\n",
              "        -8.37145536e-03, -4.98583730e-03],\n",
              "       [-1.92639540e-02, -5.44154912e-03, -1.45836337e-04,\n",
              "        -8.43169758e-03, -5.04772008e-03],\n",
              "       [-1.93185387e-02, -5.48889700e-03, -1.93271315e-04,\n",
              "        -8.47944620e-03, -5.09676999e-03],\n",
              "       [-1.93618020e-02, -5.52642441e-03, -2.30867529e-04,\n",
              "        -8.51729099e-03, -5.13564677e-03],\n",
              "       [-1.93960910e-02, -5.55616739e-03, -2.60664905e-04,\n",
              "        -8.54728538e-03, -5.16645947e-03],\n",
              "       [-1.94232667e-02, -5.57974018e-03, -2.84280713e-04,\n",
              "        -8.57105732e-03, -5.19088019e-03],\n",
              "       [-1.94448044e-02, -5.59842246e-03, -3.02997027e-04,\n",
              "        -8.58989737e-03, -5.21023459e-03],\n",
              "       [-1.94618736e-02, -5.61322863e-03, -3.17830135e-04,\n",
              "        -8.60482855e-03, -5.22557348e-03],\n",
              "       [-1.94754011e-02, -5.62496276e-03, -3.29585588e-04,\n",
              "        -8.61666172e-03, -5.23772983e-03],\n",
              "       [-1.94861219e-02, -5.63426216e-03, -3.38901879e-04,\n",
              "        -8.62603960e-03, -5.24736388e-03],\n",
              "       [-1.94946181e-02, -5.64163198e-03, -3.46285066e-04,\n",
              "        -8.63347160e-03, -5.25499891e-03],\n",
              "       [-1.95013513e-02, -5.64747255e-03, -3.52136232e-04,\n",
              "        -8.63936145e-03, -5.26104967e-03],\n",
              "       [-1.95066874e-02, -5.65210118e-03, -3.56773253e-04,\n",
              "        -8.64402913e-03, -5.26584489e-03],\n",
              "       [-1.95109162e-02, -5.65576934e-03, -3.60448060e-04,\n",
              "        -8.64772823e-03, -5.26964507e-03]])"
            ]
          },
          "execution_count": 82,
          "metadata": {},
          "output_type": "execute_result"
        }
      ],
      "source": [
        "test_score"
      ]
    },
    {
      "cell_type": "code",
      "execution_count": null,
      "id": "9e92b1dc",
      "metadata": {
        "id": "9e92b1dc",
        "outputId": "56a0ffbd-3aa3-4c75-c220-f8317d602eee"
      },
      "outputs": [
        {
          "data": {
            "text/plain": [
              "array([[7.21932692e-01, 7.61715558e-01, 7.33631735e-01, 7.12950568e-01,\n",
              "        7.46205215e-01],\n",
              "       [7.21932691e-01, 7.61715557e-01, 7.33631734e-01, 7.12950567e-01,\n",
              "        7.46205214e-01],\n",
              "       [7.21932690e-01, 7.61715556e-01, 7.33631733e-01, 7.12950566e-01,\n",
              "        7.46205213e-01],\n",
              "       [7.21932688e-01, 7.61715555e-01, 7.33631731e-01, 7.12950564e-01,\n",
              "        7.46205211e-01],\n",
              "       [7.21932684e-01, 7.61715553e-01, 7.33631727e-01, 7.12950561e-01,\n",
              "        7.46205208e-01],\n",
              "       [7.21932679e-01, 7.61715549e-01, 7.33631722e-01, 7.12950556e-01,\n",
              "        7.46205203e-01],\n",
              "       [7.21932671e-01, 7.61715544e-01, 7.33631713e-01, 7.12950549e-01,\n",
              "        7.46205195e-01],\n",
              "       [7.21932658e-01, 7.61715535e-01, 7.33631700e-01, 7.12950536e-01,\n",
              "        7.46205183e-01],\n",
              "       [7.21932636e-01, 7.61715521e-01, 7.33631678e-01, 7.12950517e-01,\n",
              "        7.46205163e-01],\n",
              "       [7.21932603e-01, 7.61715499e-01, 7.33631644e-01, 7.12950486e-01,\n",
              "        7.46205131e-01],\n",
              "       [7.21932549e-01, 7.61715463e-01, 7.33631589e-01, 7.12950437e-01,\n",
              "        7.46205080e-01],\n",
              "       [7.21932465e-01, 7.61715407e-01, 7.33631503e-01, 7.12950359e-01,\n",
              "        7.46205000e-01],\n",
              "       [7.21932330e-01, 7.61715317e-01, 7.33631365e-01, 7.12950235e-01,\n",
              "        7.46204873e-01],\n",
              "       [7.21932116e-01, 7.61715174e-01, 7.33631146e-01, 7.12950038e-01,\n",
              "        7.46204671e-01],\n",
              "       [7.21931776e-01, 7.61714948e-01, 7.33630800e-01, 7.12949726e-01,\n",
              "        7.46204350e-01],\n",
              "       [7.21931239e-01, 7.61714588e-01, 7.33630251e-01, 7.12949231e-01,\n",
              "        7.46203841e-01],\n",
              "       [7.21930388e-01, 7.61714018e-01, 7.33629382e-01, 7.12948448e-01,\n",
              "        7.46203037e-01],\n",
              "       [7.21929043e-01, 7.61713114e-01, 7.33628011e-01, 7.12947210e-01,\n",
              "        7.46201766e-01],\n",
              "       [7.21926924e-01, 7.61711684e-01, 7.33625849e-01, 7.12945257e-01,\n",
              "        7.46199761e-01],\n",
              "       [7.21923590e-01, 7.61709423e-01, 7.33622450e-01, 7.12942182e-01,\n",
              "        7.46196607e-01],\n",
              "       [7.21918362e-01, 7.61705856e-01, 7.33617124e-01, 7.12937356e-01,\n",
              "        7.46191660e-01],\n",
              "       [7.21910193e-01, 7.61700242e-01, 7.33608807e-01, 7.12929805e-01,\n",
              "        7.46183926e-01],\n",
              "       [7.21897486e-01, 7.61691430e-01, 7.33595883e-01, 7.12918044e-01,\n",
              "        7.46171889e-01],\n",
              "       [7.21877826e-01, 7.61677644e-01, 7.33575908e-01, 7.12899814e-01,\n",
              "        7.46153253e-01],\n",
              "       [7.21847601e-01, 7.61656163e-01, 7.33545240e-01, 7.12871728e-01,\n",
              "        7.46124579e-01],\n",
              "       [7.21801475e-01, 7.61622853e-01, 7.33498515e-01, 7.12828757e-01,\n",
              "        7.46080778e-01],\n",
              "       [7.21731681e-01, 7.61571486e-01, 7.33427952e-01, 7.12763544e-01,\n",
              "        7.46014424e-01],\n",
              "       [7.21627080e-01, 7.61492783e-01, 7.33322435e-01, 7.12665474e-01,\n",
              "        7.45914840e-01],\n",
              "       [7.21471940e-01, 7.61373082e-01, 7.33166340e-01, 7.12519468e-01,\n",
              "        7.45766900e-01],\n",
              "       [7.21244373e-01, 7.61192518e-01, 7.32938025e-01, 7.12304421e-01,\n",
              "        7.45549485e-01],\n",
              "       [7.20914325e-01, 7.60922608e-01, 7.32607896e-01, 7.11991197e-01,\n",
              "        7.45233484e-01],\n",
              "       [7.20440970e-01, 7.60523103e-01, 7.32135868e-01, 7.11540075e-01,\n",
              "        7.44779182e-01],\n",
              "       [7.19769310e-01, 7.59938001e-01, 7.31467984e-01, 7.10897449e-01,\n",
              "        7.44132840e-01],\n",
              "       [7.18825776e-01, 7.59090645e-01, 7.30531913e-01, 7.09991653e-01,\n",
              "        7.43222248e-01],\n",
              "       [7.17512711e-01, 7.57877863e-01, 7.29231081e-01, 7.08727782e-01,\n",
              "        7.41951122e-01],\n",
              "       [7.15701801e-01, 7.56163195e-01, 7.27437391e-01, 7.06981542e-01,\n",
              "        7.40192384e-01],\n",
              "       [7.13226788e-01, 7.53769289e-01, 7.24982739e-01, 7.04592364e-01,\n",
              "        7.37780684e-01],\n",
              "       [7.09876113e-01, 7.50469740e-01, 7.21649982e-01, 7.01356240e-01,\n",
              "        7.34504784e-01],\n",
              "       [7.05386533e-01, 7.45981086e-01, 7.17164618e-01, 6.97019125e-01,\n",
              "        7.30100910e-01],\n",
              "       [6.99439451e-01, 7.39956730e-01, 7.11189474e-01, 6.91272495e-01,\n",
              "        7.24248846e-01],\n",
              "       [6.91662801e-01, 7.31986248e-01, 7.03326062e-01, 6.83753837e-01,\n",
              "        7.16573691e-01],\n",
              "       [6.81642549e-01, 7.21605302e-01, 6.93127449e-01, 6.74056202e-01,\n",
              "        7.06657291e-01],\n",
              "       [6.68947996e-01, 7.08321866e-01, 6.80127224e-01, 6.61751237e-01,\n",
              "        6.94063472e-01],\n",
              "       [6.53172761e-01, 6.91661917e-01, 6.63885989e-01, 6.46428008e-01,\n",
              "        6.78378715e-01],\n",
              "       [6.33987765e-01, 6.71231384e-01, 6.44050443e-01, 6.27744632e-01,\n",
              "        6.59264317e-01],\n",
              "       [6.11195382e-01, 6.46782635e-01, 6.20412699e-01, 6.05482806e-01,\n",
              "        6.36509077e-01],\n",
              "       [5.84769407e-01, 6.18267633e-01, 5.92953309e-01, 5.79590572e-01,\n",
              "        6.10067287e-01],\n",
              "       [5.54867981e-01, 5.85861305e-01, 5.61854900e-01, 5.50200314e-01,\n",
              "        5.80069778e-01],\n",
              "       [5.21817242e-01, 5.49949355e-01, 5.27484634e-01, 5.17618314e-01,\n",
              "        5.46806786e-01],\n",
              "       [4.86076829e-01, 5.11089891e-01, 4.90357211e-01, 4.82294683e-01,\n",
              "        5.10695030e-01],\n",
              "       [4.48205751e-01, 4.69967995e-01, 4.51096979e-01, 4.44790191e-01,\n",
              "        4.72248456e-01],\n",
              "       [4.08842291e-01, 4.27359572e-01, 4.10412332e-01, 4.05753333e-01,\n",
              "        4.32066300e-01],\n",
              "       [3.68697236e-01, 3.84107184e-01, 3.69081305e-01, 3.65908352e-01,\n",
              "        3.90836161e-01],\n",
              "       [3.28545891e-01, 3.41096590e-01, 3.27934625e-01, 3.26042137e-01,\n",
              "        3.49334606e-01],\n",
              "       [2.89201572e-01, 2.99219291e-01, 2.87821045e-01, 2.86974589e-01,\n",
              "        3.08404734e-01],\n",
              "       [2.51463586e-01, 2.59315798e-01, 2.49550690e-01, 2.49506093e-01,\n",
              "        2.68901792e-01],\n",
              "       [2.16048658e-01, 2.22108849e-01, 2.13827037e-01, 2.14350398e-01,\n",
              "        2.31616213e-01],\n",
              "       [1.83525373e-01, 1.88144855e-01, 1.81186761e-01, 1.82071284e-01,\n",
              "        1.97196339e-01],\n",
              "       [1.54270673e-01, 1.57760097e-01, 1.51964364e-01, 1.53041017e-01,\n",
              "        1.66093364e-01],\n",
              "       [1.28457961e-01, 1.31078594e-01, 1.26288499e-01, 1.27429668e-01,\n",
              "        1.38540949e-01],\n",
              "       [1.06074879e-01, 1.08037737e-01, 1.04106050e-01, 1.05223311e-01,\n",
              "        1.14568793e-01],\n",
              "       [8.69609969e-02, 8.84311513e-02, 8.52234327e-02, 8.62615914e-02,\n",
              "        9.40401072e-02],\n",
              "       [7.08535677e-02, 7.19570356e-02, 6.93534872e-02, 7.02830843e-02,\n",
              "        7.66998935e-02],\n",
              "       [5.74315939e-02, 5.82628987e-02, 5.61589681e-02, 5.69689010e-02,\n",
              "        6.22228536e-02],\n",
              "       [4.63523454e-02, 4.69815640e-02, 4.52875998e-02, 4.59788066e-02,\n",
              "        5.02539240e-02],\n",
              "       [3.72781347e-02, 3.77568801e-02, 3.63971346e-02, 3.69776961e-02,\n",
              "        4.04385478e-02],\n",
              "       [2.98936838e-02, 3.02598816e-02, 2.91711337e-02, 2.96527652e-02,\n",
              "        3.24427287e-02],\n",
              "       [2.39157262e-02, 2.41972744e-02, 2.33272865e-02, 2.37230008e-02,\n",
              "        2.59644900e-02],\n",
              "       [1.90968797e-02, 1.93143744e-02, 1.86203381e-02, 1.89430035e-02,\n",
              "        2.07388988e-02],\n",
              "       [1.52256865e-02, 1.53944153e-02, 1.48414823e-02, 1.51030167e-02,\n",
              "        1.65387196e-02],\n",
              "       [1.21243436e-02, 1.22557273e-02, 1.18156819e-02, 1.20266709e-02,\n",
              "        1.31723877e-02],\n",
              "       [9.64523641e-03, 9.74786645e-03, 9.39796225e-03, 9.56754258e-03,\n",
              "        1.04805475e-02],\n",
              "       [7.66702140e-03, 7.74740579e-03, 7.46936895e-03, 7.60526749e-03,\n",
              "        8.33200273e-03],\n",
              "       [6.09072034e-03, 6.15382167e-03, 5.93301245e-03, 6.04166616e-03,\n",
              "        6.61961109e-03],\n",
              "       [4.83608759e-03, 4.88571302e-03, 4.71042913e-03, 4.79714040e-03,\n",
              "        5.25642704e-03],\n",
              "       [3.83837512e-03, 3.87746134e-03, 3.73836505e-03, 3.80746445e-03,\n",
              "        4.17224548e-03],\n",
              "       [3.04553606e-03, 3.07635899e-03, 2.96600990e-03, 3.02101113e-03,\n",
              "        3.31060063e-03],\n",
              "       [2.41585738e-03, 2.44018801e-03, 2.35266419e-03, 2.39640372e-03,\n",
              "        2.62621756e-03],\n",
              "       [1.91598656e-03, 1.93520767e-03, 1.86579995e-03, 1.90055850e-03,\n",
              "        2.08288287e-03],\n",
              "       [1.51930534e-03, 1.53449964e-03, 1.47946590e-03, 1.50707172e-03,\n",
              "        1.65168701e-03],\n",
              "       [1.20460113e-03, 1.21661837e-03, 1.17298666e-03, 1.19490171e-03,\n",
              "        1.30958630e-03],\n",
              "       [9.54988884e-04, 9.64497257e-04, 9.29908284e-04, 9.47299435e-04,\n",
              "        1.03823496e-03],\n",
              "       [7.57040544e-04, 7.64566280e-04, 7.37147832e-04, 7.50945014e-04,\n",
              "        8.23041260e-04],\n",
              "       [6.00085069e-04, 6.06043122e-04, 5.84309897e-04, 5.95253353e-04,\n",
              "        6.52408125e-04],\n",
              "       [4.75647243e-04, 4.80365150e-04, 4.63139067e-04, 4.71817491e-04,\n",
              "        5.17124068e-04],\n",
              "       [3.76998904e-04, 3.80735408e-04, 3.67082227e-04, 3.73963451e-04,\n",
              "        4.09875928e-04],\n",
              "       [2.98800738e-04, 3.01760374e-04, 2.90939327e-04, 2.96394918e-04,\n",
              "        3.24859836e-04],\n",
              "       [2.36816809e-04, 2.39161340e-04, 2.30585133e-04, 2.34910064e-04,\n",
              "        2.57471099e-04],\n",
              "       [1.87687300e-04, 1.89544716e-04, 1.82747771e-04, 1.86176129e-04,\n",
              "        2.04057294e-04],\n",
              "       [1.48747787e-04, 1.50219391e-04, 1.44832647e-04, 1.47550141e-04,\n",
              "        1.61721872e-04],\n",
              "       [1.17885612e-04, 1.19051602e-04, 1.14782523e-04, 1.16936455e-04,\n",
              "        1.28168071e-04],\n",
              "       [9.34258079e-05, 9.43496901e-05, 9.09664072e-05, 9.26735903e-05,\n",
              "        1.01574932e-04],\n",
              "       [7.40405383e-05, 7.47726082e-05, 7.20913447e-05, 7.34444018e-05,\n",
              "        8.04988636e-05],\n",
              "       [5.86772317e-05, 5.92573274e-05, 5.71324282e-05, 5.82047930e-05,\n",
              "        6.37955221e-05],\n",
              "       [4.65015638e-05, 4.69612439e-05, 4.52772701e-05, 4.61271576e-05,\n",
              "        5.05578334e-05],\n",
              "       [3.68522350e-05, 3.72165010e-05, 3.58819634e-05, 3.65555202e-05,\n",
              "        4.00668295e-05],\n",
              "       [2.92051057e-05, 2.94937661e-05, 2.84361570e-05, 2.89699617e-05,\n",
              "        3.17526610e-05],\n",
              "       [2.31447601e-05, 2.33735097e-05, 2.25353658e-05, 2.29584109e-05,\n",
              "        2.51636819e-05],\n",
              "       [1.83419606e-05, 1.85232351e-05, 1.78590161e-05, 1.81942810e-05,\n",
              "        1.99419389e-05],\n",
              "       [1.45357742e-05, 1.46794277e-05, 1.41530428e-05, 1.44187400e-05,\n",
              "        1.58037407e-05]])"
            ]
          },
          "execution_count": 83,
          "metadata": {},
          "output_type": "execute_result"
        }
      ],
      "source": [
        "train_score"
      ]
    },
    {
      "cell_type": "code",
      "execution_count": null,
      "id": "a4a51977",
      "metadata": {
        "id": "a4a51977"
      },
      "outputs": [],
      "source": [
        "train_mean=np.mean(train_score,axis=1)\n",
        "test_mean=np.mean(test_score,axis=1)"
      ]
    },
    {
      "cell_type": "code",
      "execution_count": null,
      "id": "3d838f49",
      "metadata": {
        "id": "3d838f49",
        "outputId": "3ccd6cef-b734-479b-99b8-c825068a6728"
      },
      "outputs": [
        {
          "data": {
            "text/plain": [
              "array([ 7.02416390e-01,  7.02416978e-01,  7.02417720e-01,  7.02418656e-01,\n",
              "        7.02419836e-01,  7.02421323e-01,  7.02423199e-01,  7.02425561e-01,\n",
              "        7.02428537e-01,  7.02432283e-01,  7.02436997e-01,  7.02442923e-01,\n",
              "        7.02450366e-01,  7.02459703e-01,  7.02471398e-01,  7.02486017e-01,\n",
              "        7.02504248e-01,  7.02526911e-01,  7.02554974e-01,  7.02589550e-01,\n",
              "        7.02631880e-01,  7.02683285e-01,  7.02745068e-01,  7.02818334e-01,\n",
              "        7.02903708e-01,  7.03000893e-01,  7.03108015e-01,  7.03220705e-01,\n",
              "        7.03330817e-01,  7.03424707e-01,  7.03480917e-01,  7.03467099e-01,\n",
              "        7.03335954e-01,  7.03019983e-01,  7.02424943e-01,  7.01422132e-01,\n",
              "        6.99839902e-01,  6.97455143e-01,  6.93985947e-01,  6.89087459e-01,\n",
              "        6.82354172e-01,  6.73333172e-01,  6.61552772e-01,  6.46568219e-01,\n",
              "        6.28019907e-01,  6.05692001e-01,  5.79554791e-01,  5.49777256e-01,\n",
              "        5.16707800e-01,  4.80835351e-01,  4.42750690e-01,  4.03122712e-01,\n",
              "        3.62689278e-01,  3.22247927e-01,  2.82628774e-01,  2.44642400e-01,\n",
              "        2.09011654e-01,  1.76306913e-01,  1.46903701e-01,  1.20972009e-01,\n",
              "        9.84951247e-02,  7.93081240e-02,  6.31441089e-02,  4.96785115e-02,\n",
              "        3.85656741e-02,  2.94655845e-02,  2.20611577e-02,  1.60677409e-02,\n",
              "        1.12368965e-02,  7.35636422e-03,  4.24773190e-03,  1.76292088e-03,\n",
              "       -2.19767154e-04, -1.79958264e-03, -3.05698111e-03, -4.05687297e-03,\n",
              "       -4.85143129e-03, -5.48246747e-03, -5.98341092e-03, -6.38094020e-03,\n",
              "       -6.69631522e-03, -6.94645828e-03, -7.14482678e-03, -7.30211491e-03,\n",
              "       -7.42681617e-03, -7.52567314e-03, -7.60403657e-03, -7.66615142e-03,\n",
              "       -7.71538465e-03, -7.75440634e-03, -7.78533362e-03, -7.80984502e-03,\n",
              "       -7.82927117e-03, -7.84466687e-03, -7.85686821e-03, -7.86653788e-03,\n",
              "       -7.87420113e-03, -7.88027425e-03, -7.88508717e-03, -7.88890138e-03])"
            ]
          },
          "execution_count": 85,
          "metadata": {},
          "output_type": "execute_result"
        }
      ],
      "source": [
        "test_mean\n"
      ]
    },
    {
      "cell_type": "code",
      "execution_count": null,
      "id": "bfa97227",
      "metadata": {
        "id": "bfa97227",
        "outputId": "459f3044-0ee4-41a0-9c22-a633cdb3f217"
      },
      "outputs": [
        {
          "data": {
            "text/plain": [
              "0.703480917288689"
            ]
          },
          "execution_count": 86,
          "metadata": {},
          "output_type": "execute_result"
        }
      ],
      "source": [
        "max(test_mean)"
      ]
    },
    {
      "cell_type": "code",
      "execution_count": null,
      "id": "d9f1195b",
      "metadata": {
        "id": "d9f1195b",
        "outputId": "5c0be191-10b1-461c-e6b7-1a95b8883ec1"
      },
      "outputs": [
        {
          "data": {
            "text/plain": [
              "<seaborn.axisgrid.JointGrid at 0x7feedcbf4370>"
            ]
          },
          "execution_count": 87,
          "metadata": {},
          "output_type": "execute_result"
        },
        {
          "data": {
            "image/png": "[encoded data removed]",
            "text/plain": [
              "<Figure size 600x600 with 3 Axes>"
            ]
          },
          "metadata": {},
          "output_type": "display_data"
        }
      ],
      "source": [
        "sns.jointplot(x=np.log(range),y=test_mean)"
      ]
    },
    {
      "cell_type": "code",
      "execution_count": null,
      "id": "d5725553",
      "metadata": {
        "id": "d5725553",
        "outputId": "28872980-bf3c-455e-d676-894a74a7b722"
      },
      "outputs": [
        {
          "data": {
            "text/plain": [
              "(array([30]),)"
            ]
          },
          "execution_count": 88,
          "metadata": {},
          "output_type": "execute_result"
        }
      ],
      "source": [
        "np.where(test_mean==max(test_mean))"
      ]
    },
    {
      "cell_type": "code",
      "execution_count": null,
      "id": "8ccec463",
      "metadata": {
        "id": "8ccec463",
        "outputId": "715afa76-104b-40ae-ea86-2ef245412676"
      },
      "outputs": [
        {
          "data": {
            "text/plain": [
              "0.6539117818679567"
            ]
          },
          "execution_count": 89,
          "metadata": {},
          "output_type": "execute_result"
        }
      ],
      "source": [
        "r_best=Ridge(alpha=range[30])\n",
        "r_best.fit(X_train_s,Y_train)\n",
        "r2_score(Y_test,r_best.predict(X_test_s))"
      ]
    },
    {
      "cell_type": "code",
      "execution_count": null,
      "id": "b0a8c12f",
      "metadata": {
        "id": "b0a8c12f",
        "outputId": "925b98e6-02af-4ecd-b832-cda370b29a39"
      },
      "outputs": [
        {
          "data": {
            "text/plain": [
              "0.731914483309205"
            ]
          },
          "execution_count": 90,
          "metadata": {},
          "output_type": "execute_result"
        }
      ],
      "source": [
        "r2_score(Y_train,r_best.predict(X_train_s))"
      ]
    },
    {
      "cell_type": "code",
      "execution_count": null,
      "id": "7d079244",
      "metadata": {
        "id": "7d079244"
      },
      "outputs": [],
      "source": [
        "coef=pd.DataFrame({'Feature':X_train.columns,'Coef':r_best.coef_})"
      ]
    },
    {
      "cell_type": "code",
      "execution_count": null,
      "id": "60924e02",
      "metadata": {
        "id": "60924e02"
      },
      "outputs": [],
      "source": [
        "coef"
      ]
    },
    {
      "cell_type": "code",
      "execution_count": null,
      "id": "a166af78",
      "metadata": {
        "id": "a166af78",
        "outputId": "51957cf2-5d01-4d25-975b-47178bcf6d5c"
      },
      "outputs": [
        {
          "data": {
            "text/plain": [
              "0.6392541227298905"
            ]
          },
          "execution_count": 92,
          "metadata": {},
          "output_type": "execute_result"
        }
      ],
      "source": [
        "from sklearn.linear_model import Lasso\n",
        "rmodel1=Lasso(alpha=0.5) #upsidedownY or lambda in notes\n",
        "rmodel1.fit(X_train_s,Y_train)\n",
        "r2_score(Y_test,rmodel1.predict(X_test_s))"
      ]
    },
    {
      "cell_type": "code",
      "execution_count": null,
      "id": "c5060ac9",
      "metadata": {
        "id": "c5060ac9"
      },
      "outputs": [],
      "source": [
        "from sklearn.model_selection import validation_curve\n",
        "train_score,test_score=validation_curve(Lasso(),X_train_s,Y_train,param_name=\"alpha\",param_range=range,scoring=\"r2\")"
      ]
    },
    {
      "cell_type": "code",
      "execution_count": null,
      "id": "e274971a",
      "metadata": {
        "id": "e274971a"
      },
      "outputs": [],
      "source": [
        "#from sklearn.utils.fixes import sklearn\n",
        "#train_score1,test_score1= sklearn.model_selection.validation_curve(Lasso(),X_train_s,Y_train,param_name=\"alpha\",param_range=range,scoring=\"r2\")"
      ]
    },
    {
      "cell_type": "code",
      "execution_count": null,
      "id": "2681c210",
      "metadata": {
        "id": "2681c210"
      },
      "outputs": [],
      "source": [
        "test_mean1=np.mean(test_score,axis=1)"
      ]
    },
    {
      "cell_type": "code",
      "execution_count": null,
      "id": "2595da8f",
      "metadata": {
        "id": "2595da8f"
      },
      "outputs": [],
      "source": [
        "test_mean1=np.mean(test_score,axis=1)"
      ]
    },
    {
      "cell_type": "code",
      "execution_count": null,
      "id": "2bd8750f",
      "metadata": {
        "id": "2bd8750f",
        "outputId": "7e12b697-5c04-44c3-ae61-9512568803dd"
      },
      "outputs": [
        {
          "data": {
            "text/plain": [
              "<seaborn.axisgrid.JointGrid at 0x7feedcb2e140>"
            ]
          },
          "execution_count": 97,
          "metadata": {},
          "output_type": "execute_result"
        },
        {
          "data": {
            "image/png": "[encoded data removed]",
            "text/plain": [
              "<Figure size 600x600 with 3 Axes>"
            ]
          },
          "metadata": {},
          "output_type": "display_data"
        }
      ],
      "source": [
        "sns.jointplot(x=np.log(range),y=test_mean1)"
      ]
    },
    {
      "cell_type": "code",
      "execution_count": null,
      "id": "15ab559c",
      "metadata": {
        "id": "15ab559c",
        "outputId": "372de589-ea6b-4d07-f227-116223dc6579"
      },
      "outputs": [
        {
          "data": {
            "text/plain": [
              "(array([9]),)"
            ]
          },
          "execution_count": 98,
          "metadata": {},
          "output_type": "execute_result"
        }
      ],
      "source": [
        "np.where(test_mean1==max(test_mean1))"
      ]
    },
    {
      "cell_type": "code",
      "execution_count": null,
      "id": "04a7ba91",
      "metadata": {
        "id": "04a7ba91",
        "outputId": "2f2d20c1-86e5-4047-f7df-28776cfbd509"
      },
      "outputs": [
        {
          "data": {
            "text/plain": [
              "0.6588508849054431"
            ]
          },
          "execution_count": 99,
          "metadata": {},
          "output_type": "execute_result"
        }
      ],
      "source": [
        "r_best1=Lasso(alpha=range[9])\n",
        "r_best1.fit(X_train_s,Y_train)\n",
        "r2_score(Y_test,r_best1.predict(X_test_s))"
      ]
    },
    {
      "cell_type": "code",
      "execution_count": null,
      "id": "93567363",
      "metadata": {
        "id": "93567363",
        "outputId": "7b1bf9cb-3373-4646-c638-13507b411cd2"
      },
      "outputs": [
        {
          "data": {
            "text/plain": [
              "0.731914483309205"
            ]
          },
          "execution_count": 100,
          "metadata": {},
          "output_type": "execute_result"
        }
      ],
      "source": [
        "r2_score(Y_train,r_best.predict(X_train_s))"
      ]
    },
    {
      "cell_type": "code",
      "execution_count": null,
      "id": "1f9c355a",
      "metadata": {
        "id": "1f9c355a"
      },
      "outputs": [],
      "source": [
        "coef1=pd.DataFrame({'Feature':X_train.columns,'Coef':r_best1.coef_})"
      ]
    },
    {
      "cell_type": "code",
      "execution_count": null,
      "id": "c9f5fa3f",
      "metadata": {
        "id": "c9f5fa3f",
        "outputId": "56434f1a-dd84-483f-9f16-1aaa07fc36ca"
      },
      "outputs": [
        {
          "data": {
            "text/html": [
              "<div>\n",
              "<style scoped>\n",
              "    .dataframe tbody tr th:only-of-type {\n",
              "        vertical-align: middle;\n",
              "    }\n",
              "\n",
              "    .dataframe tbody tr th {\n",
              "        vertical-align: top;\n",
              "    }\n",
              "\n",
              "    .dataframe thead th {\n",
              "        text-align: right;\n",
              "    }\n",
              "</style>\n",
              "<table border=\"1\" class=\"dataframe\">\n",
              "  <thead>\n",
              "    <tr style=\"text-align: right;\">\n",
              "      <th></th>\n",
              "      <th>Feature</th>\n",
              "      <th>Coef</th>\n",
              "    </tr>\n",
              "  </thead>\n",
              "  <tbody>\n",
              "    <tr>\n",
              "      <th>0</th>\n",
              "      <td>crime_rate</td>\n",
              "      <td>-0.422827</td>\n",
              "    </tr>\n",
              "    <tr>\n",
              "      <th>1</th>\n",
              "      <td>resid_area</td>\n",
              "      <td>-0.000000</td>\n",
              "    </tr>\n",
              "    <tr>\n",
              "      <th>2</th>\n",
              "      <td>air_qual</td>\n",
              "      <td>-1.502852</td>\n",
              "    </tr>\n",
              "    <tr>\n",
              "      <th>3</th>\n",
              "      <td>room_num</td>\n",
              "      <td>3.180746</td>\n",
              "    </tr>\n",
              "    <tr>\n",
              "      <th>4</th>\n",
              "      <td>age</td>\n",
              "      <td>-0.015652</td>\n",
              "    </tr>\n",
              "    <tr>\n",
              "      <th>5</th>\n",
              "      <td>teachers</td>\n",
              "      <td>2.012923</td>\n",
              "    </tr>\n",
              "    <tr>\n",
              "      <th>6</th>\n",
              "      <td>poor_prop</td>\n",
              "      <td>-4.063192</td>\n",
              "    </tr>\n",
              "    <tr>\n",
              "      <th>7</th>\n",
              "      <td>n_hos_beds</td>\n",
              "      <td>0.381428</td>\n",
              "    </tr>\n",
              "    <tr>\n",
              "      <th>8</th>\n",
              "      <td>n_hot_rooms</td>\n",
              "      <td>0.255145</td>\n",
              "    </tr>\n",
              "    <tr>\n",
              "      <th>9</th>\n",
              "      <td>rainfall</td>\n",
              "      <td>0.220500</td>\n",
              "    </tr>\n",
              "    <tr>\n",
              "      <th>10</th>\n",
              "      <td>parks</td>\n",
              "      <td>-0.000000</td>\n",
              "    </tr>\n",
              "    <tr>\n",
              "      <th>11</th>\n",
              "      <td>avg_dist</td>\n",
              "      <td>-2.217999</td>\n",
              "    </tr>\n",
              "    <tr>\n",
              "      <th>12</th>\n",
              "      <td>airport_YES</td>\n",
              "      <td>0.448631</td>\n",
              "    </tr>\n",
              "    <tr>\n",
              "      <th>13</th>\n",
              "      <td>waterbody_Lake and River</td>\n",
              "      <td>-0.166344</td>\n",
              "    </tr>\n",
              "    <tr>\n",
              "      <th>14</th>\n",
              "      <td>waterbody_None</td>\n",
              "      <td>-0.000000</td>\n",
              "    </tr>\n",
              "    <tr>\n",
              "      <th>15</th>\n",
              "      <td>waterbody_River</td>\n",
              "      <td>-0.178484</td>\n",
              "    </tr>\n",
              "  </tbody>\n",
              "</table>\n",
              "</div>"
            ],
            "text/plain": [
              "                     Feature      Coef\n",
              "0                 crime_rate -0.422827\n",
              "1                 resid_area -0.000000\n",
              "2                   air_qual -1.502852\n",
              "3                   room_num  3.180746\n",
              "4                        age -0.015652\n",
              "5                   teachers  2.012923\n",
              "6                  poor_prop -4.063192\n",
              "7                 n_hos_beds  0.381428\n",
              "8                n_hot_rooms  0.255145\n",
              "9                   rainfall  0.220500\n",
              "10                     parks -0.000000\n",
              "11                  avg_dist -2.217999\n",
              "12               airport_YES  0.448631\n",
              "13  waterbody_Lake and River -0.166344\n",
              "14            waterbody_None -0.000000\n",
              "15           waterbody_River -0.178484"
            ]
          },
          "execution_count": 102,
          "metadata": {},
          "output_type": "execute_result"
        }
      ],
      "source": [
        "coef1"
      ]
    },
    {
      "cell_type": "code",
      "execution_count": null,
      "id": "6c4cfa28",
      "metadata": {
        "id": "6c4cfa28"
      },
      "outputs": [],
      "source": [
        "from sklearn.discriminant_analysis import LinearDiscriminantAnalysis"
      ]
    },
    {
      "cell_type": "code",
      "execution_count": null,
      "id": "331d8b2a",
      "metadata": {
        "id": "331d8b2a"
      },
      "outputs": [],
      "source": [
        "lda=LinearDiscriminantAnalysis()\n",
        "lda.fit(X,Y)\n",
        "y_pred=lda.predict(X)"
      ]
    },
    {
      "cell_type": "code",
      "execution_count": null,
      "id": "3394bbf9",
      "metadata": {
        "id": "3394bbf9",
        "outputId": "6e952f32-7749-4d06-cd0a-dcd4f2cbf1e3"
      },
      "outputs": [
        {
          "data": {
            "text/plain": [
              "array([1, 1, 1, 1, 1, 1, 1, 1, 1, 1, 1, 1, 1, 1, 1, 1, 1, 1, 1, 1, 1, 1,\n",
              "       1, 1, 1, 1, 1, 1, 1, 1, 1, 1, 1, 1, 1, 1, 1, 1, 1, 1, 1, 1, 1, 1,\n",
              "       1, 1, 1, 1, 1, 1, 1, 1, 1, 1, 1, 1, 1, 1, 1, 1, 1, 1, 1, 1, 1, 1,\n",
              "       1, 1, 1, 1, 1, 1, 1, 1, 1, 1, 1, 1, 1, 1, 1, 1, 1, 1, 1, 1, 1, 1,\n",
              "       1, 1, 1, 1, 1, 1, 1, 1, 1, 1, 1, 1, 1, 1, 1, 1, 1, 1, 1, 1, 1, 1,\n",
              "       1, 1, 1, 1, 1, 1, 1, 1, 1, 1, 1, 1, 1, 1, 1, 1, 1, 1, 1, 1, 1, 1,\n",
              "       1, 1, 1, 1, 1, 1, 1, 1, 1, 1, 1, 1, 1, 1, 1, 1, 1, 1, 1, 1, 1, 1,\n",
              "       1, 1, 1, 1, 1, 1, 1, 1, 1, 1, 1, 1, 1, 1, 1, 1, 1, 1, 1, 1, 1, 1,\n",
              "       1, 1, 1, 1, 1, 1, 1, 1, 1, 1, 1, 1, 1, 1, 1, 1, 1, 1, 1, 1, 1, 1,\n",
              "       1, 1, 1, 1, 1, 1, 1, 1, 1, 1, 1, 1, 1, 1, 1, 1, 1, 1, 1, 1, 1, 1,\n",
              "       1, 1, 1, 1, 1, 1, 1, 1, 1, 1, 1, 1, 1, 1, 1, 1, 1, 1, 1, 1, 1, 1,\n",
              "       1, 1, 1, 1, 1, 1, 1, 1, 1, 1, 1, 1, 1, 1, 1, 1, 1, 1, 1, 1, 1, 1,\n",
              "       1, 1, 1, 1, 1, 1, 1, 1, 1, 1, 1, 1, 1, 1, 1, 1, 1, 1, 1, 1, 1, 1,\n",
              "       1, 1, 1, 1, 1, 1, 1, 1, 1, 1, 1, 1, 1, 1, 1, 1, 1, 1, 1, 1, 1, 1,\n",
              "       1, 1, 1, 1, 1, 1, 1, 1, 1, 1, 1, 1, 1, 1, 1, 1, 1, 1, 1, 1, 1, 1,\n",
              "       1, 1, 1, 1, 1, 1, 1, 1, 1, 1, 1, 1, 1, 1, 1, 1, 1, 1, 1, 1, 1, 1,\n",
              "       1, 1, 1, 1, 1, 1, 1, 1, 1, 1, 1, 1, 1, 1, 1, 1, 1, 1, 1, 1, 1, 1,\n",
              "       1, 1, 1, 1, 1, 1, 1, 1, 1, 1, 1, 1, 1, 1, 1, 1, 1, 1, 1, 1, 1, 1,\n",
              "       1, 1, 1, 1, 1, 1, 1, 1, 1, 1, 1, 1, 1, 1, 1, 1, 1, 1, 1, 1, 1, 1,\n",
              "       1, 1, 1, 1, 1, 1, 1, 1, 1, 1, 1, 1, 1, 1, 1, 1, 1, 1, 1, 1, 1, 1,\n",
              "       1, 1, 1, 1, 1, 1, 1, 1, 1, 1, 1, 1, 1, 1, 1, 1, 1, 1, 1, 1, 1, 1,\n",
              "       1, 1, 1, 1, 1, 1, 1, 1, 1, 1, 1, 1, 1, 1, 1, 1, 1, 1, 1, 1, 1, 1,\n",
              "       1, 1, 1, 1, 1, 1, 1, 1, 1, 1, 1, 1, 1, 1, 1, 1, 1, 1, 1, 1, 1, 1])"
            ]
          },
          "execution_count": 105,
          "metadata": {},
          "output_type": "execute_result"
        }
      ],
      "source": [
        "y_pred"
      ]
    },
    {
      "cell_type": "code",
      "execution_count": null,
      "id": "c6f6cb48",
      "metadata": {
        "id": "c6f6cb48",
        "outputId": "32178a5a-b127-45bb-9d4e-536633f4e628"
      },
      "outputs": [
        {
          "data": {
            "text/html": [
              "<style>#sk-container-id-6 {color: black;background-color: white;}#sk-container-id-6 pre{padding: 0;}#sk-container-id-6 div.sk-toggleable {background-color: white;}#sk-container-id-6 label.sk-toggleable__label {cursor: pointer;display: block;width: 100%;margin-bottom: 0;padding: 0.3em;box-sizing: border-box;text-align: center;}#sk-container-id-6 label.sk-toggleable__label-arrow:before {content: \"▸\";float: left;margin-right: 0.25em;color: #696969;}#sk-container-id-6 label.sk-toggleable__label-arrow:hover:before {color: black;}#sk-container-id-6 div.sk-estimator:hover label.sk-toggleable__label-arrow:before {color: black;}#sk-container-id-6 div.sk-toggleable__content {max-height: 0;max-width: 0;overflow: hidden;text-align: left;background-color: #f0f8ff;}#sk-container-id-6 div.sk-toggleable__content pre {margin: 0.2em;color: black;border-radius: 0.25em;background-color: #f0f8ff;}#sk-container-id-6 input.sk-toggleable__control:checked~div.sk-toggleable__content {max-height: 200px;max-width: 100%;overflow: auto;}#sk-container-id-6 input.sk-toggleable__control:checked~label.sk-toggleable__label-arrow:before {content: \"▾\";}#sk-container-id-6 div.sk-estimator input.sk-toggleable__control:checked~label.sk-toggleable__label {background-color: #d4ebff;}#sk-container-id-6 div.sk-label input.sk-toggleable__control:checked~label.sk-toggleable__label {background-color: #d4ebff;}#sk-container-id-6 input.sk-hidden--visually {border: 0;clip: rect(1px 1px 1px 1px);clip: rect(1px, 1px, 1px, 1px);height: 1px;margin: -1px;overflow: hidden;padding: 0;position: absolute;width: 1px;}#sk-container-id-6 div.sk-estimator {font-family: monospace;background-color: #f0f8ff;border: 1px dotted black;border-radius: 0.25em;box-sizing: border-box;margin-bottom: 0.5em;}#sk-container-id-6 div.sk-estimator:hover {background-color: #d4ebff;}#sk-container-id-6 div.sk-parallel-item::after {content: \"\";width: 100%;border-bottom: 1px solid gray;flex-grow: 1;}#sk-container-id-6 div.sk-label:hover label.sk-toggleable__label {background-color: #d4ebff;}#sk-container-id-6 div.sk-serial::before {content: \"\";position: absolute;border-left: 1px solid gray;box-sizing: border-box;top: 0;bottom: 0;left: 50%;z-index: 0;}#sk-container-id-6 div.sk-serial {display: flex;flex-direction: column;align-items: center;background-color: white;padding-right: 0.2em;padding-left: 0.2em;position: relative;}#sk-container-id-6 div.sk-item {position: relative;z-index: 1;}#sk-container-id-6 div.sk-parallel {display: flex;align-items: stretch;justify-content: center;background-color: white;position: relative;}#sk-container-id-6 div.sk-item::before, #sk-container-id-6 div.sk-parallel-item::before {content: \"\";position: absolute;border-left: 1px solid gray;box-sizing: border-box;top: 0;bottom: 0;left: 50%;z-index: -1;}#sk-container-id-6 div.sk-parallel-item {display: flex;flex-direction: column;z-index: 1;position: relative;background-color: white;}#sk-container-id-6 div.sk-parallel-item:first-child::after {align-self: flex-end;width: 50%;}#sk-container-id-6 div.sk-parallel-item:last-child::after {align-self: flex-start;width: 50%;}#sk-container-id-6 div.sk-parallel-item:only-child::after {width: 0;}#sk-container-id-6 div.sk-dashed-wrapped {border: 1px dashed gray;margin: 0 0.4em 0.5em 0.4em;box-sizing: border-box;padding-bottom: 0.4em;background-color: white;}#sk-container-id-6 div.sk-label label {font-family: monospace;font-weight: bold;display: inline-block;line-height: 1.2em;}#sk-container-id-6 div.sk-label-container {text-align: center;}#sk-container-id-6 div.sk-container {/* jupyter's `normalize.less` sets `[hidden] { display: none; }` but bootstrap.min.css set `[hidden] { display: none !important; }` so we also need the `!important` here to be able to override the default hidden behavior on the sphinx rendered scikit-learn.org. See: https://github.com/scikit-learn/scikit-learn/issues/21755 */display: inline-block !important;position: relative;}#sk-container-id-6 div.sk-text-repr-fallback {display: none;}</style><div id=\"sk-container-id-6\" class=\"sk-top-container\"><div class=\"sk-text-repr-fallback\"><pre>KNeighborsClassifier(n_neighbors=1)</pre><b>In a Jupyter environment, please rerun this cell to show the HTML representation or trust the notebook. <br />On GitHub, the HTML representation is unable to render, please try loading this page with nbviewer.org.</b></div><div class=\"sk-container\" hidden><div class=\"sk-item\"><div class=\"sk-estimator sk-toggleable\"><input class=\"sk-toggleable__control sk-hidden--visually\" id=\"sk-estimator-id-6\" type=\"checkbox\" checked><label for=\"sk-estimator-id-6\" class=\"sk-toggleable__label sk-toggleable__label-arrow\">KNeighborsClassifier</label><div class=\"sk-toggleable__content\"><pre>KNeighborsClassifier(n_neighbors=1)</pre></div></div></div></div></div>"
            ],
            "text/plain": [
              "KNeighborsClassifier(n_neighbors=1)"
            ]
          },
          "execution_count": 106,
          "metadata": {},
          "output_type": "execute_result"
        }
      ],
      "source": [
        "from sklearn.neighbors import KNeighborsClassifier as k\n",
        "knn=k(n_neighbors=1)\n",
        "knn.fit(X,Y)"
      ]
    },
    {
      "cell_type": "code",
      "execution_count": null,
      "id": "6a429a0a",
      "metadata": {
        "id": "6a429a0a",
        "outputId": "4630b226-974c-4d04-acc1-e0006ab108bf"
      },
      "outputs": [
        {
          "data": {
            "text/plain": [
              "array([[157,  73],\n",
              "       [ 67, 209]])"
            ]
          },
          "execution_count": 107,
          "metadata": {},
          "output_type": "execute_result"
        }
      ],
      "source": [
        "y_pred=knn.predict(X)\n",
        "confusion_matrix(Y,y_pred)"
      ]
    },
    {
      "cell_type": "code",
      "execution_count": null,
      "id": "b34c940f",
      "metadata": {
        "id": "b34c940f",
        "outputId": "5cb7d138-090c-4567-d751-403f44aca9fe"
      },
      "outputs": [
        {
          "data": {
            "text/plain": [
              "array([1, 1, 0, 0, 0, 1, 0, 0, 0, 0, 0, 0, 1, 0, 1, 0, 1, 1, 0, 1, 1, 1,\n",
              "       1, 0, 0, 1, 0, 0, 1, 0, 0, 0, 0, 1, 1, 0, 1, 0, 1, 1, 0, 0, 1, 1,\n",
              "       0, 1, 1, 0, 0, 1, 0, 1, 0, 1, 0, 0, 1, 0, 1, 1, 1, 0, 0, 0, 0, 1,\n",
              "       1, 1, 1, 1, 1, 1, 0, 1, 1, 0, 1, 1, 0, 0, 0, 1, 0, 0, 1, 0, 0, 0,\n",
              "       1, 1, 1, 1, 0, 0, 1, 1, 0, 1, 0, 1, 1, 0, 1, 1, 0, 0, 0, 0, 1, 1,\n",
              "       1, 0, 1, 1, 1, 0, 0, 0, 0, 1, 1, 0, 1, 1, 1, 0, 1, 1, 0, 0, 0, 1,\n",
              "       1, 1, 0, 0, 1, 0, 0, 1, 0, 0, 1, 0, 1, 1, 0, 0, 1, 1, 0, 1, 0, 1,\n",
              "       0, 0, 1, 1, 1, 1, 0, 0, 0, 0, 1, 0, 0, 0, 0, 0, 1, 1, 1, 1, 1, 0,\n",
              "       1, 1, 1, 0, 1, 0, 1, 1, 1, 1, 0, 1, 1, 0, 0, 1, 1, 0, 1, 0, 0, 0,\n",
              "       1, 0, 0, 1, 0, 0, 0, 1, 1, 0, 1, 1, 1, 1, 1, 0, 1, 0, 1, 1, 0, 1,\n",
              "       1, 1, 1, 1, 1, 0, 0, 0, 1, 0, 1, 0, 0, 1, 1, 1, 0, 0, 1, 1, 0, 0,\n",
              "       0, 1, 0, 1, 1, 1, 0, 0, 1, 0, 1, 1, 0, 1, 1, 0, 0, 1, 0, 0, 1, 0,\n",
              "       1, 0, 0, 0, 1, 0, 1, 0, 1, 1, 1, 1, 1, 0, 1, 0, 1, 0, 0, 0, 0, 1,\n",
              "       0, 1, 0, 0, 1, 1, 1, 1, 1, 1, 0, 0, 0, 1, 0, 1, 1, 0, 0, 1, 0, 1,\n",
              "       0, 0, 1, 0, 1, 1, 0, 1, 1, 1, 1, 0, 0, 1, 0, 1, 0, 1, 1, 0, 1, 1,\n",
              "       1, 0, 1, 0, 0, 1, 0, 1, 1, 1, 1, 0, 0, 1, 1, 1, 1, 1, 0, 0, 0, 1,\n",
              "       1, 1, 1, 1, 1, 1, 1, 1, 0, 0, 1, 0, 0, 1, 0, 1, 0, 0, 0, 0, 0, 1,\n",
              "       1, 0, 1, 0, 1, 0, 1, 1, 1, 0, 0, 1, 0, 0, 0, 1, 1, 1, 1, 1, 0, 1,\n",
              "       0, 0, 1, 1, 1, 1, 1, 1, 0, 1, 1, 1, 1, 1, 0, 1, 0, 1, 1, 1, 0, 1,\n",
              "       0, 1, 1, 1, 1, 1, 1, 1, 0, 1, 1, 1, 0, 1, 1, 0, 1, 1, 0, 1, 1, 0,\n",
              "       0, 0, 0, 1, 0, 1, 0, 1, 1, 0, 1, 1, 1, 1, 0, 1, 0, 1, 0, 1, 1, 1,\n",
              "       0, 0, 0, 0, 1, 1, 1, 0, 0, 1, 1, 1, 1, 0, 1, 0, 0, 0, 1, 1, 0, 1,\n",
              "       1, 0, 1, 1, 1, 1, 1, 1, 0, 1, 0, 1, 0, 0, 0, 1, 0, 1, 1, 1, 1, 1])"
            ]
          },
          "execution_count": 108,
          "metadata": {},
          "output_type": "execute_result"
        }
      ],
      "source": [
        "y_pred\n"
      ]
    },
    {
      "cell_type": "code",
      "execution_count": null,
      "id": "96780412",
      "metadata": {
        "id": "96780412",
        "outputId": "74c327d7-60e1-4483-f212-00318b4cfdeb"
      },
      "outputs": [
        {
          "data": {
            "text/plain": [
              "array([[157,  73],\n",
              "       [ 67, 209]])"
            ]
          },
          "execution_count": 109,
          "metadata": {},
          "output_type": "execute_result"
        }
      ],
      "source": [
        "confusion_matrix(Y,y_pred)"
      ]
    },
    {
      "cell_type": "code",
      "execution_count": null,
      "id": "47fff4a4",
      "metadata": {
        "id": "47fff4a4"
      },
      "outputs": [],
      "source": [
        "df['Sold'] = np.random.randint(2, size=len(df))\n",
        "X=df.loc[:,df.columns!='Sold']\n",
        "Y=df['Sold']\n",
        "X_train, X_test, Y_train, Y_test = train_test_split(X,Y,test_size=0.2,random_state=42)"
      ]
    },
    {
      "cell_type": "code",
      "execution_count": null,
      "id": "b1db59c7",
      "metadata": {
        "id": "b1db59c7"
      },
      "outputs": [],
      "source": [
        "scaler = preprocessing.StandardScaler().fit(X_train)#added this line\n",
        "X_train_s=scaler.transform(X_train)\n",
        "X_test_s=scaler.transform(X_test)\n"
      ]
    },
    {
      "cell_type": "code",
      "execution_count": null,
      "id": "57ce159d",
      "metadata": {
        "id": "57ce159d",
        "outputId": "d4e06f91-5f9c-488d-9a91-0b7303364f61"
      },
      "outputs": [
        {
          "data": {
            "text/html": [
              "<style>#sk-container-id-7 {color: black;background-color: white;}#sk-container-id-7 pre{padding: 0;}#sk-container-id-7 div.sk-toggleable {background-color: white;}#sk-container-id-7 label.sk-toggleable__label {cursor: pointer;display: block;width: 100%;margin-bottom: 0;padding: 0.3em;box-sizing: border-box;text-align: center;}#sk-container-id-7 label.sk-toggleable__label-arrow:before {content: \"▸\";float: left;margin-right: 0.25em;color: #696969;}#sk-container-id-7 label.sk-toggleable__label-arrow:hover:before {color: black;}#sk-container-id-7 div.sk-estimator:hover label.sk-toggleable__label-arrow:before {color: black;}#sk-container-id-7 div.sk-toggleable__content {max-height: 0;max-width: 0;overflow: hidden;text-align: left;background-color: #f0f8ff;}#sk-container-id-7 div.sk-toggleable__content pre {margin: 0.2em;color: black;border-radius: 0.25em;background-color: #f0f8ff;}#sk-container-id-7 input.sk-toggleable__control:checked~div.sk-toggleable__content {max-height: 200px;max-width: 100%;overflow: auto;}#sk-container-id-7 input.sk-toggleable__control:checked~label.sk-toggleable__label-arrow:before {content: \"▾\";}#sk-container-id-7 div.sk-estimator input.sk-toggleable__control:checked~label.sk-toggleable__label {background-color: #d4ebff;}#sk-container-id-7 div.sk-label input.sk-toggleable__control:checked~label.sk-toggleable__label {background-color: #d4ebff;}#sk-container-id-7 input.sk-hidden--visually {border: 0;clip: rect(1px 1px 1px 1px);clip: rect(1px, 1px, 1px, 1px);height: 1px;margin: -1px;overflow: hidden;padding: 0;position: absolute;width: 1px;}#sk-container-id-7 div.sk-estimator {font-family: monospace;background-color: #f0f8ff;border: 1px dotted black;border-radius: 0.25em;box-sizing: border-box;margin-bottom: 0.5em;}#sk-container-id-7 div.sk-estimator:hover {background-color: #d4ebff;}#sk-container-id-7 div.sk-parallel-item::after {content: \"\";width: 100%;border-bottom: 1px solid gray;flex-grow: 1;}#sk-container-id-7 div.sk-label:hover label.sk-toggleable__label {background-color: #d4ebff;}#sk-container-id-7 div.sk-serial::before {content: \"\";position: absolute;border-left: 1px solid gray;box-sizing: border-box;top: 0;bottom: 0;left: 50%;z-index: 0;}#sk-container-id-7 div.sk-serial {display: flex;flex-direction: column;align-items: center;background-color: white;padding-right: 0.2em;padding-left: 0.2em;position: relative;}#sk-container-id-7 div.sk-item {position: relative;z-index: 1;}#sk-container-id-7 div.sk-parallel {display: flex;align-items: stretch;justify-content: center;background-color: white;position: relative;}#sk-container-id-7 div.sk-item::before, #sk-container-id-7 div.sk-parallel-item::before {content: \"\";position: absolute;border-left: 1px solid gray;box-sizing: border-box;top: 0;bottom: 0;left: 50%;z-index: -1;}#sk-container-id-7 div.sk-parallel-item {display: flex;flex-direction: column;z-index: 1;position: relative;background-color: white;}#sk-container-id-7 div.sk-parallel-item:first-child::after {align-self: flex-end;width: 50%;}#sk-container-id-7 div.sk-parallel-item:last-child::after {align-self: flex-start;width: 50%;}#sk-container-id-7 div.sk-parallel-item:only-child::after {width: 0;}#sk-container-id-7 div.sk-dashed-wrapped {border: 1px dashed gray;margin: 0 0.4em 0.5em 0.4em;box-sizing: border-box;padding-bottom: 0.4em;background-color: white;}#sk-container-id-7 div.sk-label label {font-family: monospace;font-weight: bold;display: inline-block;line-height: 1.2em;}#sk-container-id-7 div.sk-label-container {text-align: center;}#sk-container-id-7 div.sk-container {/* jupyter's `normalize.less` sets `[hidden] { display: none; }` but bootstrap.min.css set `[hidden] { display: none !important; }` so we also need the `!important` here to be able to override the default hidden behavior on the sphinx rendered scikit-learn.org. See: https://github.com/scikit-learn/scikit-learn/issues/21755 */display: inline-block !important;position: relative;}#sk-container-id-7 div.sk-text-repr-fallback {display: none;}</style><div id=\"sk-container-id-7\" class=\"sk-top-container\"><div class=\"sk-text-repr-fallback\"><pre>KNeighborsClassifier(n_neighbors=1)</pre><b>In a Jupyter environment, please rerun this cell to show the HTML representation or trust the notebook. <br />On GitHub, the HTML representation is unable to render, please try loading this page with nbviewer.org.</b></div><div class=\"sk-container\" hidden><div class=\"sk-item\"><div class=\"sk-estimator sk-toggleable\"><input class=\"sk-toggleable__control sk-hidden--visually\" id=\"sk-estimator-id-7\" type=\"checkbox\" checked><label for=\"sk-estimator-id-7\" class=\"sk-toggleable__label sk-toggleable__label-arrow\">KNeighborsClassifier</label><div class=\"sk-toggleable__content\"><pre>KNeighborsClassifier(n_neighbors=1)</pre></div></div></div></div></div>"
            ],
            "text/plain": [
              "KNeighborsClassifier(n_neighbors=1)"
            ]
          },
          "execution_count": 112,
          "metadata": {},
          "output_type": "execute_result"
        }
      ],
      "source": [
        "from sklearn.neighbors import KNeighborsClassifier as k\n",
        "\n",
        "knn=k(n_neighbors=1)\n",
        "knn.fit(X_train_s,Y_train)\n"
      ]
    },
    {
      "cell_type": "code",
      "execution_count": null,
      "id": "d06c7f44",
      "metadata": {
        "id": "d06c7f44",
        "outputId": "5dfe8804-dbcd-425b-bad2-812633a2b15d"
      },
      "outputs": [
        {
          "name": "stderr",
          "output_type": "stream",
          "text": [
            "/home/student/anaconda3/lib/python3.10/site-packages/sklearn/base.py:413: UserWarning: X has feature names, but KNeighborsClassifier was fitted without feature names\n",
            "  warnings.warn(\n"
          ]
        },
        {
          "data": {
            "text/plain": [
              "0.49604743083003955"
            ]
          },
          "execution_count": 116,
          "metadata": {},
          "output_type": "execute_result"
        }
      ],
      "source": [
        "y_pred=knn.predict(X)\n",
        "confusion_matrix(Y,y_pred)\n",
        "accuracy_score(Y,y_pred)"
      ]
    },
    {
      "cell_type": "code",
      "execution_count": null,
      "id": "523b0be8",
      "metadata": {
        "id": "523b0be8"
      },
      "outputs": [],
      "source": []
    },
    {
      "cell_type": "code",
      "execution_count": null,
      "id": "9a18c2c3",
      "metadata": {
        "id": "9a18c2c3",
        "outputId": "77999547-d8ba-40f5-c61c-de6a44294f6e"
      },
      "outputs": [
        {
          "data": {
            "text/plain": [
              "array([[-1.16206495,  1.93477379,  1.03323679, ..., -0.3927922 ,\n",
              "        -0.66547513, -0.74420841],\n",
              "       [-0.31217231, -0.31688414, -0.41315956, ..., -0.3927922 ,\n",
              "        -0.66547513,  1.34370962],\n",
              "       [-0.36596298, -0.76277567, -0.71521823, ..., -0.3927922 ,\n",
              "         1.50268577, -0.74420841],\n",
              "       ...,\n",
              "       [ 0.18270189, -0.78165316, -1.30336132, ..., -0.3927922 ,\n",
              "         1.50268577, -0.74420841],\n",
              "       [-1.01145106,  1.66318011,  1.03323679, ...,  2.54587539,\n",
              "        -0.66547513, -0.74420841],\n",
              "       [-0.45202806, -0.59350534, -0.35216694, ...,  2.54587539,\n",
              "        -0.66547513, -0.74420841]])"
            ]
          },
          "execution_count": 115,
          "metadata": {},
          "output_type": "execute_result"
        }
      ],
      "source": [
        "X_train_s"
      ]
    },
    {
      "cell_type": "code",
      "execution_count": null,
      "id": "4011e55f",
      "metadata": {
        "id": "4011e55f",
        "outputId": "ac9d643d-546b-4143-c4c8-cda2486731f4"
      },
      "outputs": [
        {
          "data": {
            "text/plain": [
              "{'n_neighbors': 5}"
            ]
          },
          "execution_count": 141,
          "metadata": {},
          "output_type": "execute_result"
        }
      ],
      "source": [
        "from sklearn.model_selection import GridSearchCV as gs\n",
        "range={'n_neighbors':[1,2,4,5,6]}\n",
        "search=gs(k(),range)\n",
        "search.fit(X_train,Y_train)\n",
        "search.best_params_"
      ]
    },
    {
      "cell_type": "code",
      "execution_count": null,
      "id": "3d32f438",
      "metadata": {
        "id": "3d32f438",
        "outputId": "10b928aa-3922-43fb-e53b-e0e46bb1f3a6"
      },
      "outputs": [
        {
          "name": "stderr",
          "output_type": "stream",
          "text": [
            "/home/student/anaconda3/lib/python3.10/site-packages/sklearn/base.py:420: UserWarning: X does not have valid feature names, but KNeighborsClassifier was fitted with feature names\n",
            "  warnings.warn(\n"
          ]
        },
        {
          "data": {
            "text/plain": [
              "0.45098039215686275"
            ]
          },
          "execution_count": 142,
          "metadata": {},
          "output_type": "execute_result"
        }
      ],
      "source": [
        "opt=search.best_estimator_\n",
        "y_test_p=opt.predict(X_test_s)\n",
        "accuracy_score(Y_test,y_test_p)"
      ]
    }
  ],
  "metadata": {
    "kernelspec": {
      "display_name": "Python 3 (ipykernel)",
      "language": "python",
      "name": "python3"
    },
    "language_info": {
      "codemirror_mode": {
        "name": "ipython",
        "version": 3
      },
      "file_extension": ".py",
      "mimetype": "text/x-python",
      "name": "python",
      "nbconvert_exporter": "python",
      "pygments_lexer": "ipython3",
      "version": "3.10.9"
    },
    "colab": {
      "provenance": [],
      "include_colab_link": true
    }
  },
  "nbformat": 4,
  "nbformat_minor": 5
}